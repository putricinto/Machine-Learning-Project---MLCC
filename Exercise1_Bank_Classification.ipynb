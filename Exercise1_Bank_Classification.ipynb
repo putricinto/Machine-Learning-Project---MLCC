{
  "nbformat": 4,
  "nbformat_minor": 0,
  "metadata": {
    "colab": {
      "name": "Exercise1_Bank_Classification.ipynb",
      "provenance": [],
      "collapsed_sections": [],
      "toc_visible": true,
      "include_colab_link": true
    },
    "kernelspec": {
      "name": "python3",
      "display_name": "Python 3"
    }
  },
  "cells": [
    {
      "cell_type": "markdown",
      "metadata": {
        "id": "view-in-github",
        "colab_type": "text"
      },
      "source": [
        "<a href=\"https://colab.research.google.com/github/putricinto/Machine-Learning-Project---MLCC/blob/master/Exercise1_Bank_Classification.ipynb\" target=\"_parent\"><img src=\"https://colab.research.google.com/assets/colab-badge.svg\" alt=\"Open In Colab\"/></a>"
      ]
    },
    {
      "cell_type": "markdown",
      "metadata": {
        "id": "VsilqGJwfuHx",
        "colab_type": "text"
      },
      "source": [
        "# **Data Preparation**\n",
        "\n"
      ]
    },
    {
      "cell_type": "markdown",
      "metadata": {
        "id": "KAmOqDM4krRq",
        "colab_type": "text"
      },
      "source": [
        "## Import the Dataset with Pandas\n",
        "The data set used is **Bank Marketing** from [Kaggle](https://www.kaggle.com/rouseguy/bankbalanced)."
      ]
    },
    {
      "cell_type": "code",
      "metadata": {
        "id": "6qeOPperCdhl",
        "colab_type": "code",
        "colab": {}
      },
      "source": [
        "%tensorflow_version 2.x"
      ],
      "execution_count": 0,
      "outputs": []
    },
    {
      "cell_type": "code",
      "metadata": {
        "id": "aHykqvIfvT4M",
        "colab_type": "code",
        "colab": {}
      },
      "source": [
        "import pandas as pd\n",
        "import numpy as np\n",
        "from scipy import stats\n",
        "import sys\n",
        "import seaborn as sns\n",
        "import matplotlib.pyplot as plt\n",
        "from sklearn import preprocessing\n",
        "from sklearn.feature_selection import SelectKBest, chi2, f_regression\n",
        "import tensorflow as tf\n",
        "from tensorflow import feature_column\n",
        "from tensorflow.keras import layers\n",
        "from sklearn.model_selection import train_test_split\n",
        "from sklearn.metrics import classification_report, confusion_matrix"
      ],
      "execution_count": 0,
      "outputs": []
    },
    {
      "cell_type": "code",
      "metadata": {
        "id": "esFj5xR9vXQI",
        "colab_type": "code",
        "outputId": "a7525463-e4ce-4788-8224-39b040c0755f",
        "colab": {
          "base_uri": "https://localhost:8080/",
          "height": 456
        }
      },
      "source": [
        "url = 'https://raw.githubusercontent.com/putricinto/Machine-Learning-Project---MLCC/master/bank.csv'\n",
        "bank = pd.read_csv(url)\n",
        "bank"
      ],
      "execution_count": 64,
      "outputs": [
        {
          "output_type": "execute_result",
          "data": {
            "text/html": [
              "<div>\n",
              "<style scoped>\n",
              "    .dataframe tbody tr th:only-of-type {\n",
              "        vertical-align: middle;\n",
              "    }\n",
              "\n",
              "    .dataframe tbody tr th {\n",
              "        vertical-align: top;\n",
              "    }\n",
              "\n",
              "    .dataframe thead th {\n",
              "        text-align: right;\n",
              "    }\n",
              "</style>\n",
              "<table border=\"1\" class=\"dataframe\">\n",
              "  <thead>\n",
              "    <tr style=\"text-align: right;\">\n",
              "      <th></th>\n",
              "      <th>age</th>\n",
              "      <th>job</th>\n",
              "      <th>marital</th>\n",
              "      <th>education</th>\n",
              "      <th>default</th>\n",
              "      <th>balance</th>\n",
              "      <th>housing</th>\n",
              "      <th>loan</th>\n",
              "      <th>contact</th>\n",
              "      <th>day</th>\n",
              "      <th>month</th>\n",
              "      <th>duration</th>\n",
              "      <th>campaign</th>\n",
              "      <th>pdays</th>\n",
              "      <th>previous</th>\n",
              "      <th>poutcome</th>\n",
              "      <th>deposit</th>\n",
              "    </tr>\n",
              "  </thead>\n",
              "  <tbody>\n",
              "    <tr>\n",
              "      <th>0</th>\n",
              "      <td>59</td>\n",
              "      <td>admin.</td>\n",
              "      <td>married</td>\n",
              "      <td>secondary</td>\n",
              "      <td>no</td>\n",
              "      <td>2343</td>\n",
              "      <td>yes</td>\n",
              "      <td>no</td>\n",
              "      <td>unknown</td>\n",
              "      <td>5</td>\n",
              "      <td>may</td>\n",
              "      <td>1042</td>\n",
              "      <td>1</td>\n",
              "      <td>-1</td>\n",
              "      <td>0</td>\n",
              "      <td>unknown</td>\n",
              "      <td>yes</td>\n",
              "    </tr>\n",
              "    <tr>\n",
              "      <th>1</th>\n",
              "      <td>56</td>\n",
              "      <td>admin.</td>\n",
              "      <td>married</td>\n",
              "      <td>secondary</td>\n",
              "      <td>no</td>\n",
              "      <td>45</td>\n",
              "      <td>no</td>\n",
              "      <td>no</td>\n",
              "      <td>unknown</td>\n",
              "      <td>5</td>\n",
              "      <td>may</td>\n",
              "      <td>1467</td>\n",
              "      <td>1</td>\n",
              "      <td>-1</td>\n",
              "      <td>0</td>\n",
              "      <td>unknown</td>\n",
              "      <td>yes</td>\n",
              "    </tr>\n",
              "    <tr>\n",
              "      <th>2</th>\n",
              "      <td>41</td>\n",
              "      <td>technician</td>\n",
              "      <td>married</td>\n",
              "      <td>secondary</td>\n",
              "      <td>no</td>\n",
              "      <td>1270</td>\n",
              "      <td>yes</td>\n",
              "      <td>no</td>\n",
              "      <td>unknown</td>\n",
              "      <td>5</td>\n",
              "      <td>may</td>\n",
              "      <td>1389</td>\n",
              "      <td>1</td>\n",
              "      <td>-1</td>\n",
              "      <td>0</td>\n",
              "      <td>unknown</td>\n",
              "      <td>yes</td>\n",
              "    </tr>\n",
              "    <tr>\n",
              "      <th>3</th>\n",
              "      <td>55</td>\n",
              "      <td>services</td>\n",
              "      <td>married</td>\n",
              "      <td>secondary</td>\n",
              "      <td>no</td>\n",
              "      <td>2476</td>\n",
              "      <td>yes</td>\n",
              "      <td>no</td>\n",
              "      <td>unknown</td>\n",
              "      <td>5</td>\n",
              "      <td>may</td>\n",
              "      <td>579</td>\n",
              "      <td>1</td>\n",
              "      <td>-1</td>\n",
              "      <td>0</td>\n",
              "      <td>unknown</td>\n",
              "      <td>yes</td>\n",
              "    </tr>\n",
              "    <tr>\n",
              "      <th>4</th>\n",
              "      <td>54</td>\n",
              "      <td>admin.</td>\n",
              "      <td>married</td>\n",
              "      <td>tertiary</td>\n",
              "      <td>no</td>\n",
              "      <td>184</td>\n",
              "      <td>no</td>\n",
              "      <td>no</td>\n",
              "      <td>unknown</td>\n",
              "      <td>5</td>\n",
              "      <td>may</td>\n",
              "      <td>673</td>\n",
              "      <td>2</td>\n",
              "      <td>-1</td>\n",
              "      <td>0</td>\n",
              "      <td>unknown</td>\n",
              "      <td>yes</td>\n",
              "    </tr>\n",
              "    <tr>\n",
              "      <th>...</th>\n",
              "      <td>...</td>\n",
              "      <td>...</td>\n",
              "      <td>...</td>\n",
              "      <td>...</td>\n",
              "      <td>...</td>\n",
              "      <td>...</td>\n",
              "      <td>...</td>\n",
              "      <td>...</td>\n",
              "      <td>...</td>\n",
              "      <td>...</td>\n",
              "      <td>...</td>\n",
              "      <td>...</td>\n",
              "      <td>...</td>\n",
              "      <td>...</td>\n",
              "      <td>...</td>\n",
              "      <td>...</td>\n",
              "      <td>...</td>\n",
              "    </tr>\n",
              "    <tr>\n",
              "      <th>11157</th>\n",
              "      <td>33</td>\n",
              "      <td>blue-collar</td>\n",
              "      <td>single</td>\n",
              "      <td>primary</td>\n",
              "      <td>no</td>\n",
              "      <td>1</td>\n",
              "      <td>yes</td>\n",
              "      <td>no</td>\n",
              "      <td>cellular</td>\n",
              "      <td>20</td>\n",
              "      <td>apr</td>\n",
              "      <td>257</td>\n",
              "      <td>1</td>\n",
              "      <td>-1</td>\n",
              "      <td>0</td>\n",
              "      <td>unknown</td>\n",
              "      <td>no</td>\n",
              "    </tr>\n",
              "    <tr>\n",
              "      <th>11158</th>\n",
              "      <td>39</td>\n",
              "      <td>services</td>\n",
              "      <td>married</td>\n",
              "      <td>secondary</td>\n",
              "      <td>no</td>\n",
              "      <td>733</td>\n",
              "      <td>no</td>\n",
              "      <td>no</td>\n",
              "      <td>unknown</td>\n",
              "      <td>16</td>\n",
              "      <td>jun</td>\n",
              "      <td>83</td>\n",
              "      <td>4</td>\n",
              "      <td>-1</td>\n",
              "      <td>0</td>\n",
              "      <td>unknown</td>\n",
              "      <td>no</td>\n",
              "    </tr>\n",
              "    <tr>\n",
              "      <th>11159</th>\n",
              "      <td>32</td>\n",
              "      <td>technician</td>\n",
              "      <td>single</td>\n",
              "      <td>secondary</td>\n",
              "      <td>no</td>\n",
              "      <td>29</td>\n",
              "      <td>no</td>\n",
              "      <td>no</td>\n",
              "      <td>cellular</td>\n",
              "      <td>19</td>\n",
              "      <td>aug</td>\n",
              "      <td>156</td>\n",
              "      <td>2</td>\n",
              "      <td>-1</td>\n",
              "      <td>0</td>\n",
              "      <td>unknown</td>\n",
              "      <td>no</td>\n",
              "    </tr>\n",
              "    <tr>\n",
              "      <th>11160</th>\n",
              "      <td>43</td>\n",
              "      <td>technician</td>\n",
              "      <td>married</td>\n",
              "      <td>secondary</td>\n",
              "      <td>no</td>\n",
              "      <td>0</td>\n",
              "      <td>no</td>\n",
              "      <td>yes</td>\n",
              "      <td>cellular</td>\n",
              "      <td>8</td>\n",
              "      <td>may</td>\n",
              "      <td>9</td>\n",
              "      <td>2</td>\n",
              "      <td>172</td>\n",
              "      <td>5</td>\n",
              "      <td>failure</td>\n",
              "      <td>no</td>\n",
              "    </tr>\n",
              "    <tr>\n",
              "      <th>11161</th>\n",
              "      <td>34</td>\n",
              "      <td>technician</td>\n",
              "      <td>married</td>\n",
              "      <td>secondary</td>\n",
              "      <td>no</td>\n",
              "      <td>0</td>\n",
              "      <td>no</td>\n",
              "      <td>no</td>\n",
              "      <td>cellular</td>\n",
              "      <td>9</td>\n",
              "      <td>jul</td>\n",
              "      <td>628</td>\n",
              "      <td>1</td>\n",
              "      <td>-1</td>\n",
              "      <td>0</td>\n",
              "      <td>unknown</td>\n",
              "      <td>no</td>\n",
              "    </tr>\n",
              "  </tbody>\n",
              "</table>\n",
              "<p>11162 rows × 17 columns</p>\n",
              "</div>"
            ],
            "text/plain": [
              "       age          job  marital  education  ... pdays  previous poutcome deposit\n",
              "0       59       admin.  married  secondary  ...    -1         0  unknown     yes\n",
              "1       56       admin.  married  secondary  ...    -1         0  unknown     yes\n",
              "2       41   technician  married  secondary  ...    -1         0  unknown     yes\n",
              "3       55     services  married  secondary  ...    -1         0  unknown     yes\n",
              "4       54       admin.  married   tertiary  ...    -1         0  unknown     yes\n",
              "...    ...          ...      ...        ...  ...   ...       ...      ...     ...\n",
              "11157   33  blue-collar   single    primary  ...    -1         0  unknown      no\n",
              "11158   39     services  married  secondary  ...    -1         0  unknown      no\n",
              "11159   32   technician   single  secondary  ...    -1         0  unknown      no\n",
              "11160   43   technician  married  secondary  ...   172         5  failure      no\n",
              "11161   34   technician  married  secondary  ...    -1         0  unknown      no\n",
              "\n",
              "[11162 rows x 17 columns]"
            ]
          },
          "metadata": {
            "tags": []
          },
          "execution_count": 64
        }
      ]
    },
    {
      "cell_type": "markdown",
      "metadata": {
        "id": "kcchdmFFDNmV",
        "colab_type": "text"
      },
      "source": [
        "**Informations and Charactheristics of The Data**"
      ]
    },
    {
      "cell_type": "code",
      "metadata": {
        "id": "TODGBWrPBChN",
        "colab_type": "code",
        "outputId": "ac9e428b-b807-4ec9-ac38-05cef9e7bb7a",
        "colab": {
          "base_uri": "https://localhost:8080/",
          "height": 391
        }
      },
      "source": [
        "bank.info()"
      ],
      "execution_count": 5,
      "outputs": [
        {
          "output_type": "stream",
          "text": [
            "<class 'pandas.core.frame.DataFrame'>\n",
            "RangeIndex: 11162 entries, 0 to 11161\n",
            "Data columns (total 17 columns):\n",
            "age          11162 non-null int64\n",
            "job          11162 non-null object\n",
            "marital      11162 non-null object\n",
            "education    11162 non-null object\n",
            "default      11162 non-null object\n",
            "balance      11162 non-null int64\n",
            "housing      11162 non-null object\n",
            "loan         11162 non-null object\n",
            "contact      11162 non-null object\n",
            "day          11162 non-null int64\n",
            "month        11162 non-null object\n",
            "duration     11162 non-null int64\n",
            "campaign     11162 non-null int64\n",
            "pdays        11162 non-null int64\n",
            "previous     11162 non-null int64\n",
            "poutcome     11162 non-null object\n",
            "deposit      11162 non-null object\n",
            "dtypes: int64(7), object(10)\n",
            "memory usage: 1.4+ MB\n"
          ],
          "name": "stdout"
        }
      ]
    },
    {
      "cell_type": "code",
      "metadata": {
        "id": "AFXeG4yVGBQo",
        "colab_type": "code",
        "colab": {
          "base_uri": "https://localhost:8080/",
          "height": 297
        },
        "outputId": "f402f0a1-bfea-4e66-d81d-b9ce5e83a8d0"
      },
      "source": [
        "bank.describe()"
      ],
      "execution_count": 6,
      "outputs": [
        {
          "output_type": "execute_result",
          "data": {
            "text/html": [
              "<div>\n",
              "<style scoped>\n",
              "    .dataframe tbody tr th:only-of-type {\n",
              "        vertical-align: middle;\n",
              "    }\n",
              "\n",
              "    .dataframe tbody tr th {\n",
              "        vertical-align: top;\n",
              "    }\n",
              "\n",
              "    .dataframe thead th {\n",
              "        text-align: right;\n",
              "    }\n",
              "</style>\n",
              "<table border=\"1\" class=\"dataframe\">\n",
              "  <thead>\n",
              "    <tr style=\"text-align: right;\">\n",
              "      <th></th>\n",
              "      <th>age</th>\n",
              "      <th>balance</th>\n",
              "      <th>day</th>\n",
              "      <th>duration</th>\n",
              "      <th>campaign</th>\n",
              "      <th>pdays</th>\n",
              "      <th>previous</th>\n",
              "    </tr>\n",
              "  </thead>\n",
              "  <tbody>\n",
              "    <tr>\n",
              "      <th>count</th>\n",
              "      <td>11162.000000</td>\n",
              "      <td>11162.000000</td>\n",
              "      <td>11162.000000</td>\n",
              "      <td>11162.000000</td>\n",
              "      <td>11162.000000</td>\n",
              "      <td>11162.000000</td>\n",
              "      <td>11162.000000</td>\n",
              "    </tr>\n",
              "    <tr>\n",
              "      <th>mean</th>\n",
              "      <td>41.231948</td>\n",
              "      <td>1528.538524</td>\n",
              "      <td>15.658036</td>\n",
              "      <td>371.993818</td>\n",
              "      <td>2.508421</td>\n",
              "      <td>51.330407</td>\n",
              "      <td>0.832557</td>\n",
              "    </tr>\n",
              "    <tr>\n",
              "      <th>std</th>\n",
              "      <td>11.913369</td>\n",
              "      <td>3225.413326</td>\n",
              "      <td>8.420740</td>\n",
              "      <td>347.128386</td>\n",
              "      <td>2.722077</td>\n",
              "      <td>108.758282</td>\n",
              "      <td>2.292007</td>\n",
              "    </tr>\n",
              "    <tr>\n",
              "      <th>min</th>\n",
              "      <td>18.000000</td>\n",
              "      <td>-6847.000000</td>\n",
              "      <td>1.000000</td>\n",
              "      <td>2.000000</td>\n",
              "      <td>1.000000</td>\n",
              "      <td>-1.000000</td>\n",
              "      <td>0.000000</td>\n",
              "    </tr>\n",
              "    <tr>\n",
              "      <th>25%</th>\n",
              "      <td>32.000000</td>\n",
              "      <td>122.000000</td>\n",
              "      <td>8.000000</td>\n",
              "      <td>138.000000</td>\n",
              "      <td>1.000000</td>\n",
              "      <td>-1.000000</td>\n",
              "      <td>0.000000</td>\n",
              "    </tr>\n",
              "    <tr>\n",
              "      <th>50%</th>\n",
              "      <td>39.000000</td>\n",
              "      <td>550.000000</td>\n",
              "      <td>15.000000</td>\n",
              "      <td>255.000000</td>\n",
              "      <td>2.000000</td>\n",
              "      <td>-1.000000</td>\n",
              "      <td>0.000000</td>\n",
              "    </tr>\n",
              "    <tr>\n",
              "      <th>75%</th>\n",
              "      <td>49.000000</td>\n",
              "      <td>1708.000000</td>\n",
              "      <td>22.000000</td>\n",
              "      <td>496.000000</td>\n",
              "      <td>3.000000</td>\n",
              "      <td>20.750000</td>\n",
              "      <td>1.000000</td>\n",
              "    </tr>\n",
              "    <tr>\n",
              "      <th>max</th>\n",
              "      <td>95.000000</td>\n",
              "      <td>81204.000000</td>\n",
              "      <td>31.000000</td>\n",
              "      <td>3881.000000</td>\n",
              "      <td>63.000000</td>\n",
              "      <td>854.000000</td>\n",
              "      <td>58.000000</td>\n",
              "    </tr>\n",
              "  </tbody>\n",
              "</table>\n",
              "</div>"
            ],
            "text/plain": [
              "                age       balance  ...         pdays      previous\n",
              "count  11162.000000  11162.000000  ...  11162.000000  11162.000000\n",
              "mean      41.231948   1528.538524  ...     51.330407      0.832557\n",
              "std       11.913369   3225.413326  ...    108.758282      2.292007\n",
              "min       18.000000  -6847.000000  ...     -1.000000      0.000000\n",
              "25%       32.000000    122.000000  ...     -1.000000      0.000000\n",
              "50%       39.000000    550.000000  ...     -1.000000      0.000000\n",
              "75%       49.000000   1708.000000  ...     20.750000      1.000000\n",
              "max       95.000000  81204.000000  ...    854.000000     58.000000\n",
              "\n",
              "[8 rows x 7 columns]"
            ]
          },
          "metadata": {
            "tags": []
          },
          "execution_count": 6
        }
      ]
    },
    {
      "cell_type": "code",
      "metadata": {
        "id": "meytVFCFGT-D",
        "colab_type": "code",
        "colab": {
          "base_uri": "https://localhost:8080/",
          "height": 326
        },
        "outputId": "4c8f1d7a-e4b2-4509-e526-9a1aa43efdbd"
      },
      "source": [
        "sns.heatmap(bank.corr())"
      ],
      "execution_count": 9,
      "outputs": [
        {
          "output_type": "execute_result",
          "data": {
            "text/plain": [
              "<matplotlib.axes._subplots.AxesSubplot at 0x7f9b7dc942b0>"
            ]
          },
          "metadata": {
            "tags": []
          },
          "execution_count": 9
        },
        {
          "output_type": "display_data",
          "data": {
            "image/png": "[encoded data removed]",
            "text/plain": [
              "<Figure size 432x288 with 2 Axes>"
            ]
          },
          "metadata": {
            "tags": []
          }
        }
      ]
    },
    {
      "cell_type": "code",
      "metadata": {
        "id": "VBhE2K4cKQpU",
        "colab_type": "code",
        "colab": {
          "base_uri": "https://localhost:8080/",
          "height": 68
        },
        "outputId": "0e21eb51-068f-4eb6-9d4e-7a824ab57b27"
      },
      "source": [
        "bank['job'].unique()"
      ],
      "execution_count": 15,
      "outputs": [
        {
          "output_type": "execute_result",
          "data": {
            "text/plain": [
              "array(['admin.', 'technician', 'services', 'management', 'retired',\n",
              "       'blue-collar', 'unemployed', 'entrepreneur', 'housemaid',\n",
              "       'unknown', 'self-employed', 'student'], dtype=object)"
            ]
          },
          "metadata": {
            "tags": []
          },
          "execution_count": 15
        }
      ]
    },
    {
      "cell_type": "markdown",
      "metadata": {
        "id": "h0WkQrOfxg2H",
        "colab_type": "text"
      },
      "source": [
        "## Data Visualization"
      ]
    },
    {
      "cell_type": "code",
      "metadata": {
        "id": "oWdu1wRWA-dm",
        "colab_type": "code",
        "outputId": "abf0befe-abfe-47cf-c6e8-5c0cc42d7885",
        "colab": {
          "base_uri": "https://localhost:8080/",
          "height": 248
        }
      },
      "source": [
        "#Pie Chart of The Label (Deposit)\n",
        "y=list(bank['deposit'])\n",
        "labels = 'yes', 'no'\n",
        "sizes = [y.count('yes'), y.count('no')]\n",
        "\n",
        "fig1, ax1 = plt.subplots()\n",
        "ax1.pie(sizes, labels=labels, autopct='%1.1f%%', startangle=90)\n",
        "ax1.axis('equal')  # Equal aspect ratio ensures that pie is drawn as a circle.\n",
        "\n",
        "plt.show()"
      ],
      "execution_count": 7,
      "outputs": [
        {
          "output_type": "display_data",
          "data": {
            "image/png": "[encoded data removed]",
            "text/plain": [
              "<Figure size 432x288 with 1 Axes>"
            ]
          },
          "metadata": {
            "tags": []
          }
        }
      ]
    },
    {
      "cell_type": "code",
      "metadata": {
        "id": "EH9qQ5UlBbCk",
        "colab_type": "code",
        "outputId": "d61df0d7-e00d-4549-82f2-f46c6937bcfc",
        "colab": {
          "base_uri": "https://localhost:8080/",
          "height": 607
        }
      },
      "source": [
        "#Histogram of Numerical Variables\n",
        "fig, axs = plt.subplots(2, 4, figsize=(15, 10))\n",
        "axs[0, 0].hist(bank['age'])\n",
        "axs[0, 0].set_title('age')\n",
        "\n",
        "axs[0, 1].hist(bank['balance'])\n",
        "axs[0, 1].set_title('balance')\n",
        "\n",
        "axs[0, 2].hist(bank['day'])\n",
        "axs[0, 2].set_title('day')\n",
        "\n",
        "axs[0, 3].hist(bank['duration'])\n",
        "axs[0, 3].set_title('duration')\n",
        "\n",
        "axs[1, 0].hist(bank['campaign'])\n",
        "axs[1, 0].set_title('campaign')\n",
        "\n",
        "axs[1, 1].hist(bank['pdays'])\n",
        "axs[1, 1].set_title('pdays')\n",
        "\n",
        "axs[1, 2].hist(bank['previous'])\n",
        "axs[1, 2].set_title('previous')\n",
        "\n",
        "plt.show()"
      ],
      "execution_count": 8,
      "outputs": [
        {
          "output_type": "display_data",
          "data": {
            "image/png": "[encoded data removed]",
            "text/plain": [
              "<Figure size 1080x720 with 8 Axes>"
            ]
          },
          "metadata": {
            "tags": []
          }
        }
      ]
    },
    {
      "cell_type": "code",
      "metadata": {
        "id": "8IhCUIYDGYUx",
        "colab_type": "code",
        "colab": {
          "base_uri": "https://localhost:8080/",
          "height": 363
        },
        "outputId": "787b4837-f740-4599-dc25-a5eedf35149b"
      },
      "source": [
        "#Job Variable\n",
        "job = bank['job'].value_counts()\n",
        "m_height = job.values.tolist() #Provides numerical values\n",
        "job.axes #Provides row labels\n",
        "job_labels = job.axes[0].tolist() #Converts index object to list\n",
        "\n",
        "#=====PLOT Preparations and Plotting====#\n",
        "ind = np.arange(12)  # the x locations for the groups\n",
        "width = 0.7        # the width of the bars\n",
        "fig, ax = plt.subplots(figsize=(15,5))\n",
        "client_bars = ax.bar(ind, m_height , width)\n",
        "\n",
        "#Add some text for labels, title and axes ticks\n",
        "ax.set_xlabel(\"Job\",fontsize=20)\n",
        "ax.set_ylabel('Numbers of Client',fontsize=15)\n",
        "ax.set_title('Client Job Quantity',fontsize=17)\n",
        "ax.set_xticks(ind) #Positioning on the x axis\n",
        "ax.set_xticklabels(('admin.', 'technician', 'services', 'management', 'retired',\n",
        "       'blue-collar', 'unemployed', 'entrepreneur', 'housemaid',\n",
        "       'unknown', 'self-employed', 'student'))\n",
        "\n",
        "#Auto-labels the number of mushrooms for each bar color.\n",
        "def autolabel(rects,fontsize=10):\n",
        "    \"\"\"\n",
        "    Attach a text label above each bar displaying its height\n",
        "    \"\"\"\n",
        "    for rect in rects:\n",
        "        height = rect.get_height()\n",
        "        ax.text(rect.get_x() + rect.get_width()/2., 1*height,'%d' % int(height),\n",
        "                ha='center', va='bottom',fontsize=fontsize)\n",
        "autolabel(client_bars)        \n",
        "plt.show() "
      ],
      "execution_count": 37,
      "outputs": [
        {
          "output_type": "display_data",
          "data": {
            "image/png": "[encoded data removed]",
            "text/plain": [
              "<Figure size 1080x360 with 1 Axes>"
            ]
          },
          "metadata": {
            "tags": []
          }
        }
      ]
    },
    {
      "cell_type": "code",
      "metadata": {
        "id": "sv2FKUK4MmbH",
        "colab_type": "code",
        "colab": {
          "base_uri": "https://localhost:8080/",
          "height": 350
        },
        "outputId": "81ae592b-c88e-49c0-e3f0-2d797d203432"
      },
      "source": [
        "#Education Variable\n",
        "education = bank['education'].value_counts()\n",
        "m_height = education.values.tolist() #Provides numerical values\n",
        "education.axes #Provides row labels\n",
        "education_labels = education.axes[0].tolist() #Converts index object to list\n",
        "\n",
        "#=====PLOT Preparations and Plotting====#\n",
        "ind = np.arange(4)  # the x locations for the groups\n",
        "width = 0.5        # the width of the bars\n",
        "fig, ax = plt.subplots(figsize=(8,5))\n",
        "client_bars = ax.bar(ind, m_height , width)\n",
        "\n",
        "#Add some text for labels, title and axes ticks\n",
        "ax.set_xlabel(\"Education\",fontsize=10)\n",
        "ax.set_ylabel('Numbers of Client',fontsize=10)\n",
        "ax.set_title('Client Education Quantity',fontsize=12)\n",
        "ax.set_xticks(ind) #Positioning on the x axis\n",
        "ax.set_xticklabels(('secondary', 'tertiary', 'primary', 'unknown'))\n",
        "\n",
        "#Auto-labels the number of mushrooms for each bar color.\n",
        "def autolabel(rects,fontsize=10):\n",
        "    \"\"\"\n",
        "    Attach a text label above each bar displaying its height\n",
        "    \"\"\"\n",
        "    for rect in rects:\n",
        "        height = rect.get_height()\n",
        "        ax.text(rect.get_x() + rect.get_width()/2., 1*height,'%d' % int(height),\n",
        "                ha='center', va='bottom',fontsize=fontsize)\n",
        "autolabel(client_bars)        \n",
        "plt.show() "
      ],
      "execution_count": 35,
      "outputs": [
        {
          "output_type": "display_data",
          "data": {
            "image/png": "[encoded data removed]",
            "text/plain": [
              "<Figure size 576x360 with 1 Axes>"
            ]
          },
          "metadata": {
            "tags": []
          }
        }
      ]
    },
    {
      "cell_type": "code",
      "metadata": {
        "id": "bt7lPPHKOAoP",
        "colab_type": "code",
        "colab": {
          "base_uri": "https://localhost:8080/",
          "height": 350
        },
        "outputId": "a703b9d6-c5d3-4189-8939-0022d85bf83d"
      },
      "source": [
        "#Marital Variable\n",
        "marital = bank['marital'].value_counts()\n",
        "m_height = marital.values.tolist() #Provides numerical values\n",
        "marital.axes #Provides row labels\n",
        "marital_labels = marital.axes[0].tolist() #Converts index object to list\n",
        "\n",
        "#=====PLOT Preparations and Plotting====#\n",
        "ind = np.arange(3)  # the x locations for the groups\n",
        "width = 0.5        # the width of the bars\n",
        "fig, ax = plt.subplots(figsize=(8,5))\n",
        "client_bars = ax.bar(ind, m_height , width)\n",
        "\n",
        "#Add some text for labels, title and axes ticks\n",
        "ax.set_xlabel(\"Marital\",fontsize=10)\n",
        "ax.set_ylabel('Numbers of Client',fontsize=10)\n",
        "ax.set_title('Client Marital Quantity',fontsize=12)\n",
        "ax.set_xticks(ind) #Positioning on the x axis\n",
        "ax.set_xticklabels(('married', 'single', 'divorced'))\n",
        "\n",
        "#Auto-labels the number of mushrooms for each bar color.\n",
        "def autolabel(rects,fontsize=10):\n",
        "    \"\"\"\n",
        "    Attach a text label above each bar displaying its height\n",
        "    \"\"\"\n",
        "    for rect in rects:\n",
        "        height = rect.get_height()\n",
        "        ax.text(rect.get_x() + rect.get_width()/2., 1*height,'%d' % int(height),\n",
        "                ha='center', va='bottom',fontsize=fontsize)\n",
        "autolabel(client_bars)        \n",
        "plt.show() "
      ],
      "execution_count": 36,
      "outputs": [
        {
          "output_type": "display_data",
          "data": {
            "image/png": "[encoded data removed]",
            "text/plain": [
              "<Figure size 576x360 with 1 Axes>"
            ]
          },
          "metadata": {
            "tags": []
          }
        }
      ]
    },
    {
      "cell_type": "code",
      "metadata": {
        "id": "ym1KlW1oO7IA",
        "colab_type": "code",
        "colab": {
          "base_uri": "https://localhost:8080/",
          "height": 590
        },
        "outputId": "ab7323e2-79c4-4780-dfb8-4187e7010d7f"
      },
      "source": [
        "#Pie Chart of The Label (Deposit)\n",
        "fig, axs = plt.subplots(2, 2, figsize=(15, 10))\n",
        "\n",
        "y_default=list(bank['default'])\n",
        "labels_default = 'yes', 'no', \n",
        "sizes_default = [y_default.count('yes'), y_default.count('no')]\n",
        "axs[0,0].pie(sizes_default, labels=labels_default,autopct='%1.1f%%', startangle=90)\n",
        "axs[0,0].axis('equal')  # Equal aspect ratio ensures that pie is drawn as a circle.\n",
        "axs[0,0].set_title('default')\n",
        "\n",
        "y_housing=list(bank['housing'])\n",
        "labels_housing = 'yes', 'no'\n",
        "sizes_housing = [y_housing.count('yes'), y_housing.count('no')]\n",
        "axs[0,1].pie(sizes_housing, labels=labels_housing,autopct='%1.1f%%', startangle=90)\n",
        "axs[0,1].axis('equal')  # Equal aspect ratio ensures that pie is drawn as a circle.\n",
        "axs[0,1].set_title('housing')\n",
        "\n",
        "y_loan=list(bank['loan'])\n",
        "labels_loan = 'yes', 'no'\n",
        "sizes_loan = [y_loan.count('yes'), y_loan.count('no')]\n",
        "axs[1,0].pie(sizes_loan, labels=labels_loan,autopct='%1.1f%%', startangle=90)\n",
        "axs[1,0].axis('equal')  # Equal aspect ratio ensures that pie is drawn as a circle.\n",
        "axs[1,0].set_title('loan')\n",
        "\n",
        "y_contact=list(bank['contact'])\n",
        "labels_contact = 'cellular', 'telephone','unknown'\n",
        "sizes_contact = [y_contact.count('cellular'), y_contact.count('telephone'),y_contact.count('unknown')]\n",
        "axs[1,1].pie(sizes_contact, labels=labels_contact,autopct='%1.1f%%', startangle=90)\n",
        "axs[1,1].axis('equal')  # Equal aspect ratio ensures that pie is drawn as a circle.\n",
        "axs[1,1].set_title('unknown')\n",
        "plt.show()"
      ],
      "execution_count": 56,
      "outputs": [
        {
          "output_type": "display_data",
          "data": {
            "image/png": "[encoded data removed]",
            "text/plain": [
              "<Figure size 1080x720 with 4 Axes>"
            ]
          },
          "metadata": {
            "tags": []
          }
        }
      ]
    },
    {
      "cell_type": "markdown",
      "metadata": {
        "id": "h6lOZy3VUUAg",
        "colab_type": "text"
      },
      "source": [
        "## **Feature Selection**"
      ]
    },
    {
      "cell_type": "code",
      "metadata": {
        "id": "fBruEhv_GNMY",
        "colab_type": "code",
        "colab": {
          "base_uri": "https://localhost:8080/",
          "height": 170
        },
        "outputId": "d7a4c008-e3a9-4234-b37c-cda52cddff20"
      },
      "source": [
        "df=bank.copy()\n",
        "df['deposit'].replace({'yes':1,'no':0},inplace = True)\n",
        "df['education'].replace({'unknown':0,'primary': 1, 'secondary': 2, 'tertiary': 3 },inplace = True)\n",
        "df['marital'].replace({'single':0,'married': 1, 'divorced': 2,  },inplace = True)\n",
        "df['default'].replace({'no':0,'yes':1}, inplace=True)\n",
        "df['housing'].replace({'no':0,'yes':1}, inplace=True)\n",
        "df['loan'].replace({'no':0,'yes':1}, inplace=True)\n",
        "df['contact'].replace({'unknown':0,'cellular':1,'telephone':2}, inplace=True)\n",
        "df['poutcome'].replace({'unknown':0,'failure': 1, 'success': 2, 'other':3},inplace = True)\n",
        "df['month'].replace({'jan':0,'feb':1,'mar':2,'apr':3,'may':4,'jun':5,'jul':6,'aug':7,'sep':8,'oct':9,'nov':10,'dec':12}, inplace=True)\n",
        "le=preprocessing.LabelEncoder()\n",
        "aa=le.fit(df.iloc[0:,1])\n",
        "a=le.transform(df.iloc[0:,1])\n",
        "df['job']=a\n",
        "categorical_columns = ['job', 'education','marital','default','housing','loan','contact','month','poutcome']\n",
        "for col in categorical_columns:\n",
        "    print(np.unique(df[col]))\n",
        "bank_y=df['deposit']\n",
        "df=df.drop(['deposit'],1)\n",
        "df['deposit']=pd.DataFrame(bank_y)\n"
      ],
      "execution_count": 70,
      "outputs": [
        {
          "output_type": "stream",
          "text": [
            "[ 0  1  2  3  4  5  6  7  8  9 10 11]\n",
            "[0 1 2 3]\n",
            "[0 1 2]\n",
            "[0 1]\n",
            "[0 1]\n",
            "[0 1]\n",
            "[0 1 2]\n",
            "[ 0  1  2  3  4  5  6  7  8  9 10 12]\n",
            "[0 1 2 3]\n"
          ],
          "name": "stdout"
        }
      ]
    },
    {
      "cell_type": "code",
      "metadata": {
        "id": "_HTluiacS9fD",
        "colab_type": "code",
        "colab": {
          "base_uri": "https://localhost:8080/",
          "height": 68
        },
        "outputId": "a91305ae-23ae-4523-d879-6bab3c14ba0d"
      },
      "source": [
        "#feature selection\n",
        "X=df.iloc[:,0:16]\n",
        "y=df.iloc[:,16]\n",
        "selector=SelectKBest(f_regression, k=11).fit(X,y)\n",
        "X_new=selector.transform(X)\n",
        "scores=selector.scores_\n",
        "print(X.columns[selector.get_support(indices=True)])"
      ],
      "execution_count": 72,
      "outputs": [
        {
          "output_type": "stream",
          "text": [
            "Index(['marital', 'education', 'balance', 'housing', 'loan', 'contact',\n",
            "       'duration', 'campaign', 'pdays', 'previous', 'poutcome'],\n",
            "      dtype='object')\n"
          ],
          "name": "stdout"
        }
      ]
    },
    {
      "cell_type": "code",
      "metadata": {
        "id": "QJ8dXC1GTEK5",
        "colab_type": "code",
        "colab": {
          "base_uri": "https://localhost:8080/",
          "height": 285
        },
        "outputId": "5db51866-00c1-45f5-a2aa-ae0e5fa9cdb2"
      },
      "source": [
        "g=pd.DataFrame([])\n",
        "g['Variabel']=list(X)\n",
        "g['Skor']=scores.astype(int)\n",
        "sns.set(style=\"whitegrid\")\n",
        "g=g.sort_values('Skor')\n",
        "gx = sns.barplot(x=\"Skor\", y=\"Variabel\", data=g)\n",
        "plt.show()"
      ],
      "execution_count": 73,
      "outputs": [
        {
          "output_type": "display_data",
          "data": {
            "image/png": "[encoded data removed]",
            "text/plain": [
              "<Figure size 432x288 with 1 Axes>"
            ]
          },
          "metadata": {
            "tags": []
          }
        }
      ]
    },
    {
      "cell_type": "markdown",
      "metadata": {
        "id": "xi3oVdUbx_W6",
        "colab_type": "text"
      },
      "source": [
        "# **Classify Features Data**\n",
        "Using **TensorFlow Feature Columns** as a bridge to map from columns in a CSV to features used to train the model"
      ]
    },
    {
      "cell_type": "code",
      "metadata": {
        "id": "pnbotI5vez7p",
        "colab_type": "code",
        "colab": {}
      },
      "source": [
        "data = bank.copy()\n",
        "dict_of_feature_column = {}\n",
        "data = data.drop(['month','age'],axis=1)\n",
        "\n",
        "for i in data.columns:\n",
        "\n",
        "  # for Categorical Features\n",
        "  if data[i].unique().dtype == np.object:\n",
        "\n",
        "    # Change feature which only contain 'yes' & no -> 1 & 0\n",
        "    if ('yes' and 'no' in data[i].unique()) and (len(data[i].unique()) == 2):\n",
        "      data[i] = data[i].replace('yes', 1)\n",
        "      data[i] = data[i].replace('no', 0)\n",
        "      dict_of_feature_column[i] = feature_column.numeric_column(i)\n",
        "    # Others\n",
        "    else:\n",
        "      temp = feature_column.categorical_column_with_vocabulary_list(i, data[i].unique())\n",
        "      dict_of_feature_column[i] = feature_column.indicator_column(temp)\n",
        "  \n",
        "  # Special Features (Bucketized Features)\n",
        "  # elif i == 'pdays':\n",
        "  #   dict_of_feature_column[i] = feature_column.bucketized_column(feature_column.numeric_column(i), boundaries=[0])\n",
        "  # elif i == 'duration':\n",
        "  #   dict_of_feature_column[i] = feature_column.bucketized_column(feature_column.numeric_column(i), boundaries=[1000,2000,3000])\n",
        "\n",
        "  # for Numeric Features\n",
        "  else:\n",
        "    dict_of_feature_column[i] = feature_column.numeric_column(i)\n",
        "\n",
        "# print(bank)"
      ],
      "execution_count": 0,
      "outputs": []
    },
    {
      "cell_type": "markdown",
      "metadata": {
        "id": "61hKU2pRfOCI",
        "colab_type": "text"
      },
      "source": [
        "#**Split the Data into Train and Test**\n",
        "70% for the Model Training and 30% for the Model Testing"
      ]
    },
    {
      "cell_type": "code",
      "metadata": {
        "id": "ExP0bgBhfPU9",
        "colab_type": "code",
        "outputId": "2ad617c8-b92a-4e42-d497-1110200c5c61",
        "colab": {
          "base_uri": "https://localhost:8080/",
          "height": 51
        }
      },
      "source": [
        "batch_size = 64\n",
        "data = data.reindex(sorted(data.columns), axis=1)\n",
        "x = data.copy()\n",
        "y = x.pop('deposit')\n",
        "x_train, x_test, y_train, y_test = train_test_split(\n",
        "    x,y,test_size=0.3)\n",
        "# x_test, x_val, y_test, y_val = train_test_split(\n",
        "#     x_test,y_test,test_size=0.2)\n",
        "# train, test = train_test_split(bank, test_size=0.25)\n",
        "# test, val = train_test_split(test, test_size=0.25)\n",
        "print(\"Train: \", len(x_train))\n",
        "print(\"Test : \", len(x_test))\n",
        "# print(\"Val  : \", len(x_val))\n",
        "train_ds = tf.data.Dataset.from_tensor_slices((dict(x_train), y_train))\n",
        "train_ds = train_ds.batch(batch_size)\n",
        "test_ds = tf.data.Dataset.from_tensor_slices((dict(x_test), y_test))\n",
        "test_ds = test_ds.batch(batch_size)\n",
        "# val_ds = tf.data.Dataset.from_tensor_slices((dict(x_val), y_val))\n",
        "# val_ds = val_ds.batch(batch_size)"
      ],
      "execution_count": 81,
      "outputs": [
        {
          "output_type": "stream",
          "text": [
            "Train:  7813\n",
            "Test :  3349\n"
          ],
          "name": "stdout"
        }
      ]
    },
    {
      "cell_type": "code",
      "metadata": {
        "id": "l_Xc5wIogSYD",
        "colab_type": "code",
        "colab": {}
      },
      "source": [
        "# Delete the Target from Features\n",
        "del dict_of_feature_column['deposit']"
      ],
      "execution_count": 0,
      "outputs": []
    },
    {
      "cell_type": "markdown",
      "metadata": {
        "id": "w0Uqc-CRgyxm",
        "colab_type": "text"
      },
      "source": [
        "#**Deep Learning**\n",
        "First we use **Neural Network** model with **Keras Layer**"
      ]
    },
    {
      "cell_type": "markdown",
      "metadata": {
        "id": "KYCThsBBhCYT",
        "colab_type": "text"
      },
      "source": [
        "##Input Layer\n",
        "First layer is input layer of all features"
      ]
    },
    {
      "cell_type": "code",
      "metadata": {
        "id": "rmKkd44chBGB",
        "colab_type": "code",
        "colab": {}
      },
      "source": [
        "feature_layer = tf.keras.layers.DenseFeatures([v for v in dict_of_feature_column.values()])"
      ],
      "execution_count": 0,
      "outputs": []
    },
    {
      "cell_type": "markdown",
      "metadata": {
        "id": "o0plXGT-iDxW",
        "colab_type": "text"
      },
      "source": [
        "##Hidden Layer & Output Layer\n",
        "For hidden layer, we use x dense layer (fully connected) with ReLU activation function.<br>\n",
        "Last layer is output layer with 1 neuron."
      ]
    },
    {
      "cell_type": "code",
      "metadata": {
        "id": "lJq_cAoigSan",
        "colab_type": "code",
        "colab": {}
      },
      "source": [
        "nn_model = tf.keras.Sequential([\n",
        "  feature_layer,\n",
        "  layers.Dense(32, activation='relu'),\n",
        "  layers.Dense(1)\n",
        "])"
      ],
      "execution_count": 0,
      "outputs": []
    },
    {
      "cell_type": "markdown",
      "metadata": {
        "id": "-XY3rGxljDEf",
        "colab_type": "text"
      },
      "source": [
        "##Compile, Training, and Testing Model"
      ]
    },
    {
      "cell_type": "code",
      "metadata": {
        "id": "NOgPIlAzgScr",
        "colab_type": "code",
        "outputId": "f7438cc2-2255-4c2e-80fa-39e00f6b2463",
        "colab": {
          "base_uri": "https://localhost:8080/",
          "height": 731
        }
      },
      "source": [
        "nn_model.compile(optimizer='adam', \n",
        "              loss=tf.keras.losses.BinaryCrossentropy(from_logits=True),\n",
        "              metrics=['accuracy'])\n",
        "\n",
        "nn_model.fit(train_ds,\n",
        "          #validation_data=val_ds,\n",
        "          epochs=20)\n",
        "\n",
        "loss, accuracy = nn_model.evaluate(test_ds)\n",
        "print(\"Accuracy\", accuracy)"
      ],
      "execution_count": 85,
      "outputs": [
        {
          "output_type": "stream",
          "text": [
            "Epoch 1/20\n",
            "245/245 [==============================] - 1s 2ms/step - loss: 9.0385 - accuracy: 0.6402\n",
            "Epoch 2/20\n",
            "245/245 [==============================] - 1s 2ms/step - loss: 1.7940 - accuracy: 0.7043\n",
            "Epoch 3/20\n",
            "245/245 [==============================] - 1s 2ms/step - loss: 1.7142 - accuracy: 0.7139\n",
            "Epoch 4/20\n",
            "245/245 [==============================] - 1s 2ms/step - loss: 1.4982 - accuracy: 0.7248\n",
            "Epoch 5/20\n",
            "245/245 [==============================] - 1s 2ms/step - loss: 1.4471 - accuracy: 0.7335\n",
            "Epoch 6/20\n",
            "245/245 [==============================] - 1s 2ms/step - loss: 1.4077 - accuracy: 0.7416\n",
            "Epoch 7/20\n",
            "245/245 [==============================] - 1s 2ms/step - loss: 1.2377 - accuracy: 0.7480\n",
            "Epoch 8/20\n",
            "245/245 [==============================] - 1s 2ms/step - loss: 1.4111 - accuracy: 0.7458\n",
            "Epoch 9/20\n",
            "245/245 [==============================] - 1s 2ms/step - loss: 1.3891 - accuracy: 0.7485\n",
            "Epoch 10/20\n",
            "245/245 [==============================] - 1s 2ms/step - loss: 1.2937 - accuracy: 0.7536\n",
            "Epoch 11/20\n",
            "245/245 [==============================] - 1s 2ms/step - loss: 1.1569 - accuracy: 0.7608\n",
            "Epoch 12/20\n",
            "245/245 [==============================] - 1s 2ms/step - loss: 1.3112 - accuracy: 0.7555\n",
            "Epoch 13/20\n",
            "245/245 [==============================] - 1s 2ms/step - loss: 1.2550 - accuracy: 0.7605\n",
            "Epoch 14/20\n",
            "245/245 [==============================] - 1s 2ms/step - loss: 1.2004 - accuracy: 0.7594\n",
            "Epoch 15/20\n",
            "245/245 [==============================] - 1s 2ms/step - loss: 1.2195 - accuracy: 0.7626\n",
            "Epoch 16/20\n",
            "245/245 [==============================] - 1s 2ms/step - loss: 1.2425 - accuracy: 0.7612\n",
            "Epoch 17/20\n",
            "245/245 [==============================] - 1s 2ms/step - loss: 1.2271 - accuracy: 0.7630\n",
            "Epoch 18/20\n",
            "245/245 [==============================] - 1s 2ms/step - loss: 1.2174 - accuracy: 0.7641\n",
            "Epoch 19/20\n",
            "245/245 [==============================] - 1s 2ms/step - loss: 1.1120 - accuracy: 0.7704\n",
            "Epoch 20/20\n",
            "245/245 [==============================] - 1s 2ms/step - loss: 1.2619 - accuracy: 0.7626\n",
            "105/105 [==============================] - 0s 2ms/step - loss: 0.6632 - accuracy: 0.8041\n",
            "Accuracy 0.804120659828186\n"
          ],
          "name": "stdout"
        }
      ]
    },
    {
      "cell_type": "code",
      "metadata": {
        "id": "vgMa-cQ7jMKt",
        "colab_type": "code",
        "colab": {}
      },
      "source": [
        ""
      ],
      "execution_count": 0,
      "outputs": []
    },
    {
      "cell_type": "markdown",
      "metadata": {
        "id": "THmqo3D2jeMO",
        "colab_type": "text"
      },
      "source": [
        "#**Linear Classification**\n",
        "Next, we compare with **Linear Classification** model with **TensorFlow Estimator**"
      ]
    },
    {
      "cell_type": "markdown",
      "metadata": {
        "id": "oGNpsShJqDEI",
        "colab_type": "text"
      },
      "source": [
        "## Create Input Function"
      ]
    },
    {
      "cell_type": "code",
      "metadata": {
        "id": "IjKH1PJYkEiR",
        "colab_type": "code",
        "colab": {}
      },
      "source": [
        "def input_func(x,num_epochs):\n",
        "  return tf.compat.v1.estimator.inputs.pandas_input_fn(\n",
        "    x=x_train,\n",
        "    y=y_train,\n",
        "    batch_size=32,\n",
        "    num_epochs=num_epochs,\n",
        "    shuffle=True)"
      ],
      "execution_count": 0,
      "outputs": []
    },
    {
      "cell_type": "markdown",
      "metadata": {
        "id": "sqKW2HkUqvUj",
        "colab_type": "text"
      },
      "source": [
        "## Training Model"
      ]
    },
    {
      "cell_type": "code",
      "metadata": {
        "id": "HTR5F1Cdqtcz",
        "colab_type": "code",
        "outputId": "5dc02422-ef07-4080-d0b0-857d8bd087a3",
        "colab": {
          "base_uri": "https://localhost:8080/",
          "height": 1000
        }
      },
      "source": [
        "model = tf.compat.v1.estimator.LinearClassifier(feature_columns=[v for v in dict_of_feature_column.values()])\n",
        "model.train(input_fn=input_func(x_train,num_epochs=20))"
      ],
      "execution_count": 87,
      "outputs": [
        {
          "output_type": "stream",
          "text": [
            "INFO:tensorflow:Using default config.\n",
            "WARNING:tensorflow:Using temporary folder as model directory: /tmp/tmp6moysuc1\n",
            "INFO:tensorflow:Using config: {'_model_dir': '/tmp/tmp6moysuc1', '_tf_random_seed': None, '_save_summary_steps': 100, '_save_checkpoints_steps': None, '_save_checkpoints_secs': 600, '_session_config': allow_soft_placement: true\n",
            "graph_options {\n",
            "  rewrite_options {\n",
            "    meta_optimizer_iterations: ONE\n",
            "  }\n",
            "}\n",
            ", '_keep_checkpoint_max': 5, '_keep_checkpoint_every_n_hours': 10000, '_log_step_count_steps': 100, '_train_distribute': None, '_device_fn': None, '_protocol': None, '_eval_distribute': None, '_experimental_distribute': None, '_experimental_max_worker_delay_secs': None, '_session_creation_timeout_secs': 7200, '_service': None, '_cluster_spec': ClusterSpec({}), '_task_type': 'worker', '_task_id': 0, '_global_id_in_cluster': 0, '_master': '', '_evaluation_master': '', '_is_chief': True, '_num_ps_replicas': 0, '_num_worker_replicas': 1}\n",
            "WARNING:tensorflow:From /usr/local/lib/python3.6/dist-packages/tensorflow/python/ops/resource_variable_ops.py:1666: calling BaseResourceVariable.__init__ (from tensorflow.python.ops.resource_variable_ops) with constraint is deprecated and will be removed in a future version.\n",
            "Instructions for updating:\n",
            "If using Keras pass *_constraint arguments to layers.\n",
            "WARNING:tensorflow:From /usr/local/lib/python3.6/dist-packages/tensorflow/python/training/training_util.py:236: Variable.initialized_value (from tensorflow.python.ops.variables) is deprecated and will be removed in a future version.\n",
            "Instructions for updating:\n",
            "Use Variable.read_value. Variables in 2.X are initialized automatically both in eager and graph (inside tf.defun) contexts.\n",
            "WARNING:tensorflow:From /usr/local/lib/python3.6/dist-packages/tensorflow_estimator/python/estimator/inputs/queues/feeding_queue_runner.py:65: QueueRunner.__init__ (from tensorflow.python.training.queue_runner_impl) is deprecated and will be removed in a future version.\n",
            "Instructions for updating:\n",
            "To construct input pipelines, use the `tf.data` module.\n",
            "WARNING:tensorflow:From /usr/local/lib/python3.6/dist-packages/tensorflow_estimator/python/estimator/inputs/queues/feeding_functions.py:491: add_queue_runner (from tensorflow.python.training.queue_runner_impl) is deprecated and will be removed in a future version.\n",
            "Instructions for updating:\n",
            "To construct input pipelines, use the `tf.data` module.\n",
            "INFO:tensorflow:Calling model_fn.\n",
            "WARNING:tensorflow:From /usr/local/lib/python3.6/dist-packages/tensorflow/python/feature_column/feature_column_v2.py:540: Layer.add_variable (from tensorflow.python.keras.engine.base_layer_v1) is deprecated and will be removed in a future version.\n",
            "Instructions for updating:\n",
            "Please use `layer.add_weight` method instead.\n",
            "INFO:tensorflow:Done calling model_fn.\n",
            "INFO:tensorflow:Create CheckpointSaverHook.\n",
            "INFO:tensorflow:Graph was finalized.\n",
            "INFO:tensorflow:Running local_init_op.\n",
            "INFO:tensorflow:Done running local_init_op.\n",
            "WARNING:tensorflow:From /usr/local/lib/python3.6/dist-packages/tensorflow/python/training/monitored_session.py:906: start_queue_runners (from tensorflow.python.training.queue_runner_impl) is deprecated and will be removed in a future version.\n",
            "Instructions for updating:\n",
            "To construct input pipelines, use the `tf.data` module.\n",
            "INFO:tensorflow:Calling checkpoint listeners before saving checkpoint 0...\n",
            "INFO:tensorflow:Saving checkpoints for 0 into /tmp/tmp6moysuc1/model.ckpt.\n",
            "INFO:tensorflow:Calling checkpoint listeners after saving checkpoint 0...\n",
            "INFO:tensorflow:loss = 22.18071, step = 0\n",
            "INFO:tensorflow:global_step/sec: 221.862\n",
            "INFO:tensorflow:loss = 39.9704, step = 100 (0.458 sec)\n",
            "WARNING:tensorflow:It seems that global step (tf.train.get_global_step) has not been increased. Current value (could be stable): 124 vs previous value: 124. You could increase the global step by passing tf.train.get_global_step() to Optimizer.apply_gradients or Optimizer.minimize.\n",
            "WARNING:tensorflow:It seems that global step (tf.train.get_global_step) has not been increased. Current value (could be stable): 140 vs previous value: 140. You could increase the global step by passing tf.train.get_global_step() to Optimizer.apply_gradients or Optimizer.minimize.\n",
            "INFO:tensorflow:global_step/sec: 270.573\n",
            "INFO:tensorflow:loss = 135.73251, step = 200 (0.369 sec)\n",
            "INFO:tensorflow:global_step/sec: 270.256\n",
            "INFO:tensorflow:loss = 148.21935, step = 300 (0.367 sec)\n",
            "WARNING:tensorflow:It seems that global step (tf.train.get_global_step) has not been increased. Current value (could be stable): 339 vs previous value: 339. You could increase the global step by passing tf.train.get_global_step() to Optimizer.apply_gradients or Optimizer.minimize.\n",
            "WARNING:tensorflow:It seems that global step (tf.train.get_global_step) has not been increased. Current value (could be stable): 376 vs previous value: 376. You could increase the global step by passing tf.train.get_global_step() to Optimizer.apply_gradients or Optimizer.minimize.\n",
            "INFO:tensorflow:global_step/sec: 272.012\n",
            "INFO:tensorflow:loss = 194.03781, step = 400 (0.365 sec)\n",
            "WARNING:tensorflow:It seems that global step (tf.train.get_global_step) has not been increased. Current value (could be stable): 414 vs previous value: 414. You could increase the global step by passing tf.train.get_global_step() to Optimizer.apply_gradients or Optimizer.minimize.\n",
            "INFO:tensorflow:global_step/sec: 264.082\n",
            "INFO:tensorflow:loss = 53.920452, step = 500 (0.381 sec)\n",
            "INFO:tensorflow:global_step/sec: 276.096\n",
            "INFO:tensorflow:loss = 22.227467, step = 600 (0.360 sec)\n",
            "INFO:tensorflow:global_step/sec: 278.101\n",
            "INFO:tensorflow:loss = 63.04493, step = 700 (0.361 sec)\n",
            "INFO:tensorflow:global_step/sec: 266.526\n",
            "INFO:tensorflow:loss = 81.39177, step = 800 (0.374 sec)\n",
            "INFO:tensorflow:global_step/sec: 281.206\n",
            "INFO:tensorflow:loss = 19.576286, step = 900 (0.356 sec)\n",
            "INFO:tensorflow:global_step/sec: 264.279\n",
            "INFO:tensorflow:loss = 36.8291, step = 1000 (0.380 sec)\n",
            "INFO:tensorflow:global_step/sec: 256.875\n",
            "INFO:tensorflow:loss = 37.865685, step = 1100 (0.396 sec)\n",
            "INFO:tensorflow:global_step/sec: 265.193\n",
            "INFO:tensorflow:loss = 19.501331, step = 1200 (0.371 sec)\n",
            "INFO:tensorflow:global_step/sec: 262.781\n",
            "INFO:tensorflow:loss = 54.56153, step = 1300 (0.378 sec)\n",
            "INFO:tensorflow:global_step/sec: 281.406\n",
            "INFO:tensorflow:loss = 26.238035, step = 1400 (0.359 sec)\n",
            "INFO:tensorflow:global_step/sec: 283.309\n",
            "INFO:tensorflow:loss = 28.51662, step = 1500 (0.351 sec)\n",
            "INFO:tensorflow:global_step/sec: 278.191\n",
            "INFO:tensorflow:loss = 79.15604, step = 1600 (0.361 sec)\n",
            "INFO:tensorflow:global_step/sec: 266.417\n",
            "INFO:tensorflow:loss = 40.841774, step = 1700 (0.374 sec)\n",
            "INFO:tensorflow:global_step/sec: 271.16\n",
            "INFO:tensorflow:loss = 35.080868, step = 1800 (0.366 sec)\n",
            "INFO:tensorflow:global_step/sec: 271.682\n",
            "INFO:tensorflow:loss = 75.57442, step = 1900 (0.372 sec)\n",
            "INFO:tensorflow:global_step/sec: 270.395\n",
            "INFO:tensorflow:loss = 60.746075, step = 2000 (0.366 sec)\n",
            "INFO:tensorflow:global_step/sec: 276.205\n",
            "INFO:tensorflow:loss = 312.1959, step = 2100 (0.364 sec)\n",
            "INFO:tensorflow:global_step/sec: 263.173\n",
            "INFO:tensorflow:loss = 44.942474, step = 2200 (0.378 sec)\n",
            "INFO:tensorflow:global_step/sec: 270.531\n",
            "INFO:tensorflow:loss = 19.972172, step = 2300 (0.370 sec)\n",
            "INFO:tensorflow:global_step/sec: 266.443\n",
            "INFO:tensorflow:loss = 14.259197, step = 2400 (0.383 sec)\n",
            "INFO:tensorflow:global_step/sec: 273.242\n",
            "INFO:tensorflow:loss = 165.69818, step = 2500 (0.360 sec)\n",
            "INFO:tensorflow:global_step/sec: 280.782\n",
            "INFO:tensorflow:loss = 18.121635, step = 2600 (0.354 sec)\n",
            "INFO:tensorflow:global_step/sec: 269.658\n",
            "INFO:tensorflow:loss = 108.865654, step = 2700 (0.371 sec)\n",
            "INFO:tensorflow:global_step/sec: 268.392\n",
            "INFO:tensorflow:loss = 138.96362, step = 2800 (0.372 sec)\n",
            "INFO:tensorflow:global_step/sec: 275.429\n",
            "INFO:tensorflow:loss = 60.31702, step = 2900 (0.363 sec)\n",
            "INFO:tensorflow:global_step/sec: 266.816\n",
            "INFO:tensorflow:loss = 59.99582, step = 3000 (0.381 sec)\n",
            "INFO:tensorflow:global_step/sec: 139.213\n",
            "INFO:tensorflow:loss = 6.6287613, step = 3100 (0.720 sec)\n",
            "INFO:tensorflow:global_step/sec: 268.672\n",
            "INFO:tensorflow:loss = 24.44253, step = 3200 (0.369 sec)\n",
            "INFO:tensorflow:global_step/sec: 282.886\n",
            "INFO:tensorflow:loss = 6.9228764, step = 3300 (0.348 sec)\n",
            "INFO:tensorflow:global_step/sec: 282.427\n",
            "INFO:tensorflow:loss = 41.343117, step = 3400 (0.357 sec)\n",
            "INFO:tensorflow:global_step/sec: 271.089\n",
            "INFO:tensorflow:loss = 80.51431, step = 3500 (0.367 sec)\n",
            "INFO:tensorflow:global_step/sec: 277.949\n",
            "INFO:tensorflow:loss = 10.351958, step = 3600 (0.360 sec)\n",
            "INFO:tensorflow:global_step/sec: 269.283\n",
            "INFO:tensorflow:loss = 39.169716, step = 3700 (0.371 sec)\n",
            "INFO:tensorflow:global_step/sec: 273.185\n",
            "INFO:tensorflow:loss = 99.21244, step = 3800 (0.366 sec)\n",
            "INFO:tensorflow:global_step/sec: 272.174\n",
            "INFO:tensorflow:loss = 36.944145, step = 3900 (0.370 sec)\n",
            "INFO:tensorflow:global_step/sec: 268.248\n",
            "INFO:tensorflow:loss = 12.168678, step = 4000 (0.375 sec)\n",
            "INFO:tensorflow:global_step/sec: 273.765\n",
            "INFO:tensorflow:loss = 27.677336, step = 4100 (0.361 sec)\n",
            "INFO:tensorflow:global_step/sec: 269.737\n",
            "INFO:tensorflow:loss = 7.628297, step = 4200 (0.370 sec)\n",
            "INFO:tensorflow:global_step/sec: 268.612\n",
            "INFO:tensorflow:loss = 5.8000345, step = 4300 (0.372 sec)\n",
            "INFO:tensorflow:global_step/sec: 271.758\n",
            "INFO:tensorflow:loss = 37.722595, step = 4400 (0.368 sec)\n",
            "INFO:tensorflow:global_step/sec: 277.863\n",
            "INFO:tensorflow:loss = 65.554726, step = 4500 (0.363 sec)\n",
            "INFO:tensorflow:global_step/sec: 279.189\n",
            "INFO:tensorflow:loss = 95.90314, step = 4600 (0.356 sec)\n",
            "INFO:tensorflow:global_step/sec: 256.668\n",
            "INFO:tensorflow:loss = 129.43173, step = 4700 (0.392 sec)\n",
            "INFO:tensorflow:global_step/sec: 258.719\n",
            "INFO:tensorflow:loss = 7.831439, step = 4800 (0.384 sec)\n",
            "INFO:tensorflow:Calling checkpoint listeners before saving checkpoint 4884...\n",
            "INFO:tensorflow:Saving checkpoints for 4884 into /tmp/tmp6moysuc1/model.ckpt.\n",
            "INFO:tensorflow:Calling checkpoint listeners after saving checkpoint 4884...\n",
            "INFO:tensorflow:Loss for final step: 0.15029883.\n"
          ],
          "name": "stdout"
        },
        {
          "output_type": "execute_result",
          "data": {
            "text/plain": [
              "<tensorflow_estimator.python.estimator.canned.linear.LinearClassifier at 0x7f9b7df67f28>"
            ]
          },
          "metadata": {
            "tags": []
          },
          "execution_count": 87
        }
      ]
    },
    {
      "cell_type": "markdown",
      "metadata": {
        "id": "t4n8AFUtrAhj",
        "colab_type": "text"
      },
      "source": [
        "## Testing Model"
      ]
    },
    {
      "cell_type": "code",
      "metadata": {
        "id": "8eAp7--Eq_m5",
        "colab_type": "code",
        "colab": {
          "base_uri": "https://localhost:8080/",
          "height": 119
        },
        "outputId": "34d8c9cc-edbf-4dac-c1a3-021f5a08cde6"
      },
      "source": [
        "pred_fn = tf.compat.v1.estimator.inputs.pandas_input_fn(\n",
        "    x=x_test,batch_size=len(x_test),shuffle=False)\n",
        "predictions = list(model.predict(input_fn=pred_fn))\n",
        "final_preds = []\n",
        "for pred in predictions:\n",
        "    final_preds.append(pred['class_ids'][0])\n",
        "eval_input_func = tf.compat.v1.estimator.inputs.pandas_input_fn(\n",
        "    x=x_test,y=y_test,batch_size=len(x_test),shuffle=False)"
      ],
      "execution_count": 88,
      "outputs": [
        {
          "output_type": "stream",
          "text": [
            "INFO:tensorflow:Calling model_fn.\n",
            "INFO:tensorflow:Done calling model_fn.\n",
            "INFO:tensorflow:Graph was finalized.\n",
            "INFO:tensorflow:Restoring parameters from /tmp/tmp6moysuc1/model.ckpt-4884\n",
            "INFO:tensorflow:Running local_init_op.\n",
            "INFO:tensorflow:Done running local_init_op.\n"
          ],
          "name": "stdout"
        }
      ]
    },
    {
      "cell_type": "code",
      "metadata": {
        "id": "9cP8l9TQsB-H",
        "colab_type": "code",
        "outputId": "3a3c4cff-a883-44af-d967-8f744718f6dd",
        "colab": {
          "base_uri": "https://localhost:8080/",
          "height": 170
        }
      },
      "source": [
        "print(classification_report(y_test,final_preds))"
      ],
      "execution_count": 89,
      "outputs": [
        {
          "output_type": "stream",
          "text": [
            "              precision    recall  f1-score   support\n",
            "\n",
            "           0       0.80      0.84      0.82      1802\n",
            "           1       0.80      0.75      0.78      1547\n",
            "\n",
            "    accuracy                           0.80      3349\n",
            "   macro avg       0.80      0.80      0.80      3349\n",
            "weighted avg       0.80      0.80      0.80      3349\n",
            "\n"
          ],
          "name": "stdout"
        }
      ]
    },
    {
      "cell_type": "code",
      "metadata": {
        "id": "bGwIF9qvsEaa",
        "colab_type": "code",
        "outputId": "66fb2d94-3f36-49d6-eea0-334530457ae2",
        "colab": {
          "base_uri": "https://localhost:8080/",
          "height": 496
        }
      },
      "source": [
        "results = model.evaluate(eval_input_func)\n",
        "results"
      ],
      "execution_count": 90,
      "outputs": [
        {
          "output_type": "stream",
          "text": [
            "INFO:tensorflow:Calling model_fn.\n",
            "WARNING:tensorflow:From /usr/local/lib/python3.6/dist-packages/tensorflow_estimator/python/estimator/canned/head.py:642: auc (from tensorflow.python.ops.metrics_impl) is deprecated and will be removed in a future version.\n",
            "Instructions for updating:\n",
            "The value of AUC returned by this may race with the update so this is deprecated. Please use tf.keras.metrics.AUC instead.\n",
            "WARNING:tensorflow:Trapezoidal rule is known to produce incorrect PR-AUCs; please switch to \"careful_interpolation\" instead.\n",
            "WARNING:tensorflow:Trapezoidal rule is known to produce incorrect PR-AUCs; please switch to \"careful_interpolation\" instead.\n",
            "INFO:tensorflow:Done calling model_fn.\n",
            "INFO:tensorflow:Starting evaluation at 2020-03-29T12:47:29Z\n",
            "INFO:tensorflow:Graph was finalized.\n",
            "INFO:tensorflow:Restoring parameters from /tmp/tmp6moysuc1/model.ckpt-4884\n",
            "INFO:tensorflow:Running local_init_op.\n",
            "INFO:tensorflow:Done running local_init_op.\n",
            "INFO:tensorflow:Inference Time : 0.85877s\n",
            "INFO:tensorflow:Finished evaluation at 2020-03-29-12:47:30\n",
            "INFO:tensorflow:Saving dict for global step 4884: accuracy = 0.7993431, accuracy_baseline = 0.53807104, auc = 0.8781319, auc_precision_recall = 0.844991, average_loss = 0.61991847, global_step = 4884, label/mean = 0.46192893, loss = 2076.107, precision = 0.7998629, prediction/mean = 0.4441681, recall = 0.7543633\n",
            "INFO:tensorflow:Saving 'checkpoint_path' summary for global step 4884: /tmp/tmp6moysuc1/model.ckpt-4884\n"
          ],
          "name": "stdout"
        },
        {
          "output_type": "execute_result",
          "data": {
            "text/plain": [
              "{'accuracy': 0.7993431,\n",
              " 'accuracy_baseline': 0.53807104,\n",
              " 'auc': 0.8781319,\n",
              " 'auc_precision_recall': 0.844991,\n",
              " 'average_loss': 0.61991847,\n",
              " 'global_step': 4884,\n",
              " 'label/mean': 0.46192893,\n",
              " 'loss': 2076.107,\n",
              " 'precision': 0.7998629,\n",
              " 'prediction/mean': 0.4441681,\n",
              " 'recall': 0.7543633}"
            ]
          },
          "metadata": {
            "tags": []
          },
          "execution_count": 90
        }
      ]
    },
    {
      "cell_type": "markdown",
      "metadata": {
        "id": "Sx4IT4IrkMSE",
        "colab_type": "text"
      },
      "source": [
        "#**Results and Comparison**"
      ]
    },
    {
      "cell_type": "code",
      "metadata": {
        "id": "t7UR1OB5kU7a",
        "colab_type": "code",
        "colab": {}
      },
      "source": [
        ""
      ],
      "execution_count": 0,
      "outputs": []
    },
    {
      "cell_type": "markdown",
      "metadata": {
        "id": "9enxIvYTkVhN",
        "colab_type": "text"
      },
      "source": [
        "##Neural Network Training Graph"
      ]
    },
    {
      "cell_type": "code",
      "metadata": {
        "id": "lcI9FeS0kenf",
        "colab_type": "code",
        "colab": {}
      },
      "source": [
        ""
      ],
      "execution_count": 0,
      "outputs": []
    },
    {
      "cell_type": "markdown",
      "metadata": {
        "id": "OaoIBgR9keyT",
        "colab_type": "text"
      },
      "source": [
        "##Linear Classification Training Graph"
      ]
    },
    {
      "cell_type": "code",
      "metadata": {
        "id": "oeUY7BK0sN2x",
        "colab_type": "code",
        "colab": {}
      },
      "source": [
        "cm = confusion_matrix(y_test,final_preds)"
      ],
      "execution_count": 0,
      "outputs": []
    },
    {
      "cell_type": "code",
      "metadata": {
        "id": "yR2tf6_qsPij",
        "colab_type": "code",
        "outputId": "edd912e0-c18d-4dc7-d693-c561b6ca5703",
        "colab": {
          "base_uri": "https://localhost:8080/",
          "height": 465
        }
      },
      "source": [
        "plt.figure(figsize =(10,7))\n",
        "sns.heatmap(cm,annot=True)\n",
        "plt.xlabel('Predicted Values')\n",
        "plt.ylabel('Actual Values')"
      ],
      "execution_count": 0,
      "outputs": [
        {
          "output_type": "execute_result",
          "data": {
            "text/plain": [
              "Text(66.5, 0.5, 'Truth')"
            ]
          },
          "metadata": {
            "tags": []
          },
          "execution_count": 60
        },
        {
          "output_type": "display_data",
          "data": {
            "image/png": "[encoded data removed]",
            "text/plain": [
              "<Figure size 720x504 with 2 Axes>"
            ]
          },
          "metadata": {
            "tags": []
          }
        }
      ]
    },
    {
      "cell_type": "code",
      "metadata": {
        "id": "JY55suQQsRe2",
        "colab_type": "code",
        "outputId": "4e180836-8777-4db7-b22c-8dd046832025",
        "colab": {
          "base_uri": "https://localhost:8080/",
          "height": 318
        }
      },
      "source": [
        "from sklearn.metrics import roc_curve, auc\n",
        "fpr, tpr, thresholds = roc_curve(y_test,final_preds)\n",
        "roc_auc = auc(fpr, tpr)\n",
        "print(\"ROC AUC Score: {}\".format(roc_auc))\n",
        "plt.figure()\n",
        "plt.plot(fpr, tpr, color='green', lw=1, label='ROC curve (area = %0.2f)' % roc_auc)\n",
        "plt.plot([0, 1], [0, 1], color='navy', linestyle='--')\n",
        "plt.xlim([0.0, 1.0])\n",
        "plt.ylim([0.0, 1.05])\n",
        "plt.xlabel('False Positive Rate')\n",
        "plt.ylabel('True Positive Rate')\n",
        "plt.title('Receiver operating characteristic')\n",
        "plt.legend(loc=\"lower right\")\n",
        "plt.show()"
      ],
      "execution_count": 0,
      "outputs": [
        {
          "output_type": "stream",
          "text": [
            "ROC AUC Score: 0.7357783455718165\n"
          ],
          "name": "stdout"
        },
        {
          "output_type": "display_data",
          "data": {
            "image/png": "[encoded data removed]",
            "text/plain": [
              "<Figure size 432x288 with 1 Axes>"
            ]
          },
          "metadata": {
            "tags": []
          }
        }
      ]
    },
    {
      "cell_type": "code",
      "metadata": {
        "id": "FMzm5pnjk9Oc",
        "colab_type": "code",
        "colab": {}
      },
      "source": [
        ""
      ],
      "execution_count": 0,
      "outputs": []
    },
    {
      "cell_type": "markdown",
      "metadata": {
        "id": "_BNqQOoRlDcs",
        "colab_type": "text"
      },
      "source": [
        "##etc."
      ]
    }
  ]
}