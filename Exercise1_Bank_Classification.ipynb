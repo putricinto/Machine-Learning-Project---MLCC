{
  "nbformat": 4,
  "nbformat_minor": 0,
  "metadata": {
    "colab": {
      "name": "Exercise1_Bank_Classification.ipynb",
      "provenance": [],
      "collapsed_sections": [],
      "toc_visible": true,
      "include_colab_link": true
    },
    "kernelspec": {
      "name": "python3",
      "display_name": "Python 3"
    }
  },
  "cells": [
    {
      "cell_type": "markdown",
      "metadata": {
        "id": "view-in-github",
        "colab_type": "text"
      },
      "source": [
        "<a href=\"https://colab.research.google.com/github/putricinto/Machine-Learning-Project---MLCC/blob/master/Exercise1_Bank_Classification.ipynb\" target=\"_parent\"><img src=\"https://colab.research.google.com/assets/colab-badge.svg\" alt=\"Open In Colab\"/></a>"
      ]
    },
    {
      "cell_type": "markdown",
      "metadata": {
        "id": "VsilqGJwfuHx",
        "colab_type": "text"
      },
      "source": [
        "# **Data Preparation**\n",
        "\n"
      ]
    },
    {
      "cell_type": "markdown",
      "metadata": {
        "id": "KAmOqDM4krRq",
        "colab_type": "text"
      },
      "source": [
        "## Import the Dataset with Pandas\n",
        "The data set used is **Bank Marketing** from [Kaggle](https://www.kaggle.com/rouseguy/bankbalanced)."
      ]
    },
    {
      "cell_type": "code",
      "metadata": {
        "id": "6qeOPperCdhl",
        "colab_type": "code",
        "colab": {}
      },
      "source": [
        "%tensorflow_version 2.x"
      ],
      "execution_count": 0,
      "outputs": []
    },
    {
      "cell_type": "code",
      "metadata": {
        "id": "aHykqvIfvT4M",
        "colab_type": "code",
        "colab": {}
      },
      "source": [
        "import pandas as pd\n",
        "import numpy as np\n",
        "from scipy import stats\n",
        "import sys\n",
        "import seaborn as sns\n",
        "import matplotlib.pyplot as plt\n",
        "from sklearn import preprocessing\n",
        "from sklearn.feature_selection import SelectKBest, chi2, f_regression\n",
        "import tensorflow as tf\n",
        "from tensorflow import feature_column\n",
        "from tensorflow.keras import layers\n",
        "from sklearn.model_selection import train_test_split\n",
        "from sklearn.metrics import classification_report, confusion_matrix, f1_score"
      ],
      "execution_count": 0,
      "outputs": []
    },
    {
      "cell_type": "code",
      "metadata": {
        "id": "esFj5xR9vXQI",
        "colab_type": "code",
        "outputId": "1c242966-5c1c-494f-9caf-809a1e304756",
        "colab": {
          "base_uri": "https://localhost:8080/",
          "height": 438
        }
      },
      "source": [
        "url = 'https://raw.githubusercontent.com/putricinto/Machine-Learning-Project---MLCC/master/bank.csv'\n",
        "bank = pd.read_csv(url)\n",
        "bank"
      ],
      "execution_count": 0,
      "outputs": [
        {
          "output_type": "execute_result",
          "data": {
            "text/html": [
              "<div>\n",
              "<style scoped>\n",
              "    .dataframe tbody tr th:only-of-type {\n",
              "        vertical-align: middle;\n",
              "    }\n",
              "\n",
              "    .dataframe tbody tr th {\n",
              "        vertical-align: top;\n",
              "    }\n",
              "\n",
              "    .dataframe thead th {\n",
              "        text-align: right;\n",
              "    }\n",
              "</style>\n",
              "<table border=\"1\" class=\"dataframe\">\n",
              "  <thead>\n",
              "    <tr style=\"text-align: right;\">\n",
              "      <th></th>\n",
              "      <th>age</th>\n",
              "      <th>job</th>\n",
              "      <th>marital</th>\n",
              "      <th>education</th>\n",
              "      <th>default</th>\n",
              "      <th>balance</th>\n",
              "      <th>housing</th>\n",
              "      <th>loan</th>\n",
              "      <th>contact</th>\n",
              "      <th>day</th>\n",
              "      <th>month</th>\n",
              "      <th>duration</th>\n",
              "      <th>campaign</th>\n",
              "      <th>pdays</th>\n",
              "      <th>previous</th>\n",
              "      <th>poutcome</th>\n",
              "      <th>deposit</th>\n",
              "    </tr>\n",
              "  </thead>\n",
              "  <tbody>\n",
              "    <tr>\n",
              "      <th>0</th>\n",
              "      <td>59</td>\n",
              "      <td>admin.</td>\n",
              "      <td>married</td>\n",
              "      <td>secondary</td>\n",
              "      <td>no</td>\n",
              "      <td>2343</td>\n",
              "      <td>yes</td>\n",
              "      <td>no</td>\n",
              "      <td>unknown</td>\n",
              "      <td>5</td>\n",
              "      <td>may</td>\n",
              "      <td>1042</td>\n",
              "      <td>1</td>\n",
              "      <td>-1</td>\n",
              "      <td>0</td>\n",
              "      <td>unknown</td>\n",
              "      <td>yes</td>\n",
              "    </tr>\n",
              "    <tr>\n",
              "      <th>1</th>\n",
              "      <td>56</td>\n",
              "      <td>admin.</td>\n",
              "      <td>married</td>\n",
              "      <td>secondary</td>\n",
              "      <td>no</td>\n",
              "      <td>45</td>\n",
              "      <td>no</td>\n",
              "      <td>no</td>\n",
              "      <td>unknown</td>\n",
              "      <td>5</td>\n",
              "      <td>may</td>\n",
              "      <td>1467</td>\n",
              "      <td>1</td>\n",
              "      <td>-1</td>\n",
              "      <td>0</td>\n",
              "      <td>unknown</td>\n",
              "      <td>yes</td>\n",
              "    </tr>\n",
              "    <tr>\n",
              "      <th>2</th>\n",
              "      <td>41</td>\n",
              "      <td>technician</td>\n",
              "      <td>married</td>\n",
              "      <td>secondary</td>\n",
              "      <td>no</td>\n",
              "      <td>1270</td>\n",
              "      <td>yes</td>\n",
              "      <td>no</td>\n",
              "      <td>unknown</td>\n",
              "      <td>5</td>\n",
              "      <td>may</td>\n",
              "      <td>1389</td>\n",
              "      <td>1</td>\n",
              "      <td>-1</td>\n",
              "      <td>0</td>\n",
              "      <td>unknown</td>\n",
              "      <td>yes</td>\n",
              "    </tr>\n",
              "    <tr>\n",
              "      <th>3</th>\n",
              "      <td>55</td>\n",
              "      <td>services</td>\n",
              "      <td>married</td>\n",
              "      <td>secondary</td>\n",
              "      <td>no</td>\n",
              "      <td>2476</td>\n",
              "      <td>yes</td>\n",
              "      <td>no</td>\n",
              "      <td>unknown</td>\n",
              "      <td>5</td>\n",
              "      <td>may</td>\n",
              "      <td>579</td>\n",
              "      <td>1</td>\n",
              "      <td>-1</td>\n",
              "      <td>0</td>\n",
              "      <td>unknown</td>\n",
              "      <td>yes</td>\n",
              "    </tr>\n",
              "    <tr>\n",
              "      <th>4</th>\n",
              "      <td>54</td>\n",
              "      <td>admin.</td>\n",
              "      <td>married</td>\n",
              "      <td>tertiary</td>\n",
              "      <td>no</td>\n",
              "      <td>184</td>\n",
              "      <td>no</td>\n",
              "      <td>no</td>\n",
              "      <td>unknown</td>\n",
              "      <td>5</td>\n",
              "      <td>may</td>\n",
              "      <td>673</td>\n",
              "      <td>2</td>\n",
              "      <td>-1</td>\n",
              "      <td>0</td>\n",
              "      <td>unknown</td>\n",
              "      <td>yes</td>\n",
              "    </tr>\n",
              "    <tr>\n",
              "      <th>...</th>\n",
              "      <td>...</td>\n",
              "      <td>...</td>\n",
              "      <td>...</td>\n",
              "      <td>...</td>\n",
              "      <td>...</td>\n",
              "      <td>...</td>\n",
              "      <td>...</td>\n",
              "      <td>...</td>\n",
              "      <td>...</td>\n",
              "      <td>...</td>\n",
              "      <td>...</td>\n",
              "      <td>...</td>\n",
              "      <td>...</td>\n",
              "      <td>...</td>\n",
              "      <td>...</td>\n",
              "      <td>...</td>\n",
              "      <td>...</td>\n",
              "    </tr>\n",
              "    <tr>\n",
              "      <th>11157</th>\n",
              "      <td>33</td>\n",
              "      <td>blue-collar</td>\n",
              "      <td>single</td>\n",
              "      <td>primary</td>\n",
              "      <td>no</td>\n",
              "      <td>1</td>\n",
              "      <td>yes</td>\n",
              "      <td>no</td>\n",
              "      <td>cellular</td>\n",
              "      <td>20</td>\n",
              "      <td>apr</td>\n",
              "      <td>257</td>\n",
              "      <td>1</td>\n",
              "      <td>-1</td>\n",
              "      <td>0</td>\n",
              "      <td>unknown</td>\n",
              "      <td>no</td>\n",
              "    </tr>\n",
              "    <tr>\n",
              "      <th>11158</th>\n",
              "      <td>39</td>\n",
              "      <td>services</td>\n",
              "      <td>married</td>\n",
              "      <td>secondary</td>\n",
              "      <td>no</td>\n",
              "      <td>733</td>\n",
              "      <td>no</td>\n",
              "      <td>no</td>\n",
              "      <td>unknown</td>\n",
              "      <td>16</td>\n",
              "      <td>jun</td>\n",
              "      <td>83</td>\n",
              "      <td>4</td>\n",
              "      <td>-1</td>\n",
              "      <td>0</td>\n",
              "      <td>unknown</td>\n",
              "      <td>no</td>\n",
              "    </tr>\n",
              "    <tr>\n",
              "      <th>11159</th>\n",
              "      <td>32</td>\n",
              "      <td>technician</td>\n",
              "      <td>single</td>\n",
              "      <td>secondary</td>\n",
              "      <td>no</td>\n",
              "      <td>29</td>\n",
              "      <td>no</td>\n",
              "      <td>no</td>\n",
              "      <td>cellular</td>\n",
              "      <td>19</td>\n",
              "      <td>aug</td>\n",
              "      <td>156</td>\n",
              "      <td>2</td>\n",
              "      <td>-1</td>\n",
              "      <td>0</td>\n",
              "      <td>unknown</td>\n",
              "      <td>no</td>\n",
              "    </tr>\n",
              "    <tr>\n",
              "      <th>11160</th>\n",
              "      <td>43</td>\n",
              "      <td>technician</td>\n",
              "      <td>married</td>\n",
              "      <td>secondary</td>\n",
              "      <td>no</td>\n",
              "      <td>0</td>\n",
              "      <td>no</td>\n",
              "      <td>yes</td>\n",
              "      <td>cellular</td>\n",
              "      <td>8</td>\n",
              "      <td>may</td>\n",
              "      <td>9</td>\n",
              "      <td>2</td>\n",
              "      <td>172</td>\n",
              "      <td>5</td>\n",
              "      <td>failure</td>\n",
              "      <td>no</td>\n",
              "    </tr>\n",
              "    <tr>\n",
              "      <th>11161</th>\n",
              "      <td>34</td>\n",
              "      <td>technician</td>\n",
              "      <td>married</td>\n",
              "      <td>secondary</td>\n",
              "      <td>no</td>\n",
              "      <td>0</td>\n",
              "      <td>no</td>\n",
              "      <td>no</td>\n",
              "      <td>cellular</td>\n",
              "      <td>9</td>\n",
              "      <td>jul</td>\n",
              "      <td>628</td>\n",
              "      <td>1</td>\n",
              "      <td>-1</td>\n",
              "      <td>0</td>\n",
              "      <td>unknown</td>\n",
              "      <td>no</td>\n",
              "    </tr>\n",
              "  </tbody>\n",
              "</table>\n",
              "<p>11162 rows × 17 columns</p>\n",
              "</div>"
            ],
            "text/plain": [
              "       age          job  marital  education  ... pdays  previous poutcome deposit\n",
              "0       59       admin.  married  secondary  ...    -1         0  unknown     yes\n",
              "1       56       admin.  married  secondary  ...    -1         0  unknown     yes\n",
              "2       41   technician  married  secondary  ...    -1         0  unknown     yes\n",
              "3       55     services  married  secondary  ...    -1         0  unknown     yes\n",
              "4       54       admin.  married   tertiary  ...    -1         0  unknown     yes\n",
              "...    ...          ...      ...        ...  ...   ...       ...      ...     ...\n",
              "11157   33  blue-collar   single    primary  ...    -1         0  unknown      no\n",
              "11158   39     services  married  secondary  ...    -1         0  unknown      no\n",
              "11159   32   technician   single  secondary  ...    -1         0  unknown      no\n",
              "11160   43   technician  married  secondary  ...   172         5  failure      no\n",
              "11161   34   technician  married  secondary  ...    -1         0  unknown      no\n",
              "\n",
              "[11162 rows x 17 columns]"
            ]
          },
          "metadata": {
            "tags": []
          },
          "execution_count": 209
        }
      ]
    },
    {
      "cell_type": "markdown",
      "metadata": {
        "id": "kcchdmFFDNmV",
        "colab_type": "text"
      },
      "source": [
        "**Informations and Charactheristics of The Data**"
      ]
    },
    {
      "cell_type": "code",
      "metadata": {
        "id": "TODGBWrPBChN",
        "colab_type": "code",
        "outputId": "16111d3d-d425-41d1-8a26-06d75ca43ec3",
        "colab": {
          "base_uri": "https://localhost:8080/",
          "height": 386
        }
      },
      "source": [
        "bank.info()"
      ],
      "execution_count": 0,
      "outputs": [
        {
          "output_type": "stream",
          "text": [
            "<class 'pandas.core.frame.DataFrame'>\n",
            "RangeIndex: 11162 entries, 0 to 11161\n",
            "Data columns (total 17 columns):\n",
            "age          11162 non-null int64\n",
            "job          11162 non-null object\n",
            "marital      11162 non-null object\n",
            "education    11162 non-null object\n",
            "default      11162 non-null object\n",
            "balance      11162 non-null int64\n",
            "housing      11162 non-null object\n",
            "loan         11162 non-null object\n",
            "contact      11162 non-null object\n",
            "day          11162 non-null int64\n",
            "month        11162 non-null object\n",
            "duration     11162 non-null int64\n",
            "campaign     11162 non-null int64\n",
            "pdays        11162 non-null int64\n",
            "previous     11162 non-null int64\n",
            "poutcome     11162 non-null object\n",
            "deposit      11162 non-null object\n",
            "dtypes: int64(7), object(10)\n",
            "memory usage: 1.4+ MB\n"
          ],
          "name": "stdout"
        }
      ]
    },
    {
      "cell_type": "code",
      "metadata": {
        "id": "AFXeG4yVGBQo",
        "colab_type": "code",
        "outputId": "bd906bcc-d307-467d-9c76-f0a32276d0e6",
        "colab": {
          "base_uri": "https://localhost:8080/",
          "height": 284
        }
      },
      "source": [
        "bank.describe()"
      ],
      "execution_count": 0,
      "outputs": [
        {
          "output_type": "execute_result",
          "data": {
            "text/html": [
              "<div>\n",
              "<style scoped>\n",
              "    .dataframe tbody tr th:only-of-type {\n",
              "        vertical-align: middle;\n",
              "    }\n",
              "\n",
              "    .dataframe tbody tr th {\n",
              "        vertical-align: top;\n",
              "    }\n",
              "\n",
              "    .dataframe thead th {\n",
              "        text-align: right;\n",
              "    }\n",
              "</style>\n",
              "<table border=\"1\" class=\"dataframe\">\n",
              "  <thead>\n",
              "    <tr style=\"text-align: right;\">\n",
              "      <th></th>\n",
              "      <th>age</th>\n",
              "      <th>balance</th>\n",
              "      <th>day</th>\n",
              "      <th>duration</th>\n",
              "      <th>campaign</th>\n",
              "      <th>pdays</th>\n",
              "      <th>previous</th>\n",
              "    </tr>\n",
              "  </thead>\n",
              "  <tbody>\n",
              "    <tr>\n",
              "      <th>count</th>\n",
              "      <td>11162.000000</td>\n",
              "      <td>11162.000000</td>\n",
              "      <td>11162.000000</td>\n",
              "      <td>11162.000000</td>\n",
              "      <td>11162.000000</td>\n",
              "      <td>11162.000000</td>\n",
              "      <td>11162.000000</td>\n",
              "    </tr>\n",
              "    <tr>\n",
              "      <th>mean</th>\n",
              "      <td>41.231948</td>\n",
              "      <td>1528.538524</td>\n",
              "      <td>15.658036</td>\n",
              "      <td>371.993818</td>\n",
              "      <td>2.508421</td>\n",
              "      <td>51.330407</td>\n",
              "      <td>0.832557</td>\n",
              "    </tr>\n",
              "    <tr>\n",
              "      <th>std</th>\n",
              "      <td>11.913369</td>\n",
              "      <td>3225.413326</td>\n",
              "      <td>8.420740</td>\n",
              "      <td>347.128386</td>\n",
              "      <td>2.722077</td>\n",
              "      <td>108.758282</td>\n",
              "      <td>2.292007</td>\n",
              "    </tr>\n",
              "    <tr>\n",
              "      <th>min</th>\n",
              "      <td>18.000000</td>\n",
              "      <td>-6847.000000</td>\n",
              "      <td>1.000000</td>\n",
              "      <td>2.000000</td>\n",
              "      <td>1.000000</td>\n",
              "      <td>-1.000000</td>\n",
              "      <td>0.000000</td>\n",
              "    </tr>\n",
              "    <tr>\n",
              "      <th>25%</th>\n",
              "      <td>32.000000</td>\n",
              "      <td>122.000000</td>\n",
              "      <td>8.000000</td>\n",
              "      <td>138.000000</td>\n",
              "      <td>1.000000</td>\n",
              "      <td>-1.000000</td>\n",
              "      <td>0.000000</td>\n",
              "    </tr>\n",
              "    <tr>\n",
              "      <th>50%</th>\n",
              "      <td>39.000000</td>\n",
              "      <td>550.000000</td>\n",
              "      <td>15.000000</td>\n",
              "      <td>255.000000</td>\n",
              "      <td>2.000000</td>\n",
              "      <td>-1.000000</td>\n",
              "      <td>0.000000</td>\n",
              "    </tr>\n",
              "    <tr>\n",
              "      <th>75%</th>\n",
              "      <td>49.000000</td>\n",
              "      <td>1708.000000</td>\n",
              "      <td>22.000000</td>\n",
              "      <td>496.000000</td>\n",
              "      <td>3.000000</td>\n",
              "      <td>20.750000</td>\n",
              "      <td>1.000000</td>\n",
              "    </tr>\n",
              "    <tr>\n",
              "      <th>max</th>\n",
              "      <td>95.000000</td>\n",
              "      <td>81204.000000</td>\n",
              "      <td>31.000000</td>\n",
              "      <td>3881.000000</td>\n",
              "      <td>63.000000</td>\n",
              "      <td>854.000000</td>\n",
              "      <td>58.000000</td>\n",
              "    </tr>\n",
              "  </tbody>\n",
              "</table>\n",
              "</div>"
            ],
            "text/plain": [
              "                age       balance  ...         pdays      previous\n",
              "count  11162.000000  11162.000000  ...  11162.000000  11162.000000\n",
              "mean      41.231948   1528.538524  ...     51.330407      0.832557\n",
              "std       11.913369   3225.413326  ...    108.758282      2.292007\n",
              "min       18.000000  -6847.000000  ...     -1.000000      0.000000\n",
              "25%       32.000000    122.000000  ...     -1.000000      0.000000\n",
              "50%       39.000000    550.000000  ...     -1.000000      0.000000\n",
              "75%       49.000000   1708.000000  ...     20.750000      1.000000\n",
              "max       95.000000  81204.000000  ...    854.000000     58.000000\n",
              "\n",
              "[8 rows x 7 columns]"
            ]
          },
          "metadata": {
            "tags": []
          },
          "execution_count": 211
        }
      ]
    },
    {
      "cell_type": "markdown",
      "metadata": {
        "id": "LVkd9JwH79G6",
        "colab_type": "text"
      },
      "source": [
        "**Correlation**"
      ]
    },
    {
      "cell_type": "code",
      "metadata": {
        "id": "meytVFCFGT-D",
        "colab_type": "code",
        "outputId": "d757d006-ca41-44c5-d7e1-bcaa5decfba4",
        "colab": {
          "base_uri": "https://localhost:8080/",
          "height": 333
        }
      },
      "source": [
        "#Correlation Numerical Variables\n",
        "data=bank.copy()\n",
        "data['deposit'].replace({'yes':1,'no':0},inplace = True)\n",
        "sns.heatmap(data.corr(), color='White')"
      ],
      "execution_count": 0,
      "outputs": [
        {
          "output_type": "execute_result",
          "data": {
            "text/plain": [
              "<matplotlib.axes._subplots.AxesSubplot at 0x7f57355b8da0>"
            ]
          },
          "metadata": {
            "tags": []
          },
          "execution_count": 212
        },
        {
          "output_type": "display_data",
          "data": {
            "image/png": "[encoded data removed]",
            "text/plain": [
              "<Figure size 432x288 with 2 Axes>"
            ]
          },
          "metadata": {
            "tags": []
          }
        }
      ]
    },
    {
      "cell_type": "code",
      "metadata": {
        "id": "mbB7Ki2J74nF",
        "colab_type": "code",
        "colab": {}
      },
      "source": [
        "#Correlation Categorical Variables\n",
        "def cramers_v(confusion_matrix):\n",
        "    \"\"\" calculate Cramers V statistic for categorial-categorial association.\n",
        "        uses correction from Bergsma and Wicher,\n",
        "        Journal of the Korean Statistical Society 42 (2013): 323-328\n",
        "    \"\"\"\n",
        "    chi2 = ss.chi2_contingency(confusion_matrix)[0]\n",
        "    n = confusion_matrix.sum()\n",
        "    phi2 = chi2 / n\n",
        "    r, k = confusion_matrix.shape\n",
        "    phi2corr = max(0, phi2 - ((k-1)*(r-1))/(n-1))\n",
        "    rcorr = r - ((r-1)**2)/(n-1)\n",
        "    kcorr = k - ((k-1)**2)/(n-1)\n",
        "    return np.sqrt(phi2corr / min((kcorr-1), (rcorr-1)))"
      ],
      "execution_count": 0,
      "outputs": []
    },
    {
      "cell_type": "code",
      "metadata": {
        "id": "NPbmU4gv76cJ",
        "colab_type": "code",
        "colab": {}
      },
      "source": [
        "#Correlation Categorical Variables with Label\n",
        "column_name=[]\n",
        "bankcat=[]\n",
        "for i in data.columns:\n",
        "  # for Categorical Features\n",
        "  if data[i].unique().dtype == np.object:\n",
        "    confusion_matrix = pd.crosstab(data['deposit'], data[i]).as_matrix()\n",
        "    bankcat.append(cramers_v(confusion_matrix))\n",
        "    column_name.append(i)\n",
        "corr_categoric=pd.DataFrame()\n",
        "corr_categoric[\"Variable\"]=list(column_name)\n",
        "corr_categoric[\"Correlatioan with Label\"]=list(bankcat)\n",
        "corr_categoric"
      ],
      "execution_count": 0,
      "outputs": []
    },
    {
      "cell_type": "markdown",
      "metadata": {
        "id": "h0WkQrOfxg2H",
        "colab_type": "text"
      },
      "source": [
        "## Data Visualization"
      ]
    },
    {
      "cell_type": "code",
      "metadata": {
        "id": "oWdu1wRWA-dm",
        "colab_type": "code",
        "outputId": "0bce1ad4-89ca-4284-a6ab-346279c9c6f0",
        "colab": {
          "base_uri": "https://localhost:8080/",
          "height": 268
        }
      },
      "source": [
        "#Pie Chart of The Label (Deposit)\n",
        "y=list(bank['deposit'])\n",
        "labels = 'yes', 'no'\n",
        "sizes = [y.count('yes'), y.count('no')]\n",
        "\n",
        "fig1, ax1 = plt.subplots()\n",
        "ax1.pie(sizes, labels=labels, autopct='%1.1f%%', startangle=90)\n",
        "ax1.axis('equal')  # Equal aspect ratio ensures that pie is drawn as a circle.\n",
        "ax1.set_title('deposit', fontsize=18)\n",
        "plt.show()"
      ],
      "execution_count": 0,
      "outputs": [
        {
          "output_type": "display_data",
          "data": {
            "image/png": "[encoded data removed]",
            "text/plain": [
              "<Figure size 432x288 with 1 Axes>"
            ]
          },
          "metadata": {
            "tags": []
          }
        }
      ]
    },
    {
      "cell_type": "code",
      "metadata": {
        "id": "EH9qQ5UlBbCk",
        "colab_type": "code",
        "outputId": "cd47fe92-cc91-4b63-c281-78cc8be50521",
        "colab": {
          "base_uri": "https://localhost:8080/",
          "height": 610
        }
      },
      "source": [
        "#Histogram of Numerical Variables\n",
        "fig, axs = plt.subplots(2, 4, figsize=(15, 10))\n",
        "axs[0, 0].hist(bank['age'])\n",
        "axs[0, 0].set_title('age')\n",
        "\n",
        "axs[0, 1].hist(bank['balance'])\n",
        "axs[0, 1].set_title('balance')\n",
        "\n",
        "axs[0, 2].hist(bank['day'])\n",
        "axs[0, 2].set_title('day')\n",
        "\n",
        "axs[0, 3].hist(bank['duration'])\n",
        "axs[0, 3].set_title('duration')\n",
        "\n",
        "axs[1, 0].hist(bank['campaign'])\n",
        "axs[1, 0].set_title('campaign')\n",
        "\n",
        "axs[1, 1].hist(bank['pdays'])\n",
        "axs[1, 1].set_title('pdays')\n",
        "\n",
        "axs[1, 2].hist(bank['previous'])\n",
        "axs[1, 2].set_title('previous')\n",
        "\n",
        "plt.show()"
      ],
      "execution_count": 0,
      "outputs": [
        {
          "output_type": "display_data",
          "data": {
            "image/png": "[encoded data removed]",
            "text/plain": [
              "<Figure size 1080x720 with 8 Axes>"
            ]
          },
          "metadata": {
            "tags": []
          }
        }
      ]
    },
    {
      "cell_type": "code",
      "metadata": {
        "id": "8IhCUIYDGYUx",
        "colab_type": "code",
        "outputId": "7182e23a-f437-48df-d4ae-c9235584c1f8",
        "colab": {
          "base_uri": "https://localhost:8080/",
          "height": 365
        }
      },
      "source": [
        "#Job Variable\n",
        "job = bank['job'].value_counts()\n",
        "m_height = job.values.tolist() #Provides numerical values\n",
        "job.axes #Provides row labels\n",
        "job_labels = job.axes[0].tolist() #Converts index object to list\n",
        "\n",
        "#=====PLOT Preparations and Plotting====#\n",
        "ind = np.arange(12)  # the x locations for the groups\n",
        "width = 0.7        # the width of the bars\n",
        "fig, ax = plt.subplots(figsize=(15,5))\n",
        "client_bars = ax.bar(ind, m_height , width)\n",
        "\n",
        "#Add some text for labels, title and axes ticks\n",
        "ax.set_xlabel(\"Job\",fontsize=20)\n",
        "ax.set_ylabel('Numbers of Client',fontsize=15)\n",
        "ax.set_title('Client Job Quantity',fontsize=17)\n",
        "ax.set_xticks(ind) #Positioning on the x axis\n",
        "ax.set_xticklabels(('admin.', 'technician', 'services', 'management', 'retired',\n",
        "       'blue-collar', 'unemployed', 'entrepreneur', 'housemaid',\n",
        "       'unknown', 'self-employed', 'student'))\n",
        "\n",
        "#Auto-labels the number of mushrooms for each bar color.\n",
        "def autolabel(rects,fontsize=10):\n",
        "    \"\"\"\n",
        "    Attach a text label above each bar displaying its height\n",
        "    \"\"\"\n",
        "    for rect in rects:\n",
        "        height = rect.get_height()\n",
        "        ax.text(rect.get_x() + rect.get_width()/2., 1*height,'%d' % int(height),\n",
        "                ha='center', va='bottom',fontsize=fontsize)\n",
        "autolabel(client_bars)        \n",
        "plt.show() "
      ],
      "execution_count": 0,
      "outputs": [
        {
          "output_type": "display_data",
          "data": {
            "image/png": "[encoded data removed]",
            "text/plain": [
              "<Figure size 1080x360 with 1 Axes>"
            ]
          },
          "metadata": {
            "tags": []
          }
        }
      ]
    },
    {
      "cell_type": "code",
      "metadata": {
        "id": "sv2FKUK4MmbH",
        "colab_type": "code",
        "outputId": "cdf603bc-00f2-4746-c556-ae41938ebe36",
        "colab": {
          "base_uri": "https://localhost:8080/",
          "height": 352
        }
      },
      "source": [
        "#Education Variable\n",
        "education = bank['education'].value_counts()\n",
        "m_height = education.values.tolist() #Provides numerical values\n",
        "education.axes #Provides row labels\n",
        "education_labels = education.axes[0].tolist() #Converts index object to list\n",
        "\n",
        "#=====PLOT Preparations and Plotting====#\n",
        "ind = np.arange(4)  # the x locations for the groups\n",
        "width = 0.5        # the width of the bars\n",
        "fig, ax = plt.subplots(figsize=(8,5))\n",
        "client_bars = ax.bar(ind, m_height , width)\n",
        "\n",
        "#Add some text for labels, title and axes ticks\n",
        "ax.set_xlabel(\"Education\",fontsize=10)\n",
        "ax.set_ylabel('Numbers of Client',fontsize=10)\n",
        "ax.set_title('Client Education Quantity',fontsize=12)\n",
        "ax.set_xticks(ind) #Positioning on the x axis\n",
        "ax.set_xticklabels(('secondary', 'tertiary', 'primary', 'unknown'))\n",
        "\n",
        "#Auto-labels the number of mushrooms for each bar color.\n",
        "def autolabel(rects,fontsize=10):\n",
        "    \"\"\"\n",
        "    Attach a text label above each bar displaying its height\n",
        "    \"\"\"\n",
        "    for rect in rects:\n",
        "        height = rect.get_height()\n",
        "        ax.text(rect.get_x() + rect.get_width()/2., 1*height,'%d' % int(height),\n",
        "                ha='center', va='bottom',fontsize=fontsize)\n",
        "autolabel(client_bars)        \n",
        "plt.show() "
      ],
      "execution_count": 0,
      "outputs": [
        {
          "output_type": "display_data",
          "data": {
            "image/png": "[encoded data removed]",
            "text/plain": [
              "<Figure size 576x360 with 1 Axes>"
            ]
          },
          "metadata": {
            "tags": []
          }
        }
      ]
    },
    {
      "cell_type": "code",
      "metadata": {
        "id": "bt7lPPHKOAoP",
        "colab_type": "code",
        "outputId": "1dacb906-3016-4d92-fff9-0b25d4d5c18e",
        "colab": {
          "base_uri": "https://localhost:8080/",
          "height": 352
        }
      },
      "source": [
        "#Marital Variable\n",
        "marital = bank['marital'].value_counts()\n",
        "m_height = marital.values.tolist() #Provides numerical values\n",
        "marital.axes #Provides row labels\n",
        "marital_labels = marital.axes[0].tolist() #Converts index object to list\n",
        "\n",
        "#=====PLOT Preparations and Plotting====#\n",
        "ind = np.arange(3)  # the x locations for the groups\n",
        "width = 0.5        # the width of the bars\n",
        "fig, ax = plt.subplots(figsize=(8,5))\n",
        "client_bars = ax.bar(ind, m_height , width)\n",
        "\n",
        "#Add some text for labels, title and axes ticks\n",
        "ax.set_xlabel(\"Marital\",fontsize=10)\n",
        "ax.set_ylabel('Numbers of Client',fontsize=10)\n",
        "ax.set_title('Client Marital Quantity',fontsize=12)\n",
        "ax.set_xticks(ind) #Positioning on the x axis\n",
        "ax.set_xticklabels(('married', 'single', 'divorced'))\n",
        "\n",
        "#Auto-labels the number of mushrooms for each bar color.\n",
        "def autolabel(rects,fontsize=10):\n",
        "    \"\"\"\n",
        "    Attach a text label above each bar displaying its height\n",
        "    \"\"\"\n",
        "    for rect in rects:\n",
        "        height = rect.get_height()\n",
        "        ax.text(rect.get_x() + rect.get_width()/2., 1*height,'%d' % int(height),\n",
        "                ha='center', va='bottom',fontsize=fontsize)\n",
        "autolabel(client_bars)        \n",
        "plt.show() "
      ],
      "execution_count": 0,
      "outputs": [
        {
          "output_type": "display_data",
          "data": {
            "image/png": "[encoded data removed]",
            "text/plain": [
              "<Figure size 576x360 with 1 Axes>"
            ]
          },
          "metadata": {
            "tags": []
          }
        }
      ]
    },
    {
      "cell_type": "code",
      "metadata": {
        "id": "ym1KlW1oO7IA",
        "colab_type": "code",
        "outputId": "b409de18-aa4e-4d0a-c383-beabd91f5116",
        "colab": {
          "base_uri": "https://localhost:8080/",
          "height": 427
        }
      },
      "source": [
        "#Pie Chart of The Label (Deposit)\n",
        "fig, axs = plt.subplots(2, 2, figsize=(12, 7))\n",
        "\n",
        "y_default=list(bank['default'])\n",
        "labels_default = 'yes', 'no', \n",
        "sizes_default = [y_default.count('yes'), y_default.count('no')]\n",
        "axs[0,0].pie(sizes_default, labels=labels_default,autopct='%1.1f%%', startangle=90)\n",
        "axs[0,0].axis('equal')  # Equal aspect ratio ensures that pie is drawn as a circle.\n",
        "axs[0,0].set_title('default')\n",
        "\n",
        "y_housing=list(bank['housing'])\n",
        "labels_housing = 'yes', 'no'\n",
        "sizes_housing = [y_housing.count('yes'), y_housing.count('no')]\n",
        "axs[0,1].pie(sizes_housing, labels=labels_housing,autopct='%1.1f%%', startangle=90)\n",
        "axs[0,1].axis('equal')  # Equal aspect ratio ensures that pie is drawn as a circle.\n",
        "axs[0,1].set_title('housing')\n",
        "\n",
        "y_loan=list(bank['loan'])\n",
        "labels_loan = 'yes', 'no'\n",
        "sizes_loan = [y_loan.count('yes'), y_loan.count('no')]\n",
        "axs[1,0].pie(sizes_loan, labels=labels_loan,autopct='%1.1f%%', startangle=90)\n",
        "axs[1,0].axis('equal')  # Equal aspect ratio ensures that pie is drawn as a circle.\n",
        "axs[1,0].set_title('loan')\n",
        "\n",
        "y_contact=list(bank['contact'])\n",
        "labels_contact = 'cellular', 'telephone','unknown'\n",
        "sizes_contact = [y_contact.count('cellular'), y_contact.count('telephone'),y_contact.count('unknown')]\n",
        "axs[1,1].pie(sizes_contact, labels=labels_contact,autopct='%1.1f%%', startangle=90)\n",
        "axs[1,1].axis('equal')  # Equal aspect ratio ensures that pie is drawn as a circle.\n",
        "axs[1,1].set_title('contact')\n",
        "plt.show()"
      ],
      "execution_count": 0,
      "outputs": [
        {
          "output_type": "display_data",
          "data": {
            "image/png": "[encoded data removed]",
            "text/plain": [
              "<Figure size 864x504 with 4 Axes>"
            ]
          },
          "metadata": {
            "tags": []
          }
        }
      ]
    },
    {
      "cell_type": "markdown",
      "metadata": {
        "id": "h6lOZy3VUUAg",
        "colab_type": "text"
      },
      "source": [
        "## **Feature Selection**"
      ]
    },
    {
      "cell_type": "code",
      "metadata": {
        "id": "fBruEhv_GNMY",
        "colab_type": "code",
        "outputId": "a919e45b-a121-434f-aa86-34dbe94bc180",
        "colab": {
          "base_uri": "https://localhost:8080/",
          "height": 168
        }
      },
      "source": [
        "df=bank.copy()\n",
        "df['deposit'].replace({'yes':1,'no':0},inplace = True)\n",
        "df['education'].replace({'unknown':0,'primary': 1, 'secondary': 2, 'tertiary': 3 },inplace = True)\n",
        "df['marital'].replace({'single':0,'married': 1, 'divorced': 2,  },inplace = True)\n",
        "df['default'].replace({'no':0,'yes':1}, inplace=True)\n",
        "df['housing'].replace({'no':0,'yes':1}, inplace=True)\n",
        "df['loan'].replace({'no':0,'yes':1}, inplace=True)\n",
        "df['contact'].replace({'unknown':0,'cellular':1,'telephone':2}, inplace=True)\n",
        "df['poutcome'].replace({'unknown':0,'failure': 1, 'success': 2, 'other':3},inplace = True)\n",
        "df['month'].replace({'jan':0,'feb':1,'mar':2,'apr':3,'may':4,'jun':5,'jul':6,'aug':7,'sep':8,'oct':9,'nov':10,'dec':12}, inplace=True)\n",
        "le=preprocessing.LabelEncoder()\n",
        "aa=le.fit(df.iloc[0:,1])\n",
        "a=le.transform(df.iloc[0:,1])\n",
        "df['job']=a\n",
        "categorical_columns = ['job', 'education','marital','default','housing','loan','contact','month','poutcome']\n",
        "for col in categorical_columns:\n",
        "    print(np.unique(df[col]))\n",
        "bank_y=df['deposit']\n",
        "df=df.drop(['deposit'],1)\n",
        "df['deposit']=pd.DataFrame(bank_y)\n"
      ],
      "execution_count": 0,
      "outputs": [
        {
          "output_type": "stream",
          "text": [
            "[ 0  1  2  3  4  5  6  7  8  9 10 11]\n",
            "[0 1 2 3]\n",
            "[0 1 2]\n",
            "[0 1]\n",
            "[0 1]\n",
            "[0 1]\n",
            "[0 1 2]\n",
            "[ 0  1  2  3  4  5  6  7  8  9 10 12]\n",
            "[0 1 2 3]\n"
          ],
          "name": "stdout"
        }
      ]
    },
    {
      "cell_type": "code",
      "metadata": {
        "id": "_HTluiacS9fD",
        "colab_type": "code",
        "outputId": "b3b49222-d80a-4352-fc73-9c7b9dbbc3e4",
        "colab": {
          "base_uri": "https://localhost:8080/",
          "height": 67
        }
      },
      "source": [
        "#feature selection\n",
        "X=df.iloc[:,0:16]\n",
        "y=df.iloc[:,16]\n",
        "selector=SelectKBest(f_regression, k=11).fit(X,y)\n",
        "X_new=selector.transform(X)\n",
        "scores=selector.scores_\n",
        "print(X.columns[selector.get_support(indices=True)])"
      ],
      "execution_count": 0,
      "outputs": [
        {
          "output_type": "stream",
          "text": [
            "Index(['marital', 'education', 'balance', 'housing', 'loan', 'contact',\n",
            "       'duration', 'campaign', 'pdays', 'previous', 'poutcome'],\n",
            "      dtype='object')\n"
          ],
          "name": "stdout"
        }
      ]
    },
    {
      "cell_type": "code",
      "metadata": {
        "id": "QJ8dXC1GTEK5",
        "colab_type": "code",
        "outputId": "46bd0ae5-8b45-4383-ece3-2b18876e720e",
        "colab": {
          "base_uri": "https://localhost:8080/",
          "height": 285
        }
      },
      "source": [
        "g=pd.DataFrame([])\n",
        "g['Variabel']=list(X)\n",
        "g['Skor']=scores.astype(int)\n",
        "sns.set(style=\"whitegrid\")\n",
        "g=g.sort_values('Skor')\n",
        "gx = sns.barplot(x=\"Skor\", y=\"Variabel\", data=g)\n",
        "plt.show()"
      ],
      "execution_count": 0,
      "outputs": [
        {
          "output_type": "display_data",
          "data": {
            "image/png": "[encoded data removed]",
            "text/plain": [
              "<Figure size 432x288 with 1 Axes>"
            ]
          },
          "metadata": {
            "tags": []
          }
        }
      ]
    },
    {
      "cell_type": "markdown",
      "metadata": {
        "id": "xi3oVdUbx_W6",
        "colab_type": "text"
      },
      "source": [
        "# **Classify Features Data**\n",
        "Using **TensorFlow Feature Columns** as a bridge to map from columns in a CSV to features used to train the model"
      ]
    },
    {
      "cell_type": "code",
      "metadata": {
        "id": "pnbotI5vez7p",
        "colab_type": "code",
        "colab": {}
      },
      "source": [
        "data = bank.copy()\n",
        "dict_of_feature_column = {}\n",
        "data = data.drop(['month','age'],axis=1)\n",
        "\n",
        "for i in data.columns:\n",
        "\n",
        "  # for Categorical Features\n",
        "  if data[i].unique().dtype == np.object:\n",
        "\n",
        "    # Change feature which only contain 'yes' & no -> 1 & 0\n",
        "    if ('yes' and 'no' in data[i].unique()) and (len(data[i].unique()) == 2):\n",
        "      data[i] = data[i].replace('yes', 1)\n",
        "      data[i] = data[i].replace('no', 0)\n",
        "      dict_of_feature_column[i] = feature_column.numeric_column(i)\n",
        "    # Others\n",
        "    else:\n",
        "      temp = feature_column.categorical_column_with_vocabulary_list(i, data[i].unique())\n",
        "      dict_of_feature_column[i] = feature_column.indicator_column(temp)\n",
        "  \n",
        "  # Special Features (Bucketized Features)\n",
        "  # elif i == 'pdays':\n",
        "  #   dict_of_feature_column[i] = feature_column.bucketized_column(feature_column.numeric_column(i), boundaries=[0])\n",
        "  # elif i == 'duration':\n",
        "  #   dict_of_feature_column[i] = feature_column.bucketized_column(feature_column.numeric_column(i), boundaries=[1000,2000,3000])\n",
        "\n",
        "  # for Numeric Features\n",
        "  else:\n",
        "    dict_of_feature_column[i] = feature_column.numeric_column(i)\n",
        "\n",
        "# print(bank)"
      ],
      "execution_count": 0,
      "outputs": []
    },
    {
      "cell_type": "markdown",
      "metadata": {
        "id": "61hKU2pRfOCI",
        "colab_type": "text"
      },
      "source": [
        "#**Split the Data into Train and Test**\n",
        "70% for the Model Training and 30% for the Model Testing"
      ]
    },
    {
      "cell_type": "code",
      "metadata": {
        "id": "ExP0bgBhfPU9",
        "colab_type": "code",
        "outputId": "d2f4335d-1f1a-4731-ab7c-0336077c1b7a",
        "colab": {
          "base_uri": "https://localhost:8080/",
          "height": 50
        }
      },
      "source": [
        "batch_size = 64\n",
        "data = data.reindex(sorted(data.columns), axis=1)\n",
        "x = data.copy()\n",
        "y = x.pop('deposit')\n",
        "x_train, x_test, y_train, y_test = train_test_split(\n",
        "    x,y,test_size=0.3)\n",
        "# x_test, x_val, y_test, y_val = train_test_split(\n",
        "#     x_test,y_test,test_size=0.2)\n",
        "# train, test = train_test_split(bank, test_size=0.25)\n",
        "# test, val = train_test_split(test, test_size=0.25)\n",
        "print(\"Train: \", len(x_train))\n",
        "print(\"Test : \", len(x_test))\n",
        "# print(\"Val  : \", len(x_val))\n",
        "train_ds = tf.data.Dataset.from_tensor_slices((dict(x_train), y_train))\n",
        "train_ds = train_ds.batch(batch_size)\n",
        "test_ds = tf.data.Dataset.from_tensor_slices((dict(x_test), y_test))\n",
        "test_ds = test_ds.batch(batch_size)\n",
        "# val_ds = tf.data.Dataset.from_tensor_slices((dict(x_val), y_val))\n",
        "# val_ds = val_ds.batch(batch_size)"
      ],
      "execution_count": 0,
      "outputs": [
        {
          "output_type": "stream",
          "text": [
            "Train:  7813\n",
            "Test :  3349\n"
          ],
          "name": "stdout"
        }
      ]
    },
    {
      "cell_type": "code",
      "metadata": {
        "id": "l_Xc5wIogSYD",
        "colab_type": "code",
        "colab": {}
      },
      "source": [
        "# Delete the Target from Features\n",
        "del dict_of_feature_column['deposit']"
      ],
      "execution_count": 0,
      "outputs": []
    },
    {
      "cell_type": "markdown",
      "metadata": {
        "id": "w0Uqc-CRgyxm",
        "colab_type": "text"
      },
      "source": [
        "#**Deep Learning**\n",
        "First we use **Neural Network** model with **Keras Layer**"
      ]
    },
    {
      "cell_type": "markdown",
      "metadata": {
        "id": "KYCThsBBhCYT",
        "colab_type": "text"
      },
      "source": [
        "##Input Layer\n",
        "First layer is input layer of all features"
      ]
    },
    {
      "cell_type": "code",
      "metadata": {
        "id": "rmKkd44chBGB",
        "colab_type": "code",
        "colab": {}
      },
      "source": [
        "feature_layer = tf.keras.layers.DenseFeatures([v for v in dict_of_feature_column.values()])"
      ],
      "execution_count": 0,
      "outputs": []
    },
    {
      "cell_type": "markdown",
      "metadata": {
        "id": "o0plXGT-iDxW",
        "colab_type": "text"
      },
      "source": [
        "##Hidden Layer & Output Layer\n",
        "For hidden layer, we use x dense layer (fully connected) with ReLU activation function.<br>\n",
        "Last layer is output layer with 1 neuron."
      ]
    },
    {
      "cell_type": "code",
      "metadata": {
        "id": "lJq_cAoigSan",
        "colab_type": "code",
        "colab": {}
      },
      "source": [
        "nn_model = tf.keras.Sequential([\n",
        "  feature_layer,\n",
        "  layers.Dense(30, activation='relu'),\n",
        "  layers.Dense(10, activation='relu'),\n",
        "  layers.Dense(1, activation='sigmoid')\n",
        "])"
      ],
      "execution_count": 0,
      "outputs": []
    },
    {
      "cell_type": "markdown",
      "metadata": {
        "id": "-XY3rGxljDEf",
        "colab_type": "text"
      },
      "source": [
        "##Compile, Training, and Testing Model"
      ]
    },
    {
      "cell_type": "code",
      "metadata": {
        "id": "jgMJLlQPUZUs",
        "colab_type": "code",
        "colab": {}
      },
      "source": [
        "from keras import backend as K\n",
        "\n",
        "def recall_m(y_true, y_pred):\n",
        "    true_positives = K.sum(K.round(K.clip(y_true * y_pred, 0, 1)))\n",
        "    possible_positives = K.sum(K.round(K.clip(y_true, 0, 1)))\n",
        "    recall = true_positives / (possible_positives + K.epsilon())\n",
        "    return recall\n",
        "\n",
        "def precision_m(y_true, y_pred):\n",
        "    true_positives = K.sum(K.round(K.clip(y_true * y_pred, 0, 1)))\n",
        "    predicted_positives = K.sum(K.round(K.clip(y_pred, 0, 1)))\n",
        "    precision = true_positives / (predicted_positives + K.epsilon())\n",
        "    return precision\n",
        "\n",
        "def f1_m(y_true, y_pred):\n",
        "    precision = precision_m(y_true, y_pred)\n",
        "    recall = recall_m(y_true, y_pred)\n",
        "    return 2*((precision*recall)/(precision+recall+K.epsilon()))"
      ],
      "execution_count": 0,
      "outputs": []
    },
    {
      "cell_type": "code",
      "metadata": {
        "id": "NOgPIlAzgScr",
        "colab_type": "code",
        "outputId": "f6702bb9-b0d1-4d46-d027-4d7a9256b001",
        "colab": {
          "base_uri": "https://localhost:8080/",
          "height": 799
        }
      },
      "source": [
        "nn_model.compile(optimizer='adam', \n",
        "                 loss='binary_crossentropy',\n",
        "                 metrics=['acc',f1_m,precision_m, recall_m])\n",
        "\n",
        "history = nn_model.fit(train_ds, \n",
        "                       #validation_data=val_ds,\n",
        "                       epochs=20)\n",
        "\n",
        "#loss, accuracy = nn_model.evaluate(test_ds)\n",
        "#print(\"Accuracy\", accuracy)\n",
        "loss, accuracy, f1_score, precision, recall = nn_model.evaluate(test_ds)\n",
        "print('Loss\\t\\t: ', loss)\n",
        "print('Accuracy\\t: ', accuracy)\n",
        "print('F1 Score\\t: ', f1_score)\n",
        "print('Precision\\t: ', precision)\n",
        "print('Recall\\t\\t: ', recall)"
      ],
      "execution_count": 0,
      "outputs": [
        {
          "output_type": "stream",
          "text": [
            "Epoch 1/20\n",
            "123/123 [==============================] - 0s 3ms/step - loss: 0.9235 - acc: 0.7488 - f1_m: 0.7225 - precision_m: 0.7566 - recall_m: 0.7217\n",
            "Epoch 2/20\n",
            "123/123 [==============================] - 0s 2ms/step - loss: 0.8077 - acc: 0.7560 - f1_m: 0.7318 - precision_m: 0.7569 - recall_m: 0.7385\n",
            "Epoch 3/20\n",
            "123/123 [==============================] - 0s 2ms/step - loss: 0.7561 - acc: 0.7610 - f1_m: 0.7350 - precision_m: 0.7643 - recall_m: 0.7345\n",
            "Epoch 4/20\n",
            "123/123 [==============================] - 0s 2ms/step - loss: 0.7794 - acc: 0.7598 - f1_m: 0.7323 - precision_m: 0.7669 - recall_m: 0.7274\n",
            "Epoch 5/20\n",
            "123/123 [==============================] - 0s 2ms/step - loss: 0.8232 - acc: 0.7537 - f1_m: 0.7304 - precision_m: 0.7592 - recall_m: 0.7354\n",
            "Epoch 6/20\n",
            "123/123 [==============================] - 0s 2ms/step - loss: 0.7443 - acc: 0.7635 - f1_m: 0.7404 - precision_m: 0.7656 - recall_m: 0.7410\n",
            "Epoch 7/20\n",
            "123/123 [==============================] - 0s 2ms/step - loss: 0.7518 - acc: 0.7604 - f1_m: 0.7376 - precision_m: 0.7648 - recall_m: 0.7350\n",
            "Epoch 8/20\n",
            "123/123 [==============================] - 0s 2ms/step - loss: 0.7372 - acc: 0.7632 - f1_m: 0.7407 - precision_m: 0.7640 - recall_m: 0.7424\n",
            "Epoch 9/20\n",
            "123/123 [==============================] - 0s 2ms/step - loss: 0.7822 - acc: 0.7592 - f1_m: 0.7354 - precision_m: 0.7614 - recall_m: 0.7364\n",
            "Epoch 10/20\n",
            "123/123 [==============================] - 0s 2ms/step - loss: 0.8119 - acc: 0.7564 - f1_m: 0.7296 - precision_m: 0.7641 - recall_m: 0.7321\n",
            "Epoch 11/20\n",
            "123/123 [==============================] - 0s 2ms/step - loss: 0.7701 - acc: 0.7636 - f1_m: 0.7413 - precision_m: 0.7661 - recall_m: 0.7402\n",
            "Epoch 12/20\n",
            "123/123 [==============================] - 0s 2ms/step - loss: 0.7898 - acc: 0.7612 - f1_m: 0.7346 - precision_m: 0.7681 - recall_m: 0.7368\n",
            "Epoch 13/20\n",
            "123/123 [==============================] - 0s 2ms/step - loss: 0.7448 - acc: 0.7650 - f1_m: 0.7434 - precision_m: 0.7684 - recall_m: 0.7407\n",
            "Epoch 14/20\n",
            "123/123 [==============================] - 0s 2ms/step - loss: 0.9336 - acc: 0.7544 - f1_m: 0.7291 - precision_m: 0.7602 - recall_m: 0.7353\n",
            "Epoch 15/20\n",
            "123/123 [==============================] - 0s 2ms/step - loss: 0.7822 - acc: 0.7628 - f1_m: 0.7382 - precision_m: 0.7724 - recall_m: 0.7388\n",
            "Epoch 16/20\n",
            "123/123 [==============================] - 0s 2ms/step - loss: 0.7284 - acc: 0.7640 - f1_m: 0.7423 - precision_m: 0.7671 - recall_m: 0.7379\n",
            "Epoch 17/20\n",
            "123/123 [==============================] - 0s 2ms/step - loss: 0.7096 - acc: 0.7733 - f1_m: 0.7492 - precision_m: 0.7816 - recall_m: 0.7464\n",
            "Epoch 18/20\n",
            "123/123 [==============================] - 0s 2ms/step - loss: 0.7341 - acc: 0.7655 - f1_m: 0.7423 - precision_m: 0.7688 - recall_m: 0.7412\n",
            "Epoch 19/20\n",
            "123/123 [==============================] - 0s 2ms/step - loss: 0.7345 - acc: 0.7635 - f1_m: 0.7381 - precision_m: 0.7707 - recall_m: 0.7377\n",
            "Epoch 20/20\n",
            "123/123 [==============================] - 0s 2ms/step - loss: 0.7305 - acc: 0.7626 - f1_m: 0.7368 - precision_m: 0.7694 - recall_m: 0.7357\n",
            "53/53 [==============================] - 0s 2ms/step - loss: 0.6620 - acc: 0.8023 - f1_m: 0.8057 - precision_m: 0.7493 - recall_m: 0.8775\n",
            "Loss\t\t:  0.6619620323181152\n",
            "Accuracy\t:  0.8023290634155273\n",
            "F1 Score\t:  0.8057201504707336\n",
            "Precision\t:  0.7492789030075073\n",
            "Recall\t\t:  0.8775470852851868\n"
          ],
          "name": "stdout"
        }
      ]
    },
    {
      "cell_type": "code",
      "metadata": {
        "id": "vgMa-cQ7jMKt",
        "colab_type": "code",
        "outputId": "dd5e86dd-86ca-4d36-e2e2-0a32f3c957a9",
        "colab": {
          "base_uri": "https://localhost:8080/",
          "height": 119
        }
      },
      "source": [
        "print(history.history.keys())\n",
        "\n",
        "y_pred = nn_model.predict_classes(test_ds, verbose=1)\n",
        "print(y_pred.argmax(axis=1), type(y_pred.argmax(axis=1)), len(y_pred.argmax(axis=1)))\n",
        "\n",
        "print(y_test.to_numpy(), type(y_test.to_numpy()), len(y_test.to_numpy()))\n",
        "\n",
        "matrix = confusion_matrix(y_test, y_pred.argmax(axis=1))\n",
        "print(matrix)"
      ],
      "execution_count": 0,
      "outputs": [
        {
          "output_type": "stream",
          "text": [
            "dict_keys(['loss', 'acc', 'f1_m', 'precision_m', 'recall_m'])\n",
            "53/53 [==============================] - 0s 2ms/step\n",
            "[0 0 0 ... 0 0 0] <class 'numpy.ndarray'> 3349\n",
            "[1 1 1 ... 1 0 1] <class 'numpy.ndarray'> 3349\n",
            "[[1744    0]\n",
            " [1605    0]]\n"
          ],
          "name": "stdout"
        }
      ]
    },
    {
      "cell_type": "markdown",
      "metadata": {
        "id": "THmqo3D2jeMO",
        "colab_type": "text"
      },
      "source": [
        "#**Linear Classification**\n",
        "Next, we compare with **Linear Classification** model with **TensorFlow Estimator**"
      ]
    },
    {
      "cell_type": "markdown",
      "metadata": {
        "id": "oGNpsShJqDEI",
        "colab_type": "text"
      },
      "source": [
        "## Create Input Function"
      ]
    },
    {
      "cell_type": "code",
      "metadata": {
        "id": "IjKH1PJYkEiR",
        "colab_type": "code",
        "colab": {}
      },
      "source": [
        "def input_func(x,num_epochs):\n",
        "  return tf.compat.v1.estimator.inputs.pandas_input_fn(\n",
        "    x=x_train,\n",
        "    y=y_train,\n",
        "    batch_size=32,\n",
        "    num_epochs=num_epochs,\n",
        "    shuffle=True)"
      ],
      "execution_count": 0,
      "outputs": []
    },
    {
      "cell_type": "markdown",
      "metadata": {
        "id": "sqKW2HkUqvUj",
        "colab_type": "text"
      },
      "source": [
        "## Training Model"
      ]
    },
    {
      "cell_type": "code",
      "metadata": {
        "id": "HTR5F1Cdqtcz",
        "colab_type": "code",
        "outputId": "71392f0a-ad06-47d8-ea5c-f716b4569758",
        "colab": {
          "base_uri": "https://localhost:8080/",
          "height": 1000
        }
      },
      "source": [
        "model = tf.compat.v1.estimator.LinearClassifier(feature_columns=[v for v in dict_of_feature_column.values()])\n",
        "model.train(input_fn=input_func(x_train,num_epochs=20))"
      ],
      "execution_count": 0,
      "outputs": [
        {
          "output_type": "stream",
          "text": [
            "INFO:tensorflow:Using default config.\n",
            "WARNING:tensorflow:Using temporary folder as model directory: /tmp/tmpdrjak0pu\n",
            "INFO:tensorflow:Using config: {'_model_dir': '/tmp/tmpdrjak0pu', '_tf_random_seed': None, '_save_summary_steps': 100, '_save_checkpoints_steps': None, '_save_checkpoints_secs': 600, '_session_config': allow_soft_placement: true\n",
            "graph_options {\n",
            "  rewrite_options {\n",
            "    meta_optimizer_iterations: ONE\n",
            "  }\n",
            "}\n",
            ", '_keep_checkpoint_max': 5, '_keep_checkpoint_every_n_hours': 10000, '_log_step_count_steps': 100, '_train_distribute': None, '_device_fn': None, '_protocol': None, '_eval_distribute': None, '_experimental_distribute': None, '_experimental_max_worker_delay_secs': None, '_session_creation_timeout_secs': 7200, '_service': None, '_cluster_spec': ClusterSpec({}), '_task_type': 'worker', '_task_id': 0, '_global_id_in_cluster': 0, '_master': '', '_evaluation_master': '', '_is_chief': True, '_num_ps_replicas': 0, '_num_worker_replicas': 1}\n",
            "INFO:tensorflow:Calling model_fn.\n",
            "INFO:tensorflow:Done calling model_fn.\n",
            "INFO:tensorflow:Create CheckpointSaverHook.\n",
            "INFO:tensorflow:Graph was finalized.\n",
            "INFO:tensorflow:Running local_init_op.\n",
            "INFO:tensorflow:Done running local_init_op.\n",
            "INFO:tensorflow:Calling checkpoint listeners before saving checkpoint 0...\n",
            "INFO:tensorflow:Saving checkpoints for 0 into /tmp/tmpdrjak0pu/model.ckpt.\n",
            "INFO:tensorflow:Calling checkpoint listeners after saving checkpoint 0...\n",
            "INFO:tensorflow:loss = 22.18071, step = 0\n",
            "INFO:tensorflow:global_step/sec: 247.627\n",
            "INFO:tensorflow:loss = 28.03338, step = 100 (0.405 sec)\n",
            "INFO:tensorflow:global_step/sec: 312.621\n",
            "INFO:tensorflow:loss = 70.18005, step = 200 (0.320 sec)\n",
            "INFO:tensorflow:global_step/sec: 283.274\n",
            "INFO:tensorflow:loss = 158.6776, step = 300 (0.355 sec)\n",
            "INFO:tensorflow:global_step/sec: 314.57\n",
            "INFO:tensorflow:loss = 15.284975, step = 400 (0.321 sec)\n",
            "INFO:tensorflow:global_step/sec: 315.01\n",
            "INFO:tensorflow:loss = 61.072254, step = 500 (0.314 sec)\n",
            "INFO:tensorflow:global_step/sec: 315.59\n",
            "INFO:tensorflow:loss = 45.175842, step = 600 (0.317 sec)\n",
            "INFO:tensorflow:global_step/sec: 305.378\n",
            "INFO:tensorflow:loss = 28.241875, step = 700 (0.325 sec)\n",
            "INFO:tensorflow:global_step/sec: 317.694\n",
            "INFO:tensorflow:loss = 12.107336, step = 800 (0.317 sec)\n",
            "INFO:tensorflow:global_step/sec: 307.832\n",
            "INFO:tensorflow:loss = 98.9002, step = 900 (0.323 sec)\n",
            "INFO:tensorflow:global_step/sec: 307.522\n",
            "INFO:tensorflow:loss = 39.167137, step = 1000 (0.325 sec)\n",
            "INFO:tensorflow:global_step/sec: 325.157\n",
            "INFO:tensorflow:loss = 19.23439, step = 1100 (0.313 sec)\n",
            "INFO:tensorflow:global_step/sec: 324.147\n",
            "INFO:tensorflow:loss = 17.253414, step = 1200 (0.309 sec)\n",
            "INFO:tensorflow:global_step/sec: 304.291\n",
            "INFO:tensorflow:loss = 64.95803, step = 1300 (0.329 sec)\n",
            "INFO:tensorflow:global_step/sec: 310.742\n",
            "INFO:tensorflow:loss = 33.33443, step = 1400 (0.323 sec)\n",
            "INFO:tensorflow:global_step/sec: 316.852\n",
            "INFO:tensorflow:loss = 11.335587, step = 1500 (0.310 sec)\n",
            "INFO:tensorflow:global_step/sec: 306.807\n",
            "INFO:tensorflow:loss = 28.681067, step = 1600 (0.326 sec)\n",
            "INFO:tensorflow:global_step/sec: 321.637\n",
            "INFO:tensorflow:loss = 86.14109, step = 1700 (0.310 sec)\n",
            "INFO:tensorflow:global_step/sec: 311.393\n",
            "INFO:tensorflow:loss = 12.673565, step = 1800 (0.319 sec)\n",
            "INFO:tensorflow:global_step/sec: 318.166\n",
            "INFO:tensorflow:loss = 30.653084, step = 1900 (0.322 sec)\n",
            "INFO:tensorflow:global_step/sec: 306.653\n",
            "INFO:tensorflow:loss = 34.236332, step = 2000 (0.324 sec)\n",
            "INFO:tensorflow:global_step/sec: 323.485\n",
            "INFO:tensorflow:loss = 29.644377, step = 2100 (0.306 sec)\n",
            "INFO:tensorflow:global_step/sec: 318.835\n",
            "INFO:tensorflow:loss = 30.869444, step = 2200 (0.312 sec)\n",
            "INFO:tensorflow:global_step/sec: 309.672\n",
            "INFO:tensorflow:loss = 30.833248, step = 2300 (0.323 sec)\n",
            "INFO:tensorflow:global_step/sec: 294.132\n",
            "INFO:tensorflow:loss = 36.15728, step = 2400 (0.340 sec)\n",
            "INFO:tensorflow:global_step/sec: 309.998\n",
            "INFO:tensorflow:loss = 141.39787, step = 2500 (0.323 sec)\n",
            "INFO:tensorflow:global_step/sec: 307.822\n",
            "INFO:tensorflow:loss = 19.459036, step = 2600 (0.324 sec)\n",
            "INFO:tensorflow:global_step/sec: 314.045\n",
            "INFO:tensorflow:loss = 37.495056, step = 2700 (0.318 sec)\n",
            "INFO:tensorflow:global_step/sec: 306.926\n",
            "INFO:tensorflow:loss = 36.52135, step = 2800 (0.331 sec)\n",
            "INFO:tensorflow:global_step/sec: 296.406\n",
            "INFO:tensorflow:loss = 19.107092, step = 2900 (0.337 sec)\n",
            "INFO:tensorflow:global_step/sec: 308.266\n",
            "INFO:tensorflow:loss = 55.91364, step = 3000 (0.320 sec)\n",
            "INFO:tensorflow:global_step/sec: 305.081\n",
            "INFO:tensorflow:loss = 25.695663, step = 3100 (0.328 sec)\n",
            "INFO:tensorflow:global_step/sec: 314.787\n",
            "INFO:tensorflow:loss = 7.1038537, step = 3200 (0.318 sec)\n",
            "INFO:tensorflow:global_step/sec: 305.674\n",
            "INFO:tensorflow:loss = 19.7131, step = 3300 (0.327 sec)\n",
            "INFO:tensorflow:global_step/sec: 305.117\n",
            "INFO:tensorflow:loss = 27.533478, step = 3400 (0.328 sec)\n",
            "INFO:tensorflow:global_step/sec: 315.736\n",
            "INFO:tensorflow:loss = 63.317616, step = 3500 (0.319 sec)\n",
            "INFO:tensorflow:global_step/sec: 305.747\n",
            "INFO:tensorflow:loss = 17.176468, step = 3600 (0.327 sec)\n",
            "INFO:tensorflow:global_step/sec: 320.888\n",
            "INFO:tensorflow:loss = 85.58833, step = 3700 (0.315 sec)\n",
            "INFO:tensorflow:global_step/sec: 310.267\n",
            "INFO:tensorflow:loss = 75.97074, step = 3800 (0.323 sec)\n",
            "INFO:tensorflow:global_step/sec: 322.663\n",
            "INFO:tensorflow:loss = 16.558516, step = 3900 (0.306 sec)\n",
            "INFO:tensorflow:global_step/sec: 321.895\n",
            "INFO:tensorflow:loss = 12.823822, step = 4000 (0.313 sec)\n",
            "INFO:tensorflow:global_step/sec: 306.638\n",
            "INFO:tensorflow:loss = 13.066018, step = 4100 (0.322 sec)\n",
            "INFO:tensorflow:global_step/sec: 323.976\n",
            "INFO:tensorflow:loss = 23.472107, step = 4200 (0.310 sec)\n",
            "INFO:tensorflow:global_step/sec: 331.811\n",
            "INFO:tensorflow:loss = 5.2378387, step = 4300 (0.299 sec)\n",
            "INFO:tensorflow:global_step/sec: 319.707\n",
            "INFO:tensorflow:loss = 31.741825, step = 4400 (0.313 sec)\n",
            "INFO:tensorflow:global_step/sec: 313.184\n",
            "INFO:tensorflow:loss = 29.534384, step = 4500 (0.319 sec)\n",
            "INFO:tensorflow:global_step/sec: 310.751\n",
            "INFO:tensorflow:loss = 14.345677, step = 4600 (0.324 sec)\n",
            "INFO:tensorflow:global_step/sec: 320.476\n",
            "INFO:tensorflow:loss = 38.52304, step = 4700 (0.310 sec)\n",
            "INFO:tensorflow:global_step/sec: 308.973\n",
            "INFO:tensorflow:loss = 5.6016164, step = 4800 (0.324 sec)\n",
            "INFO:tensorflow:Calling checkpoint listeners before saving checkpoint 4884...\n",
            "INFO:tensorflow:Saving checkpoints for 4884 into /tmp/tmpdrjak0pu/model.ckpt.\n",
            "INFO:tensorflow:Calling checkpoint listeners after saving checkpoint 4884...\n",
            "INFO:tensorflow:Loss for final step: 1.9927202.\n"
          ],
          "name": "stdout"
        },
        {
          "output_type": "execute_result",
          "data": {
            "text/plain": [
              "<tensorflow_estimator.python.estimator.canned.linear.LinearClassifier at 0x7f5729784278>"
            ]
          },
          "metadata": {
            "tags": []
          },
          "execution_count": 242
        }
      ]
    },
    {
      "cell_type": "markdown",
      "metadata": {
        "id": "t4n8AFUtrAhj",
        "colab_type": "text"
      },
      "source": [
        "## Testing Model"
      ]
    },
    {
      "cell_type": "code",
      "metadata": {
        "id": "8eAp7--Eq_m5",
        "colab_type": "code",
        "outputId": "f785b185-e0b4-42ad-bdd7-ac4333fadc36",
        "colab": {
          "base_uri": "https://localhost:8080/",
          "height": 118
        }
      },
      "source": [
        "pred_fn = tf.compat.v1.estimator.inputs.pandas_input_fn(\n",
        "    x=x_test,batch_size=len(x_test),shuffle=False)\n",
        "predictions = list(model.predict(input_fn=pred_fn))\n",
        "final_preds = []\n",
        "for pred in predictions:\n",
        "    final_preds.append(pred['class_ids'][0])\n",
        "eval_input_func = tf.compat.v1.estimator.inputs.pandas_input_fn(\n",
        "    x=x_test,y=y_test,batch_size=len(x_test),shuffle=False)"
      ],
      "execution_count": 0,
      "outputs": [
        {
          "output_type": "stream",
          "text": [
            "INFO:tensorflow:Calling model_fn.\n",
            "INFO:tensorflow:Done calling model_fn.\n",
            "INFO:tensorflow:Graph was finalized.\n",
            "INFO:tensorflow:Restoring parameters from /tmp/tmpdrjak0pu/model.ckpt-4884\n",
            "INFO:tensorflow:Running local_init_op.\n",
            "INFO:tensorflow:Done running local_init_op.\n"
          ],
          "name": "stdout"
        }
      ]
    },
    {
      "cell_type": "markdown",
      "metadata": {
        "id": "Sx4IT4IrkMSE",
        "colab_type": "text"
      },
      "source": [
        "#**Results and Comparison**"
      ]
    },
    {
      "cell_type": "code",
      "metadata": {
        "id": "t7UR1OB5kU7a",
        "colab_type": "code",
        "colab": {}
      },
      "source": [
        ""
      ],
      "execution_count": 0,
      "outputs": []
    },
    {
      "cell_type": "markdown",
      "metadata": {
        "id": "9enxIvYTkVhN",
        "colab_type": "text"
      },
      "source": [
        "##Deep Learning Training Graph"
      ]
    },
    {
      "cell_type": "code",
      "metadata": {
        "id": "lcI9FeS0kenf",
        "colab_type": "code",
        "outputId": "98bb35d4-9477-4ec8-f4d6-08fce005c932",
        "colab": {
          "base_uri": "https://localhost:8080/",
          "height": 394
        }
      },
      "source": [
        "plt.figure(figsize =(12,6))\n",
        "plt.plot(history.history['loss'])\n",
        "plt.plot(history.history['acc'])\n",
        "plt.plot(history.history['f1_m'])\n",
        "plt.plot(history.history['precision_m'])\n",
        "plt.plot(history.history['recall_m'])\n",
        "plt.ylabel('score')\n",
        "plt.xlabel('epoch')\n",
        "plt.legend(['Loss', 'Accuracy', 'F1 Score', 'Precision', 'Recall'], loc='upper left')\n",
        "plt.show()"
      ],
      "execution_count": 0,
      "outputs": [
        {
          "output_type": "display_data",
          "data": {
            "image/png": "[encoded data removed]",
            "text/plain": [
              "<Figure size 864x432 with 1 Axes>"
            ]
          },
          "metadata": {
            "tags": []
          }
        }
      ]
    },
    {
      "cell_type": "markdown",
      "metadata": {
        "id": "EbDCB3T2fGDZ",
        "colab_type": "text"
      },
      "source": [
        "## Deep Learning Test Score"
      ]
    },
    {
      "cell_type": "code",
      "metadata": {
        "id": "AiDa5dx5fP2h",
        "colab_type": "code",
        "outputId": "9d118fff-9114-4b85-eea5-925e8b88514f",
        "colab": {
          "base_uri": "https://localhost:8080/",
          "height": 119
        }
      },
      "source": [
        "print('--Test Score--')\n",
        "print('Loss\\t\\t: ', loss)\n",
        "print('Accuracy\\t: ', accuracy)\n",
        "print('F1 Score\\t: ', f1_score)\n",
        "print('Precision\\t: ', precision)\n",
        "print('Recall\\t\\t: ', recall)"
      ],
      "execution_count": 0,
      "outputs": [
        {
          "output_type": "stream",
          "text": [
            "--Test Score--\n",
            "Loss\t\t:  0.6619620323181152\n",
            "Accuracy\t:  0.8023290634155273\n",
            "F1 Score\t:  0.8057201504707336\n",
            "Precision\t:  0.7492789030075073\n",
            "Recall\t\t:  0.8775470852851868\n"
          ],
          "name": "stdout"
        }
      ]
    },
    {
      "cell_type": "markdown",
      "metadata": {
        "id": "OaoIBgR9keyT",
        "colab_type": "text"
      },
      "source": [
        "##Linear Classification Confusion Matrix"
      ]
    },
    {
      "cell_type": "code",
      "metadata": {
        "id": "oeUY7BK0sN2x",
        "colab_type": "code",
        "colab": {}
      },
      "source": [
        "cm = confusion_matrix(y_test,final_preds)"
      ],
      "execution_count": 0,
      "outputs": []
    },
    {
      "cell_type": "code",
      "metadata": {
        "id": "yR2tf6_qsPij",
        "colab_type": "code",
        "outputId": "d918c223-1380-433d-8101-288d61ba2051",
        "colab": {
          "base_uri": "https://localhost:8080/",
          "height": 465
        }
      },
      "source": [
        "plt.figure(figsize =(10,7))\n",
        "sns.heatmap(cm,annot=True)\n",
        "plt.xlabel('Predicted Values')\n",
        "plt.ylabel('Actual Values')"
      ],
      "execution_count": 0,
      "outputs": [
        {
          "output_type": "execute_result",
          "data": {
            "text/plain": [
              "Text(66.5, 0.5, 'Actual Values')"
            ]
          },
          "metadata": {
            "tags": []
          },
          "execution_count": 248
        },
        {
          "output_type": "display_data",
          "data": {
            "image/png": "[encoded data removed]",
            "text/plain": [
              "<Figure size 720x504 with 2 Axes>"
            ]
          },
          "metadata": {
            "tags": []
          }
        }
      ]
    },
    {
      "cell_type": "code",
      "metadata": {
        "id": "FMzm5pnjk9Oc",
        "colab_type": "code",
        "colab": {}
      },
      "source": [
        ""
      ],
      "execution_count": 0,
      "outputs": []
    },
    {
      "cell_type": "markdown",
      "metadata": {
        "id": "o_WtEYCtG4il",
        "colab_type": "text"
      },
      "source": [
        "## Linear Classification Test Score"
      ]
    },
    {
      "cell_type": "code",
      "metadata": {
        "id": "9cP8l9TQsB-H",
        "colab_type": "code",
        "outputId": "249b7d9f-ee13-4c6b-e511-5d3169e3c711",
        "colab": {
          "base_uri": "https://localhost:8080/",
          "height": 168
        }
      },
      "source": [
        "print(classification_report(y_test,final_preds))"
      ],
      "execution_count": 0,
      "outputs": [
        {
          "output_type": "stream",
          "text": [
            "              precision    recall  f1-score   support\n",
            "\n",
            "           0       0.73      0.88      0.80      1743\n",
            "           1       0.83      0.65      0.73      1606\n",
            "\n",
            "    accuracy                           0.77      3349\n",
            "   macro avg       0.78      0.77      0.77      3349\n",
            "weighted avg       0.78      0.77      0.77      3349\n",
            "\n"
          ],
          "name": "stdout"
        }
      ]
    },
    {
      "cell_type": "code",
      "metadata": {
        "id": "bGwIF9qvsEaa",
        "colab_type": "code",
        "outputId": "3c186c2f-76c9-4389-bdfc-b69e6ea63702",
        "colab": {
          "base_uri": "https://localhost:8080/",
          "height": 440
        }
      },
      "source": [
        "results = model.evaluate(eval_input_func)\n",
        "results"
      ],
      "execution_count": 0,
      "outputs": [
        {
          "output_type": "stream",
          "text": [
            "INFO:tensorflow:Calling model_fn.\n",
            "WARNING:tensorflow:Trapezoidal rule is known to produce incorrect PR-AUCs; please switch to \"careful_interpolation\" instead.\n",
            "WARNING:tensorflow:Trapezoidal rule is known to produce incorrect PR-AUCs; please switch to \"careful_interpolation\" instead.\n",
            "INFO:tensorflow:Done calling model_fn.\n",
            "INFO:tensorflow:Starting evaluation at 2020-03-29T16:35:08Z\n",
            "INFO:tensorflow:Graph was finalized.\n",
            "INFO:tensorflow:Restoring parameters from /tmp/tmpdrjak0pu/model.ckpt-4884\n",
            "INFO:tensorflow:Running local_init_op.\n",
            "INFO:tensorflow:Done running local_init_op.\n",
            "INFO:tensorflow:Inference Time : 0.81422s\n",
            "INFO:tensorflow:Finished evaluation at 2020-03-29-16:35:09\n",
            "INFO:tensorflow:Saving dict for global step 4884: accuracy = 0.7700806, accuracy_baseline = 0.5204539, auc = 0.85157573, auc_precision_recall = 0.83275443, average_loss = 0.72353697, global_step = 4884, label/mean = 0.47954613, loss = 2423.1252, precision = 0.8306962, prediction/mean = 0.39164382, recall = 0.6537983\n",
            "INFO:tensorflow:Saving 'checkpoint_path' summary for global step 4884: /tmp/tmpdrjak0pu/model.ckpt-4884\n"
          ],
          "name": "stdout"
        },
        {
          "output_type": "execute_result",
          "data": {
            "text/plain": [
              "{'accuracy': 0.7700806,\n",
              " 'accuracy_baseline': 0.5204539,\n",
              " 'auc': 0.85157573,\n",
              " 'auc_precision_recall': 0.83275443,\n",
              " 'average_loss': 0.72353697,\n",
              " 'global_step': 4884,\n",
              " 'label/mean': 0.47954613,\n",
              " 'loss': 2423.1252,\n",
              " 'precision': 0.8306962,\n",
              " 'prediction/mean': 0.39164382,\n",
              " 'recall': 0.6537983}"
            ]
          },
          "metadata": {
            "tags": []
          },
          "execution_count": 245
        }
      ]
    },
    {
      "cell_type": "code",
      "metadata": {
        "id": "IQ53fpvXJbD-",
        "colab_type": "code",
        "outputId": "b5610080-307d-4dd7-a461-b2613596c456",
        "colab": {
          "base_uri": "https://localhost:8080/",
          "height": 34
        }
      },
      "source": [
        "print(\"F1 Score: {}\".format(f1_score(y_test,final_preds)))"
      ],
      "execution_count": 0,
      "outputs": [
        {
          "output_type": "stream",
          "text": [
            "F1 Score: 0.7317073170731707\n"
          ],
          "name": "stdout"
        }
      ]
    }
  ]
}