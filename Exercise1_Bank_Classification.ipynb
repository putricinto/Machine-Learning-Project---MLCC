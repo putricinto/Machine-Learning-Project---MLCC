{
  "nbformat": 4,
  "nbformat_minor": 0,
  "metadata": {
    "colab": {
      "name": "Exercise1_Bank_Classification.ipynb",
      "provenance": [],
      "collapsed_sections": [],
      "toc_visible": true,
      "include_colab_link": true
    },
    "kernelspec": {
      "name": "python3",
      "display_name": "Python 3"
    }
  },
  "cells": [
    {
      "cell_type": "markdown",
      "metadata": {
        "id": "view-in-github",
        "colab_type": "text"
      },
      "source": [
        "<a href=\"https://colab.research.google.com/github/putricinto/Machine-Learning-Project---MLCC/blob/master/Exercise1_Bank_Classification.ipynb\" target=\"_parent\"><img src=\"https://colab.research.google.com/assets/colab-badge.svg\" alt=\"Open In Colab\"/></a>"
      ]
    },
    {
      "cell_type": "markdown",
      "metadata": {
        "id": "VsilqGJwfuHx",
        "colab_type": "text"
      },
      "source": [
        "# **Data Preparation**\n",
        "\n"
      ]
    },
    {
      "cell_type": "markdown",
      "metadata": {
        "id": "mgbumVsSxKob",
        "colab_type": "text"
      },
      "source": [
        "**Read in the csv data with pandas**\n",
        "\n",
        "\n",
        "\n"
      ]
    },
    {
      "cell_type": "code",
      "metadata": {
        "id": "6qeOPperCdhl",
        "colab_type": "code",
        "colab": {}
      },
      "source": [
        "%tensorflow_version 2.x"
      ],
      "execution_count": 0,
      "outputs": []
    },
    {
      "cell_type": "code",
      "metadata": {
        "id": "aHykqvIfvT4M",
        "colab_type": "code",
        "colab": {}
      },
      "source": [
        "import pandas as pd\n",
        "import numpy as np\n",
        "from scipy import stats\n",
        "import sys\n",
        "import seaborn as sns\n",
        "import matplotlib.pyplot as plt\n",
        "import tensorflow as tf\n",
        "from tensorflow import feature_column\n",
        "from tensorflow.keras import layers\n",
        "from sklearn.model_selection import train_test_split\n",
        "from sklearn.metrics import classification_report"
      ],
      "execution_count": 0,
      "outputs": []
    },
    {
      "cell_type": "code",
      "metadata": {
        "id": "esFj5xR9vXQI",
        "colab_type": "code",
        "outputId": "15bcf4d3-4ff3-45d1-a2c3-671a160448b4",
        "colab": {
          "base_uri": "https://localhost:8080/",
          "height": 456
        }
      },
      "source": [
        "url = 'https://raw.githubusercontent.com/putricinto/Machine-Learning-Project---MLCC/master/bank.csv'\n",
        "bank = pd.read_csv(url)\n",
        "bank"
      ],
      "execution_count": 53,
      "outputs": [
        {
          "output_type": "execute_result",
          "data": {
            "text/html": [
              "<div>\n",
              "<style scoped>\n",
              "    .dataframe tbody tr th:only-of-type {\n",
              "        vertical-align: middle;\n",
              "    }\n",
              "\n",
              "    .dataframe tbody tr th {\n",
              "        vertical-align: top;\n",
              "    }\n",
              "\n",
              "    .dataframe thead th {\n",
              "        text-align: right;\n",
              "    }\n",
              "</style>\n",
              "<table border=\"1\" class=\"dataframe\">\n",
              "  <thead>\n",
              "    <tr style=\"text-align: right;\">\n",
              "      <th></th>\n",
              "      <th>age</th>\n",
              "      <th>job</th>\n",
              "      <th>marital</th>\n",
              "      <th>education</th>\n",
              "      <th>default</th>\n",
              "      <th>balance</th>\n",
              "      <th>housing</th>\n",
              "      <th>loan</th>\n",
              "      <th>contact</th>\n",
              "      <th>day</th>\n",
              "      <th>month</th>\n",
              "      <th>duration</th>\n",
              "      <th>campaign</th>\n",
              "      <th>pdays</th>\n",
              "      <th>previous</th>\n",
              "      <th>poutcome</th>\n",
              "      <th>deposit</th>\n",
              "    </tr>\n",
              "  </thead>\n",
              "  <tbody>\n",
              "    <tr>\n",
              "      <th>0</th>\n",
              "      <td>59</td>\n",
              "      <td>admin.</td>\n",
              "      <td>married</td>\n",
              "      <td>secondary</td>\n",
              "      <td>no</td>\n",
              "      <td>2343</td>\n",
              "      <td>yes</td>\n",
              "      <td>no</td>\n",
              "      <td>unknown</td>\n",
              "      <td>5</td>\n",
              "      <td>may</td>\n",
              "      <td>1042</td>\n",
              "      <td>1</td>\n",
              "      <td>-1</td>\n",
              "      <td>0</td>\n",
              "      <td>unknown</td>\n",
              "      <td>yes</td>\n",
              "    </tr>\n",
              "    <tr>\n",
              "      <th>1</th>\n",
              "      <td>56</td>\n",
              "      <td>admin.</td>\n",
              "      <td>married</td>\n",
              "      <td>secondary</td>\n",
              "      <td>no</td>\n",
              "      <td>45</td>\n",
              "      <td>no</td>\n",
              "      <td>no</td>\n",
              "      <td>unknown</td>\n",
              "      <td>5</td>\n",
              "      <td>may</td>\n",
              "      <td>1467</td>\n",
              "      <td>1</td>\n",
              "      <td>-1</td>\n",
              "      <td>0</td>\n",
              "      <td>unknown</td>\n",
              "      <td>yes</td>\n",
              "    </tr>\n",
              "    <tr>\n",
              "      <th>2</th>\n",
              "      <td>41</td>\n",
              "      <td>technician</td>\n",
              "      <td>married</td>\n",
              "      <td>secondary</td>\n",
              "      <td>no</td>\n",
              "      <td>1270</td>\n",
              "      <td>yes</td>\n",
              "      <td>no</td>\n",
              "      <td>unknown</td>\n",
              "      <td>5</td>\n",
              "      <td>may</td>\n",
              "      <td>1389</td>\n",
              "      <td>1</td>\n",
              "      <td>-1</td>\n",
              "      <td>0</td>\n",
              "      <td>unknown</td>\n",
              "      <td>yes</td>\n",
              "    </tr>\n",
              "    <tr>\n",
              "      <th>3</th>\n",
              "      <td>55</td>\n",
              "      <td>services</td>\n",
              "      <td>married</td>\n",
              "      <td>secondary</td>\n",
              "      <td>no</td>\n",
              "      <td>2476</td>\n",
              "      <td>yes</td>\n",
              "      <td>no</td>\n",
              "      <td>unknown</td>\n",
              "      <td>5</td>\n",
              "      <td>may</td>\n",
              "      <td>579</td>\n",
              "      <td>1</td>\n",
              "      <td>-1</td>\n",
              "      <td>0</td>\n",
              "      <td>unknown</td>\n",
              "      <td>yes</td>\n",
              "    </tr>\n",
              "    <tr>\n",
              "      <th>4</th>\n",
              "      <td>54</td>\n",
              "      <td>admin.</td>\n",
              "      <td>married</td>\n",
              "      <td>tertiary</td>\n",
              "      <td>no</td>\n",
              "      <td>184</td>\n",
              "      <td>no</td>\n",
              "      <td>no</td>\n",
              "      <td>unknown</td>\n",
              "      <td>5</td>\n",
              "      <td>may</td>\n",
              "      <td>673</td>\n",
              "      <td>2</td>\n",
              "      <td>-1</td>\n",
              "      <td>0</td>\n",
              "      <td>unknown</td>\n",
              "      <td>yes</td>\n",
              "    </tr>\n",
              "    <tr>\n",
              "      <th>...</th>\n",
              "      <td>...</td>\n",
              "      <td>...</td>\n",
              "      <td>...</td>\n",
              "      <td>...</td>\n",
              "      <td>...</td>\n",
              "      <td>...</td>\n",
              "      <td>...</td>\n",
              "      <td>...</td>\n",
              "      <td>...</td>\n",
              "      <td>...</td>\n",
              "      <td>...</td>\n",
              "      <td>...</td>\n",
              "      <td>...</td>\n",
              "      <td>...</td>\n",
              "      <td>...</td>\n",
              "      <td>...</td>\n",
              "      <td>...</td>\n",
              "    </tr>\n",
              "    <tr>\n",
              "      <th>11157</th>\n",
              "      <td>33</td>\n",
              "      <td>blue-collar</td>\n",
              "      <td>single</td>\n",
              "      <td>primary</td>\n",
              "      <td>no</td>\n",
              "      <td>1</td>\n",
              "      <td>yes</td>\n",
              "      <td>no</td>\n",
              "      <td>cellular</td>\n",
              "      <td>20</td>\n",
              "      <td>apr</td>\n",
              "      <td>257</td>\n",
              "      <td>1</td>\n",
              "      <td>-1</td>\n",
              "      <td>0</td>\n",
              "      <td>unknown</td>\n",
              "      <td>no</td>\n",
              "    </tr>\n",
              "    <tr>\n",
              "      <th>11158</th>\n",
              "      <td>39</td>\n",
              "      <td>services</td>\n",
              "      <td>married</td>\n",
              "      <td>secondary</td>\n",
              "      <td>no</td>\n",
              "      <td>733</td>\n",
              "      <td>no</td>\n",
              "      <td>no</td>\n",
              "      <td>unknown</td>\n",
              "      <td>16</td>\n",
              "      <td>jun</td>\n",
              "      <td>83</td>\n",
              "      <td>4</td>\n",
              "      <td>-1</td>\n",
              "      <td>0</td>\n",
              "      <td>unknown</td>\n",
              "      <td>no</td>\n",
              "    </tr>\n",
              "    <tr>\n",
              "      <th>11159</th>\n",
              "      <td>32</td>\n",
              "      <td>technician</td>\n",
              "      <td>single</td>\n",
              "      <td>secondary</td>\n",
              "      <td>no</td>\n",
              "      <td>29</td>\n",
              "      <td>no</td>\n",
              "      <td>no</td>\n",
              "      <td>cellular</td>\n",
              "      <td>19</td>\n",
              "      <td>aug</td>\n",
              "      <td>156</td>\n",
              "      <td>2</td>\n",
              "      <td>-1</td>\n",
              "      <td>0</td>\n",
              "      <td>unknown</td>\n",
              "      <td>no</td>\n",
              "    </tr>\n",
              "    <tr>\n",
              "      <th>11160</th>\n",
              "      <td>43</td>\n",
              "      <td>technician</td>\n",
              "      <td>married</td>\n",
              "      <td>secondary</td>\n",
              "      <td>no</td>\n",
              "      <td>0</td>\n",
              "      <td>no</td>\n",
              "      <td>yes</td>\n",
              "      <td>cellular</td>\n",
              "      <td>8</td>\n",
              "      <td>may</td>\n",
              "      <td>9</td>\n",
              "      <td>2</td>\n",
              "      <td>172</td>\n",
              "      <td>5</td>\n",
              "      <td>failure</td>\n",
              "      <td>no</td>\n",
              "    </tr>\n",
              "    <tr>\n",
              "      <th>11161</th>\n",
              "      <td>34</td>\n",
              "      <td>technician</td>\n",
              "      <td>married</td>\n",
              "      <td>secondary</td>\n",
              "      <td>no</td>\n",
              "      <td>0</td>\n",
              "      <td>no</td>\n",
              "      <td>no</td>\n",
              "      <td>cellular</td>\n",
              "      <td>9</td>\n",
              "      <td>jul</td>\n",
              "      <td>628</td>\n",
              "      <td>1</td>\n",
              "      <td>-1</td>\n",
              "      <td>0</td>\n",
              "      <td>unknown</td>\n",
              "      <td>no</td>\n",
              "    </tr>\n",
              "  </tbody>\n",
              "</table>\n",
              "<p>11162 rows × 17 columns</p>\n",
              "</div>"
            ],
            "text/plain": [
              "       age          job  marital  education  ... pdays  previous poutcome deposit\n",
              "0       59       admin.  married  secondary  ...    -1         0  unknown     yes\n",
              "1       56       admin.  married  secondary  ...    -1         0  unknown     yes\n",
              "2       41   technician  married  secondary  ...    -1         0  unknown     yes\n",
              "3       55     services  married  secondary  ...    -1         0  unknown     yes\n",
              "4       54       admin.  married   tertiary  ...    -1         0  unknown     yes\n",
              "...    ...          ...      ...        ...  ...   ...       ...      ...     ...\n",
              "11157   33  blue-collar   single    primary  ...    -1         0  unknown      no\n",
              "11158   39     services  married  secondary  ...    -1         0  unknown      no\n",
              "11159   32   technician   single  secondary  ...    -1         0  unknown      no\n",
              "11160   43   technician  married  secondary  ...   172         5  failure      no\n",
              "11161   34   technician  married  secondary  ...    -1         0  unknown      no\n",
              "\n",
              "[11162 rows x 17 columns]"
            ]
          },
          "metadata": {
            "tags": []
          },
          "execution_count": 53
        }
      ]
    },
    {
      "cell_type": "markdown",
      "metadata": {
        "id": "kcchdmFFDNmV",
        "colab_type": "text"
      },
      "source": [
        "**Informations and Charactheristics of The Data**"
      ]
    },
    {
      "cell_type": "code",
      "metadata": {
        "id": "TODGBWrPBChN",
        "colab_type": "code",
        "outputId": "8850c57f-0d03-4cc5-b558-2813edd568b9",
        "colab": {
          "base_uri": "https://localhost:8080/",
          "height": 671
        }
      },
      "source": [
        "bank.info()\n",
        "bank.describe()"
      ],
      "execution_count": 54,
      "outputs": [
        {
          "output_type": "stream",
          "text": [
            "<class 'pandas.core.frame.DataFrame'>\n",
            "RangeIndex: 11162 entries, 0 to 11161\n",
            "Data columns (total 17 columns):\n",
            "age          11162 non-null int64\n",
            "job          11162 non-null object\n",
            "marital      11162 non-null object\n",
            "education    11162 non-null object\n",
            "default      11162 non-null object\n",
            "balance      11162 non-null int64\n",
            "housing      11162 non-null object\n",
            "loan         11162 non-null object\n",
            "contact      11162 non-null object\n",
            "day          11162 non-null int64\n",
            "month        11162 non-null object\n",
            "duration     11162 non-null int64\n",
            "campaign     11162 non-null int64\n",
            "pdays        11162 non-null int64\n",
            "previous     11162 non-null int64\n",
            "poutcome     11162 non-null object\n",
            "deposit      11162 non-null object\n",
            "dtypes: int64(7), object(10)\n",
            "memory usage: 1.4+ MB\n"
          ],
          "name": "stdout"
        },
        {
          "output_type": "execute_result",
          "data": {
            "text/html": [
              "<div>\n",
              "<style scoped>\n",
              "    .dataframe tbody tr th:only-of-type {\n",
              "        vertical-align: middle;\n",
              "    }\n",
              "\n",
              "    .dataframe tbody tr th {\n",
              "        vertical-align: top;\n",
              "    }\n",
              "\n",
              "    .dataframe thead th {\n",
              "        text-align: right;\n",
              "    }\n",
              "</style>\n",
              "<table border=\"1\" class=\"dataframe\">\n",
              "  <thead>\n",
              "    <tr style=\"text-align: right;\">\n",
              "      <th></th>\n",
              "      <th>age</th>\n",
              "      <th>balance</th>\n",
              "      <th>day</th>\n",
              "      <th>duration</th>\n",
              "      <th>campaign</th>\n",
              "      <th>pdays</th>\n",
              "      <th>previous</th>\n",
              "    </tr>\n",
              "  </thead>\n",
              "  <tbody>\n",
              "    <tr>\n",
              "      <th>count</th>\n",
              "      <td>11162.000000</td>\n",
              "      <td>11162.000000</td>\n",
              "      <td>11162.000000</td>\n",
              "      <td>11162.000000</td>\n",
              "      <td>11162.000000</td>\n",
              "      <td>11162.000000</td>\n",
              "      <td>11162.000000</td>\n",
              "    </tr>\n",
              "    <tr>\n",
              "      <th>mean</th>\n",
              "      <td>41.231948</td>\n",
              "      <td>1528.538524</td>\n",
              "      <td>15.658036</td>\n",
              "      <td>371.993818</td>\n",
              "      <td>2.508421</td>\n",
              "      <td>51.330407</td>\n",
              "      <td>0.832557</td>\n",
              "    </tr>\n",
              "    <tr>\n",
              "      <th>std</th>\n",
              "      <td>11.913369</td>\n",
              "      <td>3225.413326</td>\n",
              "      <td>8.420740</td>\n",
              "      <td>347.128386</td>\n",
              "      <td>2.722077</td>\n",
              "      <td>108.758282</td>\n",
              "      <td>2.292007</td>\n",
              "    </tr>\n",
              "    <tr>\n",
              "      <th>min</th>\n",
              "      <td>18.000000</td>\n",
              "      <td>-6847.000000</td>\n",
              "      <td>1.000000</td>\n",
              "      <td>2.000000</td>\n",
              "      <td>1.000000</td>\n",
              "      <td>-1.000000</td>\n",
              "      <td>0.000000</td>\n",
              "    </tr>\n",
              "    <tr>\n",
              "      <th>25%</th>\n",
              "      <td>32.000000</td>\n",
              "      <td>122.000000</td>\n",
              "      <td>8.000000</td>\n",
              "      <td>138.000000</td>\n",
              "      <td>1.000000</td>\n",
              "      <td>-1.000000</td>\n",
              "      <td>0.000000</td>\n",
              "    </tr>\n",
              "    <tr>\n",
              "      <th>50%</th>\n",
              "      <td>39.000000</td>\n",
              "      <td>550.000000</td>\n",
              "      <td>15.000000</td>\n",
              "      <td>255.000000</td>\n",
              "      <td>2.000000</td>\n",
              "      <td>-1.000000</td>\n",
              "      <td>0.000000</td>\n",
              "    </tr>\n",
              "    <tr>\n",
              "      <th>75%</th>\n",
              "      <td>49.000000</td>\n",
              "      <td>1708.000000</td>\n",
              "      <td>22.000000</td>\n",
              "      <td>496.000000</td>\n",
              "      <td>3.000000</td>\n",
              "      <td>20.750000</td>\n",
              "      <td>1.000000</td>\n",
              "    </tr>\n",
              "    <tr>\n",
              "      <th>max</th>\n",
              "      <td>95.000000</td>\n",
              "      <td>81204.000000</td>\n",
              "      <td>31.000000</td>\n",
              "      <td>3881.000000</td>\n",
              "      <td>63.000000</td>\n",
              "      <td>854.000000</td>\n",
              "      <td>58.000000</td>\n",
              "    </tr>\n",
              "  </tbody>\n",
              "</table>\n",
              "</div>"
            ],
            "text/plain": [
              "                age       balance  ...         pdays      previous\n",
              "count  11162.000000  11162.000000  ...  11162.000000  11162.000000\n",
              "mean      41.231948   1528.538524  ...     51.330407      0.832557\n",
              "std       11.913369   3225.413326  ...    108.758282      2.292007\n",
              "min       18.000000  -6847.000000  ...     -1.000000      0.000000\n",
              "25%       32.000000    122.000000  ...     -1.000000      0.000000\n",
              "50%       39.000000    550.000000  ...     -1.000000      0.000000\n",
              "75%       49.000000   1708.000000  ...     20.750000      1.000000\n",
              "max       95.000000  81204.000000  ...    854.000000     58.000000\n",
              "\n",
              "[8 rows x 7 columns]"
            ]
          },
          "metadata": {
            "tags": []
          },
          "execution_count": 54
        }
      ]
    },
    {
      "cell_type": "markdown",
      "metadata": {
        "id": "h0WkQrOfxg2H",
        "colab_type": "text"
      },
      "source": [
        "## **Data Visualization**"
      ]
    },
    {
      "cell_type": "code",
      "metadata": {
        "id": "oWdu1wRWA-dm",
        "colab_type": "code",
        "outputId": "294b797f-4f4c-471e-80a3-f8930b57c4a8",
        "colab": {
          "base_uri": "https://localhost:8080/",
          "height": 248
        }
      },
      "source": [
        "#Pie Chart of The Label (Deposit)\n",
        "y=list(bank['deposit'])\n",
        "labels = 'yes', 'no'\n",
        "sizes = [y.count('yes'), y.count('no')]\n",
        "\n",
        "fig1, ax1 = plt.subplots()\n",
        "ax1.pie(sizes, labels=labels, autopct='%1.1f%%', startangle=90)\n",
        "ax1.axis('equal')  # Equal aspect ratio ensures that pie is drawn as a circle.\n",
        "\n",
        "plt.show()"
      ],
      "execution_count": 55,
      "outputs": [
        {
          "output_type": "display_data",
          "data": {
            "image/png": "[encoded data removed]",
            "text/plain": [
              "<Figure size 432x288 with 1 Axes>"
            ]
          },
          "metadata": {
            "tags": []
          }
        }
      ]
    },
    {
      "cell_type": "code",
      "metadata": {
        "id": "EH9qQ5UlBbCk",
        "colab_type": "code",
        "outputId": "fde52623-86e0-4b0c-8e25-28cc0d8ca5ae",
        "colab": {
          "base_uri": "https://localhost:8080/",
          "height": 610
        }
      },
      "source": [
        "#Histigram of Numerical Variables\n",
        "fig, axs = plt.subplots(2, 4, figsize=(15, 10))\n",
        "\n",
        "colors = ['pink']\n",
        "axs[0, 0].hist(bank['age'])\n",
        "axs[0, 0].set_title('age')\n",
        "\n",
        "axs[0, 1].hist(bank['balance'])\n",
        "axs[0, 1].set_title('balance')\n",
        "\n",
        "axs[0, 2].hist(bank['day'])\n",
        "axs[0, 2].set_title('day')\n",
        "\n",
        "axs[0, 3].hist(bank['duration'])\n",
        "axs[0, 3].set_title('duration')\n",
        "\n",
        "axs[1, 0].hist(bank['campaign'])\n",
        "axs[1, 0].set_title('campaign')\n",
        "\n",
        "axs[1, 1].hist(bank['pdays'])\n",
        "axs[1, 1].set_title('pdays')\n",
        "\n",
        "axs[1, 2].hist(bank['previous'])\n",
        "axs[1, 2].set_title('previous')\n",
        "\n",
        "plt.show()"
      ],
      "execution_count": 56,
      "outputs": [
        {
          "output_type": "display_data",
          "data": {
            "image/png": "[encoded data removed]",
            "text/plain": [
              "<Figure size 1080x720 with 8 Axes>"
            ]
          },
          "metadata": {
            "tags": []
          }
        }
      ]
    },
    {
      "cell_type": "code",
      "metadata": {
        "id": "figBoI4vBdnJ",
        "colab_type": "code",
        "colab": {}
      },
      "source": [
        "#Because so many outliers on balance, pdyas, previous, campaign, and duration\n",
        "#we decide to change into categorical variables\n",
        "def pdays(row):\n",
        "    if row['pdays'] == -1:\n",
        "        val = 0\n",
        "    else:\n",
        "        val = 1\n",
        "    return val\n",
        "def previous(row):\n",
        "    if row['previous'] == 0:\n",
        "        val = 0\n",
        "    else:\n",
        "        val = 1\n",
        "    return val\n",
        "def campaign(row):\n",
        "    if row['campaign'] == 0:\n",
        "        val = 0\n",
        "    else:\n",
        "        val = 1\n",
        "    return val\n",
        "def balance(row):\n",
        "    if row['balance'] == 0:\n",
        "        val = 0\n",
        "    elif row['balance']<0:\n",
        "        val = -1\n",
        "    else:\n",
        "        val = 1\n",
        "    return val\n",
        "def duration_bin1(row):\n",
        "    if row['duration']<=1000:\n",
        "        val = 1\n",
        "    else:\n",
        "        val = 0\n",
        "    return val\n",
        "def duration_bin2(row):\n",
        "    if 1000<row['duration']<=2000:\n",
        "        val = 1\n",
        "    else:\n",
        "        val = 0\n",
        "    return val\n",
        "def duration_bin3(row):\n",
        "    if 2000<row['duration']<=3000:\n",
        "        val = 1\n",
        "    else:\n",
        "        val = 0\n",
        "    return val\n",
        "bank['pdays_1'] = bank.apply(pdays, axis=1)\n",
        "bank['previous_1'] = bank.apply(previous, axis=1)\n",
        "bank['campaign_1'] = bank.apply(campaign, axis=1)\n",
        "bank['balance_1'] = bank.apply(balance, axis=1)\n",
        "bank['duration_bin1']=bank.apply(duration_bin1, axis=1)\n",
        "bank['duration_bin2']=bank.apply(duration_bin2, axis=1)\n",
        "bank['duration_bin3']=bank.apply(duration_bin3, axis=1)"
      ],
      "execution_count": 0,
      "outputs": []
    },
    {
      "cell_type": "code",
      "metadata": {
        "id": "IdEpy2G6BgwJ",
        "colab_type": "code",
        "colab": {}
      },
      "source": [
        "bank=bank.drop(['pdays','previous','campaign','balance','duration'],1)"
      ],
      "execution_count": 0,
      "outputs": []
    },
    {
      "cell_type": "markdown",
      "metadata": {
        "id": "0WIN-dYEFLxA",
        "colab_type": "text"
      },
      "source": [
        "## **Overcoming The Outliers**"
      ]
    },
    {
      "cell_type": "code",
      "metadata": {
        "id": "760DNn2EBi5z",
        "colab_type": "code",
        "outputId": "807b0afe-0c40-445d-93b3-990bc1bc89c4",
        "colab": {
          "base_uri": "https://localhost:8080/",
          "height": 153
        }
      },
      "source": [
        "bank1=bank.drop(['job','marital','education','default','housing','loan','contact','month','poutcome','pdays_1','previous_1','campaign_1','balance_1','duration_bin1','duration_bin2','duration_bin3','deposit'],1)\n",
        "#Mengatasi Outlier\n",
        "import numpy as np\n",
        "from scipy import stats\n",
        "z=np.abs(stats.zscore(bank1._get_numeric_data()))\n",
        "print(z)\n",
        "bank=bank[(z<3).all(axis=1)]\n",
        "print(bank.shape)"
      ],
      "execution_count": 59,
      "outputs": [
        {
          "output_type": "stream",
          "text": [
            "[[1.49150488 1.26574556]\n",
            " [1.23967567 1.26574556]\n",
            " [0.0194704  1.26574556]\n",
            " ...\n",
            " [0.77495804 0.39689074]\n",
            " [0.14841574 0.90946635]\n",
            " [0.6070719  0.79070662]]\n",
            "(11030, 19)\n"
          ],
          "name": "stdout"
        }
      ]
    },
    {
      "cell_type": "code",
      "metadata": {
        "id": "vcnHsYhEBty9",
        "colab_type": "code",
        "outputId": "f04b45e5-8403-4752-c9e4-ef6c539ad7e3",
        "colab": {
          "base_uri": "https://localhost:8080/",
          "height": 285
        }
      },
      "source": [
        "#Numbers of Outlier\n",
        "sns.set(style=\"whitegrid\")\n",
        "c=pd.DataFrame([])\n",
        "c['Outliers']=[\"No\",\"Yes\"]\n",
        "c['Number of Observations']=[11030,132]\n",
        "bx = sns.barplot(x=\"Outliers\", y=\"Number of Observations\",data=c)\n",
        "plt.show()"
      ],
      "execution_count": 62,
      "outputs": [
        {
          "output_type": "display_data",
          "data": {
            "image/png": "[encoded data removed]",
            "text/plain": [
              "<Figure size 432x288 with 1 Axes>"
            ]
          },
          "metadata": {
            "tags": []
          }
        }
      ]
    },
    {
      "cell_type": "code",
      "metadata": {
        "id": "7S8bi2tfBx6C",
        "colab_type": "code",
        "outputId": "df0bdbf8-97e7-4c40-e9b2-49055f5f8075",
        "colab": {
          "base_uri": "https://localhost:8080/",
          "height": 355
        }
      },
      "source": [
        "fig, axs = plt.subplots(1, 2, figsize=(10, 5))\n",
        "\n",
        "colors = ['pink']\n",
        "axs[0].hist(bank['age'])\n",
        "axs[0].set_title('age')\n",
        "\n",
        "axs[1].hist(bank['day'])\n",
        "axs[1].set_title('day')"
      ],
      "execution_count": 63,
      "outputs": [
        {
          "output_type": "execute_result",
          "data": {
            "text/plain": [
              "Text(0.5, 1.0, 'day')"
            ]
          },
          "metadata": {
            "tags": []
          },
          "execution_count": 63
        },
        {
          "output_type": "display_data",
          "data": {
            "image/png": "[encoded data removed]",
            "text/plain": [
              "<Figure size 720x360 with 2 Axes>"
            ]
          },
          "metadata": {
            "tags": []
          }
        }
      ]
    },
    {
      "cell_type": "code",
      "metadata": {
        "id": "dZOavUstvXjl",
        "colab_type": "code",
        "outputId": "a5f0d758-c971-4600-e238-f3f7bcdd2315",
        "colab": {
          "base_uri": "https://localhost:8080/",
          "height": 221
        }
      },
      "source": [
        "bank['deposit'] = bank['deposit'].replace('yes', 1)\n",
        "bank['deposit'] = bank['deposit'].replace('no', 0)\n",
        "bank['deposit']"
      ],
      "execution_count": 64,
      "outputs": [
        {
          "output_type": "execute_result",
          "data": {
            "text/plain": [
              "0        1\n",
              "1        1\n",
              "2        1\n",
              "3        1\n",
              "4        1\n",
              "        ..\n",
              "11157    0\n",
              "11158    0\n",
              "11159    0\n",
              "11160    0\n",
              "11161    0\n",
              "Name: deposit, Length: 11030, dtype: int64"
            ]
          },
          "metadata": {
            "tags": []
          },
          "execution_count": 64
        }
      ]
    },
    {
      "cell_type": "code",
      "metadata": {
        "id": "rWJhQQEwBrTI",
        "colab_type": "code",
        "outputId": "f9b85d07-1079-4ee5-d625-1d2d0630b1c8",
        "colab": {
          "base_uri": "https://localhost:8080/",
          "height": 317
        }
      },
      "source": [
        "bank.describe()"
      ],
      "execution_count": 65,
      "outputs": [
        {
          "output_type": "execute_result",
          "data": {
            "text/html": [
              "<div>\n",
              "<style scoped>\n",
              "    .dataframe tbody tr th:only-of-type {\n",
              "        vertical-align: middle;\n",
              "    }\n",
              "\n",
              "    .dataframe tbody tr th {\n",
              "        vertical-align: top;\n",
              "    }\n",
              "\n",
              "    .dataframe thead th {\n",
              "        text-align: right;\n",
              "    }\n",
              "</style>\n",
              "<table border=\"1\" class=\"dataframe\">\n",
              "  <thead>\n",
              "    <tr style=\"text-align: right;\">\n",
              "      <th></th>\n",
              "      <th>age</th>\n",
              "      <th>day</th>\n",
              "      <th>deposit</th>\n",
              "      <th>pdays_1</th>\n",
              "      <th>previous_1</th>\n",
              "      <th>campaign_1</th>\n",
              "      <th>balance_1</th>\n",
              "      <th>duration_bin1</th>\n",
              "      <th>duration_bin2</th>\n",
              "      <th>duration_bin3</th>\n",
              "    </tr>\n",
              "  </thead>\n",
              "  <tbody>\n",
              "    <tr>\n",
              "      <th>count</th>\n",
              "      <td>11030.000000</td>\n",
              "      <td>11030.000000</td>\n",
              "      <td>11030.000000</td>\n",
              "      <td>11030.000000</td>\n",
              "      <td>11030.000000</td>\n",
              "      <td>11030.0</td>\n",
              "      <td>11030.000000</td>\n",
              "      <td>11030.000000</td>\n",
              "      <td>11030.000000</td>\n",
              "      <td>11030.000000</td>\n",
              "    </tr>\n",
              "    <tr>\n",
              "      <th>mean</th>\n",
              "      <td>40.756936</td>\n",
              "      <td>15.664823</td>\n",
              "      <td>0.470354</td>\n",
              "      <td>0.252312</td>\n",
              "      <td>0.252312</td>\n",
              "      <td>1.0</td>\n",
              "      <td>0.805893</td>\n",
              "      <td>0.936899</td>\n",
              "      <td>0.060199</td>\n",
              "      <td>0.002267</td>\n",
              "    </tr>\n",
              "    <tr>\n",
              "      <th>std</th>\n",
              "      <td>11.151027</td>\n",
              "      <td>8.424056</td>\n",
              "      <td>0.499143</td>\n",
              "      <td>0.434359</td>\n",
              "      <td>0.434359</td>\n",
              "      <td>0.0</td>\n",
              "      <td>0.530288</td>\n",
              "      <td>0.243155</td>\n",
              "      <td>0.237867</td>\n",
              "      <td>0.047556</td>\n",
              "    </tr>\n",
              "    <tr>\n",
              "      <th>min</th>\n",
              "      <td>18.000000</td>\n",
              "      <td>1.000000</td>\n",
              "      <td>0.000000</td>\n",
              "      <td>0.000000</td>\n",
              "      <td>0.000000</td>\n",
              "      <td>1.0</td>\n",
              "      <td>-1.000000</td>\n",
              "      <td>0.000000</td>\n",
              "      <td>0.000000</td>\n",
              "      <td>0.000000</td>\n",
              "    </tr>\n",
              "    <tr>\n",
              "      <th>25%</th>\n",
              "      <td>32.000000</td>\n",
              "      <td>8.000000</td>\n",
              "      <td>0.000000</td>\n",
              "      <td>0.000000</td>\n",
              "      <td>0.000000</td>\n",
              "      <td>1.0</td>\n",
              "      <td>1.000000</td>\n",
              "      <td>1.000000</td>\n",
              "      <td>0.000000</td>\n",
              "      <td>0.000000</td>\n",
              "    </tr>\n",
              "    <tr>\n",
              "      <th>50%</th>\n",
              "      <td>38.000000</td>\n",
              "      <td>15.000000</td>\n",
              "      <td>0.000000</td>\n",
              "      <td>0.000000</td>\n",
              "      <td>0.000000</td>\n",
              "      <td>1.0</td>\n",
              "      <td>1.000000</td>\n",
              "      <td>1.000000</td>\n",
              "      <td>0.000000</td>\n",
              "      <td>0.000000</td>\n",
              "    </tr>\n",
              "    <tr>\n",
              "      <th>75%</th>\n",
              "      <td>49.000000</td>\n",
              "      <td>22.000000</td>\n",
              "      <td>1.000000</td>\n",
              "      <td>1.000000</td>\n",
              "      <td>1.000000</td>\n",
              "      <td>1.0</td>\n",
              "      <td>1.000000</td>\n",
              "      <td>1.000000</td>\n",
              "      <td>0.000000</td>\n",
              "      <td>0.000000</td>\n",
              "    </tr>\n",
              "    <tr>\n",
              "      <th>max</th>\n",
              "      <td>76.000000</td>\n",
              "      <td>31.000000</td>\n",
              "      <td>1.000000</td>\n",
              "      <td>1.000000</td>\n",
              "      <td>1.000000</td>\n",
              "      <td>1.0</td>\n",
              "      <td>1.000000</td>\n",
              "      <td>1.000000</td>\n",
              "      <td>1.000000</td>\n",
              "      <td>1.000000</td>\n",
              "    </tr>\n",
              "  </tbody>\n",
              "</table>\n",
              "</div>"
            ],
            "text/plain": [
              "                age           day  ...  duration_bin2  duration_bin3\n",
              "count  11030.000000  11030.000000  ...   11030.000000   11030.000000\n",
              "mean      40.756936     15.664823  ...       0.060199       0.002267\n",
              "std       11.151027      8.424056  ...       0.237867       0.047556\n",
              "min       18.000000      1.000000  ...       0.000000       0.000000\n",
              "25%       32.000000      8.000000  ...       0.000000       0.000000\n",
              "50%       38.000000     15.000000  ...       0.000000       0.000000\n",
              "75%       49.000000     22.000000  ...       0.000000       0.000000\n",
              "max       76.000000     31.000000  ...       1.000000       1.000000\n",
              "\n",
              "[8 rows x 10 columns]"
            ]
          },
          "metadata": {
            "tags": []
          },
          "execution_count": 65
        }
      ]
    },
    {
      "cell_type": "code",
      "metadata": {
        "id": "I2gqDUR_j4eF",
        "colab_type": "code",
        "outputId": "d3ab088f-d4cf-4300-bb53-2cb2d7481afb",
        "colab": {
          "base_uri": "https://localhost:8080/",
          "height": 221
        }
      },
      "source": [
        "bank[\"deposit_is_yes\"] = (bank[\"deposit\"] > 0).astype(float)\n",
        "bank[\"deposit_is_yes\"]"
      ],
      "execution_count": 67,
      "outputs": [
        {
          "output_type": "execute_result",
          "data": {
            "text/plain": [
              "0        1.0\n",
              "1        1.0\n",
              "2        1.0\n",
              "3        1.0\n",
              "4        1.0\n",
              "        ... \n",
              "11157    0.0\n",
              "11158    0.0\n",
              "11159    0.0\n",
              "11160    0.0\n",
              "11161    0.0\n",
              "Name: deposit_is_yes, Length: 11030, dtype: float64"
            ]
          },
          "metadata": {
            "tags": []
          },
          "execution_count": 67
        }
      ]
    },
    {
      "cell_type": "markdown",
      "metadata": {
        "id": "YEzv1TeULEXV",
        "colab_type": "text"
      },
      "source": [
        "## **Data Standarization**"
      ]
    },
    {
      "cell_type": "code",
      "metadata": {
        "id": "WB06wrPWpXqj",
        "colab_type": "code",
        "outputId": "e62aec56-7fa1-492f-e7ab-ee56bebd32f9",
        "colab": {
          "base_uri": "https://localhost:8080/",
          "height": 221
        }
      },
      "source": [
        "age_mean = bank['age'].mean()\n",
        "age_std = bank['age'].std()\n",
        "age_norm = (bank['age']-age_mean)/age_std\n",
        "age_norm"
      ],
      "execution_count": 86,
      "outputs": [
        {
          "output_type": "execute_result",
          "data": {
            "text/plain": [
              "0        1.635999\n",
              "1        1.366965\n",
              "2        0.021797\n",
              "3        1.277287\n",
              "4        1.187609\n",
              "           ...   \n",
              "11157   -0.695625\n",
              "11158   -0.157558\n",
              "11159   -0.785303\n",
              "11160    0.201153\n",
              "11161   -0.605947\n",
              "Name: age, Length: 11030, dtype: float64"
            ]
          },
          "metadata": {
            "tags": []
          },
          "execution_count": 86
        }
      ]
    },
    {
      "cell_type": "code",
      "metadata": {
        "id": "_A5thwy_rOFi",
        "colab_type": "code",
        "outputId": "37325edc-149c-499a-96d7-a87399434ec3",
        "colab": {
          "base_uri": "https://localhost:8080/",
          "height": 221
        }
      },
      "source": [
        "day_mean = bank['day'].mean()\n",
        "day_std = bank['day'].std()\n",
        "day_norm = (bank['day']-day_mean)/day_std\n",
        "day_norm"
      ],
      "execution_count": 87,
      "outputs": [
        {
          "output_type": "execute_result",
          "data": {
            "text/plain": [
              "0       -1.265996\n",
              "1       -1.265996\n",
              "2       -1.265996\n",
              "3       -1.265996\n",
              "4       -1.265996\n",
              "           ...   \n",
              "11157    0.514619\n",
              "11158    0.039788\n",
              "11159    0.395911\n",
              "11160   -0.909873\n",
              "11161   -0.791166\n",
              "Name: day, Length: 11030, dtype: float64"
            ]
          },
          "metadata": {
            "tags": []
          },
          "execution_count": 87
        }
      ]
    },
    {
      "cell_type": "markdown",
      "metadata": {
        "id": "xi3oVdUbx_W6",
        "colab_type": "text"
      },
      "source": [
        "## **Create the Feature Columns for tf.esitmator**"
      ]
    },
    {
      "cell_type": "code",
      "metadata": {
        "id": "anBn7HzuwZZw",
        "colab_type": "code",
        "colab": {}
      },
      "source": [
        "feature_columns = []"
      ],
      "execution_count": 0,
      "outputs": []
    },
    {
      "cell_type": "code",
      "metadata": {
        "id": "kbtw1p7KvXf8",
        "colab_type": "code",
        "colab": {}
      },
      "source": [
        "age = feature_column.numeric_column(\"age\")\n",
        "day = feature_column.numeric_column(\"day\")\n",
        "pdays_1=feature_column.numeric_column(\"pdays_1\")\n",
        "campaign_1=feature_column.numeric_column(\"campaign_1\")\n",
        "previous_1=feature_column.numeric_column(\"previous_1\")\n",
        "duration_bin1=feature_column.numeric_column(\"duration_bin1\")\n",
        "duration_bin2=feature_column.numeric_column(\"duration_bin2\")\n",
        "duration_bin3=feature_column.numeric_column(\"duration_bin3\")"
      ],
      "execution_count": 0,
      "outputs": []
    },
    {
      "cell_type": "code",
      "metadata": {
        "id": "2PQfcjR-XoKM",
        "colab_type": "code",
        "outputId": "3afb833f-4929-47c4-c5fd-c46b022e0129",
        "colab": {
          "base_uri": "https://localhost:8080/",
          "height": 153
        }
      },
      "source": [
        "def get_normalization_parameters(bank, features):\n",
        "  def _z_score_params(column):\n",
        "    mean = bank[column].mean()\n",
        "    std = bank[column].std()\n",
        "    return {'mean': mean, 'std': std}\n",
        "  \n",
        "  normalization_parameters = {}\n",
        "  for column in features:\n",
        "    normalization_parameters[column] = _z_score_params(column)\n",
        "  return normalization_parameters\n",
        "\n",
        "NUMERIC_FEATURES = ['age','day', 'pdays_1','campaign_1','previous_1',\n",
        "                    'duration_bin1', 'duration_bin2', 'duration_bin3']\n",
        "normalization_parameters = get_normalization_parameters(bank,\n",
        "                                                        NUMERIC_FEATURES)\n",
        "normalization_parameters"
      ],
      "execution_count": 90,
      "outputs": [
        {
          "output_type": "execute_result",
          "data": {
            "text/plain": [
              "{'age': {'mean': 40.756935630099726, 'std': 11.151026565111755},\n",
              " 'campaign_1': {'mean': 1.0, 'std': 0.0},\n",
              " 'day': {'mean': 15.66482320942883, 'std': 8.424055785475465},\n",
              " 'duration_bin1': {'mean': 0.9368993653671804, 'std': 0.24315489890095324},\n",
              " 'duration_bin2': {'mean': 0.060199456029011784, 'std': 0.23786679302643937},\n",
              " 'duration_bin3': {'mean': 0.0022665457842248413, 'std': 0.047556425396187645},\n",
              " 'pdays_1': {'mean': 0.25231187669990934, 'std': 0.4343589512547633},\n",
              " 'previous_1': {'mean': 0.25231187669990934, 'std': 0.4343589512547633}}"
            ]
          },
          "metadata": {
            "tags": []
          },
          "execution_count": 90
        }
      ]
    },
    {
      "cell_type": "code",
      "metadata": {
        "id": "cw-NnDhAesrN",
        "colab_type": "code",
        "colab": {}
      },
      "source": [
        "def _numeric_column_normalized(column_name, normalizer_fn):\n",
        "    return tf.feature_column.numeric_column(column_name, normalizer_fn=normalizer_fn)\n",
        "\n",
        "def make_zscaler(mean, std):\n",
        "    def zscaler(col):\n",
        "        return (col - mean)/std\n",
        "    return zscaler\n",
        "\n",
        "# Define your feature columns\n",
        "def create_feature_cols(features, use_normalization):\n",
        "    \"\"\"Create feature columns using tf.feature_column. \n",
        "    \n",
        "    This function will get executed during training, evaluation, and serving.\"\"\"\n",
        "    def normalize_column(col):  # Use mean, std defined below.\n",
        "        return (col - mean)/std\n",
        "    normalized_feature_columns = []\n",
        "    for column_name in features:\n",
        "        normalizer_fn = None\n",
        "        if use_normalization:\n",
        "            column_params = normalization_parameters[column_name]\n",
        "            mean = column_params['mean']\n",
        "            std = column_params['std']\n",
        "            normalizer_fn = make_zscaler(mean, std)\n",
        "        normalized_feature_columns.append(_numeric_column_normalized(column_name,\n",
        "                                                                     normalizer_fn))\n",
        "    return normalized_feature_columns\n",
        "\n",
        "NUMERIC_FEATURES = ['age','day', 'pdays_1','campaign_1','previous_1',\n",
        "                    'duration_bin1', 'duration_bin2', 'duration_bin3']\n",
        "feature_columns = create_feature_cols(NUMERIC_FEATURES, use_normalization=True)"
      ],
      "execution_count": 0,
      "outputs": []
    },
    {
      "cell_type": "code",
      "metadata": {
        "id": "dqH_AaPIgNEj",
        "colab_type": "code",
        "outputId": "dc1ee600-60c6-4b35-9cbc-bbb5a147dc16",
        "colab": {
          "base_uri": "https://localhost:8080/",
          "height": 173
        }
      },
      "source": [
        "feature_columns"
      ],
      "execution_count": 92,
      "outputs": [
        {
          "output_type": "execute_result",
          "data": {
            "text/plain": [
              "[NumericColumn(key='age', shape=(1,), default_value=None, dtype=tf.float32, normalizer_fn=<function make_zscaler.<locals>.zscaler at 0x7f7f1a98c268>),\n",
              " NumericColumn(key='day', shape=(1,), default_value=None, dtype=tf.float32, normalizer_fn=<function make_zscaler.<locals>.zscaler at 0x7f7f1a98c1e0>),\n",
              " NumericColumn(key='pdays_1', shape=(1,), default_value=None, dtype=tf.float32, normalizer_fn=<function make_zscaler.<locals>.zscaler at 0x7f7f1a98c2f0>),\n",
              " NumericColumn(key='campaign_1', shape=(1,), default_value=None, dtype=tf.float32, normalizer_fn=<function make_zscaler.<locals>.zscaler at 0x7f7f1a98c378>),\n",
              " NumericColumn(key='previous_1', shape=(1,), default_value=None, dtype=tf.float32, normalizer_fn=<function make_zscaler.<locals>.zscaler at 0x7f7f1a98c6a8>),\n",
              " NumericColumn(key='duration_bin1', shape=(1,), default_value=None, dtype=tf.float32, normalizer_fn=<function make_zscaler.<locals>.zscaler at 0x7f7f1a98c730>),\n",
              " NumericColumn(key='duration_bin2', shape=(1,), default_value=None, dtype=tf.float32, normalizer_fn=<function make_zscaler.<locals>.zscaler at 0x7f7f1a98c7b8>),\n",
              " NumericColumn(key='duration_bin3', shape=(1,), default_value=None, dtype=tf.float32, normalizer_fn=<function make_zscaler.<locals>.zscaler at 0x7f7f1a98c840>)]"
            ]
          },
          "metadata": {
            "tags": []
          },
          "execution_count": 92
        }
      ]
    },
    {
      "cell_type": "code",
      "metadata": {
        "id": "XFF15XWEvXdU",
        "colab_type": "code",
        "colab": {}
      },
      "source": [
        "job = feature_column.categorical_column_with_vocabulary_list(\n",
        "      'job',['admin.','blue-collar','entrepreneur','housemaid','management',\n",
        "             'retired','self-employed','services','student','technician',\n",
        "             'unemployed','unknown'])\n",
        "marital = feature_column.categorical_column_with_vocabulary_list(\n",
        "      'marital',['divorced','married','single'])\n",
        "education = feature_column.categorical_column_with_vocabulary_list(\n",
        "      'education',['primary','secondary','tertiary','unknown'])\n",
        "default = feature_column.categorical_column_with_vocabulary_list(\n",
        "      'default',['no','yes'])\n",
        "housing = feature_column.categorical_column_with_vocabulary_list(\n",
        "      'housing',['no','yes'])\n",
        "loan = feature_column.categorical_column_with_vocabulary_list(\n",
        "      'loan',['no','yes'])\n",
        "contact = feature_column.categorical_column_with_vocabulary_list(\n",
        "      'contact',['cellular','telephone','unknown'])\n",
        "month = feature_column.categorical_column_with_vocabulary_list(\n",
        "      'month',['jan','feb','mar','apr','may','jun','jul','aug','sep','oct',\n",
        "               'nov','dec'])\n",
        "poutcome = feature_column.categorical_column_with_vocabulary_list(\n",
        "      'poutcome',['failure','success','unknown','other'])\n",
        "balance_1 = feature_column.categorical_column_with_vocabulary_list(\n",
        "      'balance_1',[-1,0,1])"
      ],
      "execution_count": 0,
      "outputs": []
    },
    {
      "cell_type": "code",
      "metadata": {
        "id": "iL6t6XB3w-n6",
        "colab_type": "code",
        "colab": {}
      },
      "source": [
        "job_hot = feature_column.indicator_column(job)\n",
        "marital_hot = feature_column.indicator_column(marital)\n",
        "education_hot = feature_column.indicator_column(education)\n",
        "default_hot = feature_column.indicator_column(default)\n",
        "housing_hot = feature_column.indicator_column(housing)\n",
        "loan_hot = feature_column.indicator_column(loan)\n",
        "contact_hot = feature_column.indicator_column(contact)\n",
        "month_hot = feature_column.indicator_column(month)\n",
        "poutcome_hot = feature_column.indicator_column(poutcome)\n",
        "balance_1_hot = feature_column.indicator_column(balance_1)"
      ],
      "execution_count": 0,
      "outputs": []
    },
    {
      "cell_type": "code",
      "metadata": {
        "id": "namkprHD51DA",
        "colab_type": "code",
        "colab": {}
      },
      "source": [
        "feature_columns.append(job_hot)\n",
        "feature_columns.append(marital_hot)\n",
        "feature_columns.append(education_hot)\n",
        "feature_columns.append(default_hot)\n",
        "feature_columns.append(housing_hot)\n",
        "feature_columns.append(loan_hot)\n",
        "feature_columns.append(contact_hot)\n",
        "feature_columns.append(month_hot)\n",
        "feature_columns.append(poutcome_hot)\n",
        "feature_columns.append(balance_1_hot)"
      ],
      "execution_count": 0,
      "outputs": []
    },
    {
      "cell_type": "code",
      "metadata": {
        "colab_type": "code",
        "outputId": "2c43491d-bbb7-46d6-d9c7-1f61513e01c2",
        "id": "Gx556iNxb2kO",
        "colab": {
          "base_uri": "https://localhost:8080/",
          "height": 343
        }
      },
      "source": [
        "feature_columns"
      ],
      "execution_count": 96,
      "outputs": [
        {
          "output_type": "execute_result",
          "data": {
            "text/plain": [
              "[NumericColumn(key='age', shape=(1,), default_value=None, dtype=tf.float32, normalizer_fn=<function make_zscaler.<locals>.zscaler at 0x7f7f1a98c268>),\n",
              " NumericColumn(key='day', shape=(1,), default_value=None, dtype=tf.float32, normalizer_fn=<function make_zscaler.<locals>.zscaler at 0x7f7f1a98c1e0>),\n",
              " NumericColumn(key='pdays_1', shape=(1,), default_value=None, dtype=tf.float32, normalizer_fn=<function make_zscaler.<locals>.zscaler at 0x7f7f1a98c2f0>),\n",
              " NumericColumn(key='campaign_1', shape=(1,), default_value=None, dtype=tf.float32, normalizer_fn=<function make_zscaler.<locals>.zscaler at 0x7f7f1a98c378>),\n",
              " NumericColumn(key='previous_1', shape=(1,), default_value=None, dtype=tf.float32, normalizer_fn=<function make_zscaler.<locals>.zscaler at 0x7f7f1a98c6a8>),\n",
              " NumericColumn(key='duration_bin1', shape=(1,), default_value=None, dtype=tf.float32, normalizer_fn=<function make_zscaler.<locals>.zscaler at 0x7f7f1a98c730>),\n",
              " NumericColumn(key='duration_bin2', shape=(1,), default_value=None, dtype=tf.float32, normalizer_fn=<function make_zscaler.<locals>.zscaler at 0x7f7f1a98c7b8>),\n",
              " NumericColumn(key='duration_bin3', shape=(1,), default_value=None, dtype=tf.float32, normalizer_fn=<function make_zscaler.<locals>.zscaler at 0x7f7f1a98c840>),\n",
              " IndicatorColumn(categorical_column=VocabularyListCategoricalColumn(key='job', vocabulary_list=('admin.', 'blue-collar', 'entrepreneur', 'housemaid', 'management', 'retired', 'self-employed', 'services', 'student', 'technician', 'unemployed', 'unknown'), dtype=tf.string, default_value=-1, num_oov_buckets=0)),\n",
              " IndicatorColumn(categorical_column=VocabularyListCategoricalColumn(key='marital', vocabulary_list=('divorced', 'married', 'single'), dtype=tf.string, default_value=-1, num_oov_buckets=0)),\n",
              " IndicatorColumn(categorical_column=VocabularyListCategoricalColumn(key='education', vocabulary_list=('primary', 'secondary', 'tertiary', 'unknown'), dtype=tf.string, default_value=-1, num_oov_buckets=0)),\n",
              " IndicatorColumn(categorical_column=VocabularyListCategoricalColumn(key='default', vocabulary_list=('no', 'yes'), dtype=tf.string, default_value=-1, num_oov_buckets=0)),\n",
              " IndicatorColumn(categorical_column=VocabularyListCategoricalColumn(key='housing', vocabulary_list=('no', 'yes'), dtype=tf.string, default_value=-1, num_oov_buckets=0)),\n",
              " IndicatorColumn(categorical_column=VocabularyListCategoricalColumn(key='loan', vocabulary_list=('no', 'yes'), dtype=tf.string, default_value=-1, num_oov_buckets=0)),\n",
              " IndicatorColumn(categorical_column=VocabularyListCategoricalColumn(key='contact', vocabulary_list=('cellular', 'telephone', 'unknown'), dtype=tf.string, default_value=-1, num_oov_buckets=0)),\n",
              " IndicatorColumn(categorical_column=VocabularyListCategoricalColumn(key='month', vocabulary_list=('jan', 'feb', 'mar', 'apr', 'may', 'jun', 'jul', 'aug', 'sep', 'oct', 'nov', 'dec'), dtype=tf.string, default_value=-1, num_oov_buckets=0)),\n",
              " IndicatorColumn(categorical_column=VocabularyListCategoricalColumn(key='poutcome', vocabulary_list=('failure', 'success', 'unknown', 'other'), dtype=tf.string, default_value=-1, num_oov_buckets=0)),\n",
              " IndicatorColumn(categorical_column=VocabularyListCategoricalColumn(key='balance_1', vocabulary_list=(-1, 0, 1), dtype=tf.int64, default_value=-1, num_oov_buckets=0))]"
            ]
          },
          "metadata": {
            "tags": []
          },
          "execution_count": 96
        }
      ]
    },
    {
      "cell_type": "code",
      "metadata": {
        "id": "NafAOl4dDk5R",
        "colab_type": "code",
        "colab": {}
      },
      "source": [
        "feature_layer = layers.DenseFeatures(feature_columns)"
      ],
      "execution_count": 0,
      "outputs": []
    },
    {
      "cell_type": "code",
      "metadata": {
        "id": "uVfcF2Yth_OO",
        "colab_type": "code",
        "outputId": "d173e395-4e12-49d3-8d43-81997f7e7073",
        "colab": {
          "base_uri": "https://localhost:8080/",
          "height": 34
        }
      },
      "source": [
        "feature_layer"
      ],
      "execution_count": 98,
      "outputs": [
        {
          "output_type": "execute_result",
          "data": {
            "text/plain": [
              "<tensorflow.python.feature_column.dense_features_v2.DenseFeatures at 0x7f7f1a980550>"
            ]
          },
          "metadata": {
            "tags": []
          },
          "execution_count": 98
        }
      ]
    },
    {
      "cell_type": "markdown",
      "metadata": {
        "id": "8FIJ-F97LlZt",
        "colab_type": "text"
      },
      "source": [
        "## **Hyperparameter Tuning**"
      ]
    },
    {
      "cell_type": "code",
      "metadata": {
        "id": "vTc0i3qeEUyK",
        "colab_type": "code",
        "outputId": "e85f60ad-5724-4859-ac11-22599952212c",
        "colab": {
          "base_uri": "https://localhost:8080/",
          "height": 34
        }
      },
      "source": [
        "def create_model(my_learning_rate, feature_layer, my_metrics):\n",
        "  model = tf.keras.models.Sequential()\n",
        "\n",
        "  model.add(feature_layer)\n",
        "\n",
        "  model.add(tf.keras.layers.Dense(units=1, input_shape=(1,),\n",
        "                                  activation=tf.sigmoid),)\n",
        "\n",
        "  model.compile(optimizer=tf.keras.optimizers.RMSprop(lr=my_learning_rate),                                                   \n",
        "                loss=tf.keras.losses.BinaryCrossentropy(),\n",
        "                metrics=my_metrics)\n",
        "\n",
        "  return model        \n",
        "\n",
        "def train_model(model, dataset, epochs, label_name,\n",
        "                batch_size=None, shuffle=True):\n",
        "  features = {name:np.array(value) for name, value in dataset.items()}\n",
        "  label = np.array(features.pop(label_name)) \n",
        "  history = model.fit(x=features, y=label, batch_size=batch_size,\n",
        "                      epochs=epochs, shuffle=shuffle)\n",
        "  \n",
        "  epochs = history.epoch\n",
        "  hist = pd.DataFrame(history.history)\n",
        "\n",
        "  return epochs, hist  \n",
        "\n",
        "print(\"Defined the create_model and train_model functions.\")   "
      ],
      "execution_count": 99,
      "outputs": [
        {
          "output_type": "stream",
          "text": [
            "Defined the create_model and train_model functions.\n"
          ],
          "name": "stdout"
        }
      ]
    },
    {
      "cell_type": "code",
      "metadata": {
        "id": "8tffhBxAEk03",
        "colab_type": "code",
        "outputId": "c373d4c8-dd45-4a9d-a542-6acd40572c59",
        "colab": {
          "base_uri": "https://localhost:8080/",
          "height": 34
        }
      },
      "source": [
        "def plot_curve(epochs, hist, list_of_metrics): \n",
        "  plt.figure()\n",
        "  plt.xlabel(\"Epoch\")\n",
        "  plt.ylabel(\"Value\")\n",
        "\n",
        "  for m in list_of_metrics:\n",
        "    x = hist[m]\n",
        "    plt.plot(epochs[1:], x[1:], label=m)\n",
        "\n",
        "  plt.legend()\n",
        "\n",
        "print(\"Defined the plot_curve function.\")"
      ],
      "execution_count": 100,
      "outputs": [
        {
          "output_type": "stream",
          "text": [
            "Defined the plot_curve function.\n"
          ],
          "name": "stdout"
        }
      ]
    },
    {
      "cell_type": "code",
      "metadata": {
        "id": "fNf1g59gEqH-",
        "colab_type": "code",
        "colab": {}
      },
      "source": [
        "learning_rate = 0.001\n",
        "epochs = 20\n",
        "batch_size = 100\n",
        "label_name = \"deposit_is_yes\"\n",
        "classification_threshold = 0.35\n",
        "\n",
        "METRICS = [\n",
        "           tf.keras.metrics.BinaryAccuracy(name='accuracy', \n",
        "                                           threshold=classification_threshold),\n",
        "          ]\n"
      ],
      "execution_count": 0,
      "outputs": []
    },
    {
      "cell_type": "code",
      "metadata": {
        "id": "_b0vzDj9lq_K",
        "colab_type": "code",
        "colab": {}
      },
      "source": [
        "my_model = create_model(learning_rate, feature_layer, METRICS)\n"
      ],
      "execution_count": 0,
      "outputs": []
    },
    {
      "cell_type": "code",
      "metadata": {
        "id": "tI1YpNjIltWg",
        "colab_type": "code",
        "outputId": "cfea8f95-6901-417d-aac2-443bd3e8a90e",
        "colab": {
          "base_uri": "https://localhost:8080/",
          "height": 973
        }
      },
      "source": [
        "epochs, hist = train_model(my_model,bank,epochs,label_name,batch_size)"
      ],
      "execution_count": 85,
      "outputs": [
        {
          "output_type": "stream",
          "text": [
            "Epoch 1/20\n"
          ],
          "name": "stdout"
        },
        {
          "output_type": "error",
          "ename": "TypeError",
          "evalue": "ignored",
          "traceback": [
            "\u001b[0;31m---------------------------------------------------------------------------\u001b[0m",
            "\u001b[0;31mTypeError\u001b[0m                                 Traceback (most recent call last)",
            "\u001b[0;32m<ipython-input-85-99075cb8a433>\u001b[0m in \u001b[0;36m<module>\u001b[0;34m()\u001b[0m\n\u001b[0;32m----> 1\u001b[0;31m \u001b[0mepochs\u001b[0m\u001b[0;34m,\u001b[0m \u001b[0mhist\u001b[0m \u001b[0;34m=\u001b[0m \u001b[0mtrain_model\u001b[0m\u001b[0;34m(\u001b[0m\u001b[0mmy_model\u001b[0m\u001b[0;34m,\u001b[0m\u001b[0mbank\u001b[0m\u001b[0;34m,\u001b[0m\u001b[0mepochs\u001b[0m\u001b[0;34m,\u001b[0m\u001b[0mlabel_name\u001b[0m\u001b[0;34m,\u001b[0m\u001b[0mbatch_size\u001b[0m\u001b[0;34m)\u001b[0m\u001b[0;34m\u001b[0m\u001b[0;34m\u001b[0m\u001b[0m\n\u001b[0m",
            "\u001b[0;32m<ipython-input-81-bb8fad1433cb>\u001b[0m in \u001b[0;36mtrain_model\u001b[0;34m(model, dataset, epochs, label_name, batch_size, shuffle)\u001b[0m\n\u001b[1;32m     18\u001b[0m   \u001b[0mlabel\u001b[0m \u001b[0;34m=\u001b[0m \u001b[0mnp\u001b[0m\u001b[0;34m.\u001b[0m\u001b[0marray\u001b[0m\u001b[0;34m(\u001b[0m\u001b[0mfeatures\u001b[0m\u001b[0;34m.\u001b[0m\u001b[0mpop\u001b[0m\u001b[0;34m(\u001b[0m\u001b[0mlabel_name\u001b[0m\u001b[0;34m)\u001b[0m\u001b[0;34m)\u001b[0m\u001b[0;34m\u001b[0m\u001b[0;34m\u001b[0m\u001b[0m\n\u001b[1;32m     19\u001b[0m   history = model.fit(x=features, y=label, batch_size=batch_size,\n\u001b[0;32m---> 20\u001b[0;31m                       epochs=epochs, shuffle=shuffle)\n\u001b[0m\u001b[1;32m     21\u001b[0m \u001b[0;34m\u001b[0m\u001b[0m\n\u001b[1;32m     22\u001b[0m   \u001b[0mepochs\u001b[0m \u001b[0;34m=\u001b[0m \u001b[0mhistory\u001b[0m\u001b[0;34m.\u001b[0m\u001b[0mepoch\u001b[0m\u001b[0;34m\u001b[0m\u001b[0;34m\u001b[0m\u001b[0m\n",
            "\u001b[0;32m/usr/local/lib/python3.6/dist-packages/tensorflow/python/keras/engine/training.py\u001b[0m in \u001b[0;36m_method_wrapper\u001b[0;34m(self, *args, **kwargs)\u001b[0m\n\u001b[1;32m     63\u001b[0m   \u001b[0;32mdef\u001b[0m \u001b[0m_method_wrapper\u001b[0m\u001b[0;34m(\u001b[0m\u001b[0mself\u001b[0m\u001b[0;34m,\u001b[0m \u001b[0;34m*\u001b[0m\u001b[0margs\u001b[0m\u001b[0;34m,\u001b[0m \u001b[0;34m**\u001b[0m\u001b[0mkwargs\u001b[0m\u001b[0;34m)\u001b[0m\u001b[0;34m:\u001b[0m\u001b[0;34m\u001b[0m\u001b[0;34m\u001b[0m\u001b[0m\n\u001b[1;32m     64\u001b[0m     \u001b[0;32mif\u001b[0m \u001b[0;32mnot\u001b[0m \u001b[0mself\u001b[0m\u001b[0;34m.\u001b[0m\u001b[0m_in_multi_worker_mode\u001b[0m\u001b[0;34m(\u001b[0m\u001b[0;34m)\u001b[0m\u001b[0;34m:\u001b[0m  \u001b[0;31m# pylint: disable=protected-access\u001b[0m\u001b[0;34m\u001b[0m\u001b[0;34m\u001b[0m\u001b[0m\n\u001b[0;32m---> 65\u001b[0;31m       \u001b[0;32mreturn\u001b[0m \u001b[0mmethod\u001b[0m\u001b[0;34m(\u001b[0m\u001b[0mself\u001b[0m\u001b[0;34m,\u001b[0m \u001b[0;34m*\u001b[0m\u001b[0margs\u001b[0m\u001b[0;34m,\u001b[0m \u001b[0;34m**\u001b[0m\u001b[0mkwargs\u001b[0m\u001b[0;34m)\u001b[0m\u001b[0;34m\u001b[0m\u001b[0;34m\u001b[0m\u001b[0m\n\u001b[0m\u001b[1;32m     66\u001b[0m \u001b[0;34m\u001b[0m\u001b[0m\n\u001b[1;32m     67\u001b[0m     \u001b[0;31m# Running inside `run_distribute_coordinator` already.\u001b[0m\u001b[0;34m\u001b[0m\u001b[0;34m\u001b[0m\u001b[0;34m\u001b[0m\u001b[0m\n",
            "\u001b[0;32m/usr/local/lib/python3.6/dist-packages/tensorflow/python/keras/engine/training.py\u001b[0m in \u001b[0;36mfit\u001b[0;34m(self, x, y, batch_size, epochs, verbose, callbacks, validation_split, validation_data, shuffle, class_weight, sample_weight, initial_epoch, steps_per_epoch, validation_steps, validation_batch_size, validation_freq, max_queue_size, workers, use_multiprocessing, **kwargs)\u001b[0m\n\u001b[1;32m    781\u001b[0m                 batch_size=batch_size):\n\u001b[1;32m    782\u001b[0m               \u001b[0mcallbacks\u001b[0m\u001b[0;34m.\u001b[0m\u001b[0mon_train_batch_begin\u001b[0m\u001b[0;34m(\u001b[0m\u001b[0mstep\u001b[0m\u001b[0;34m)\u001b[0m\u001b[0;34m\u001b[0m\u001b[0;34m\u001b[0m\u001b[0m\n\u001b[0;32m--> 783\u001b[0;31m               \u001b[0mtmp_logs\u001b[0m \u001b[0;34m=\u001b[0m \u001b[0mtrain_function\u001b[0m\u001b[0;34m(\u001b[0m\u001b[0miterator\u001b[0m\u001b[0;34m)\u001b[0m\u001b[0;34m\u001b[0m\u001b[0;34m\u001b[0m\u001b[0m\n\u001b[0m\u001b[1;32m    784\u001b[0m               \u001b[0;31m# Catch OutOfRangeError for Datasets of unknown size.\u001b[0m\u001b[0;34m\u001b[0m\u001b[0;34m\u001b[0m\u001b[0;34m\u001b[0m\u001b[0m\n\u001b[1;32m    785\u001b[0m               \u001b[0;31m# This blocks until the batch has finished executing.\u001b[0m\u001b[0;34m\u001b[0m\u001b[0;34m\u001b[0m\u001b[0;34m\u001b[0m\u001b[0m\n",
            "\u001b[0;32m/usr/local/lib/python3.6/dist-packages/tensorflow/python/eager/def_function.py\u001b[0m in \u001b[0;36m__call__\u001b[0;34m(self, *args, **kwds)\u001b[0m\n\u001b[1;32m    578\u001b[0m         \u001b[0mxla_context\u001b[0m\u001b[0;34m.\u001b[0m\u001b[0mExit\u001b[0m\u001b[0;34m(\u001b[0m\u001b[0;34m)\u001b[0m\u001b[0;34m\u001b[0m\u001b[0;34m\u001b[0m\u001b[0m\n\u001b[1;32m    579\u001b[0m     \u001b[0;32melse\u001b[0m\u001b[0;34m:\u001b[0m\u001b[0;34m\u001b[0m\u001b[0;34m\u001b[0m\u001b[0m\n\u001b[0;32m--> 580\u001b[0;31m       \u001b[0mresult\u001b[0m \u001b[0;34m=\u001b[0m \u001b[0mself\u001b[0m\u001b[0;34m.\u001b[0m\u001b[0m_call\u001b[0m\u001b[0;34m(\u001b[0m\u001b[0;34m*\u001b[0m\u001b[0margs\u001b[0m\u001b[0;34m,\u001b[0m \u001b[0;34m**\u001b[0m\u001b[0mkwds\u001b[0m\u001b[0;34m)\u001b[0m\u001b[0;34m\u001b[0m\u001b[0;34m\u001b[0m\u001b[0m\n\u001b[0m\u001b[1;32m    581\u001b[0m \u001b[0;34m\u001b[0m\u001b[0m\n\u001b[1;32m    582\u001b[0m     \u001b[0;32mif\u001b[0m \u001b[0mtracing_count\u001b[0m \u001b[0;34m==\u001b[0m \u001b[0mself\u001b[0m\u001b[0;34m.\u001b[0m\u001b[0m_get_tracing_count\u001b[0m\u001b[0;34m(\u001b[0m\u001b[0;34m)\u001b[0m\u001b[0;34m:\u001b[0m\u001b[0;34m\u001b[0m\u001b[0;34m\u001b[0m\u001b[0m\n",
            "\u001b[0;32m/usr/local/lib/python3.6/dist-packages/tensorflow/python/eager/def_function.py\u001b[0m in \u001b[0;36m_call\u001b[0;34m(self, *args, **kwds)\u001b[0m\n\u001b[1;32m    625\u001b[0m       \u001b[0;31m# This is the first call of __call__, so we have to initialize.\u001b[0m\u001b[0;34m\u001b[0m\u001b[0;34m\u001b[0m\u001b[0;34m\u001b[0m\u001b[0m\n\u001b[1;32m    626\u001b[0m       \u001b[0minitializers\u001b[0m \u001b[0;34m=\u001b[0m \u001b[0;34m[\u001b[0m\u001b[0;34m]\u001b[0m\u001b[0;34m\u001b[0m\u001b[0;34m\u001b[0m\u001b[0m\n\u001b[0;32m--> 627\u001b[0;31m       \u001b[0mself\u001b[0m\u001b[0;34m.\u001b[0m\u001b[0m_initialize\u001b[0m\u001b[0;34m(\u001b[0m\u001b[0margs\u001b[0m\u001b[0;34m,\u001b[0m \u001b[0mkwds\u001b[0m\u001b[0;34m,\u001b[0m \u001b[0madd_initializers_to\u001b[0m\u001b[0;34m=\u001b[0m\u001b[0minitializers\u001b[0m\u001b[0;34m)\u001b[0m\u001b[0;34m\u001b[0m\u001b[0;34m\u001b[0m\u001b[0m\n\u001b[0m\u001b[1;32m    628\u001b[0m     \u001b[0;32mfinally\u001b[0m\u001b[0;34m:\u001b[0m\u001b[0;34m\u001b[0m\u001b[0;34m\u001b[0m\u001b[0m\n\u001b[1;32m    629\u001b[0m       \u001b[0;31m# At this point we know that the initialization is complete (or less\u001b[0m\u001b[0;34m\u001b[0m\u001b[0;34m\u001b[0m\u001b[0;34m\u001b[0m\u001b[0m\n",
            "\u001b[0;32m/usr/local/lib/python3.6/dist-packages/tensorflow/python/eager/def_function.py\u001b[0m in \u001b[0;36m_initialize\u001b[0;34m(self, args, kwds, add_initializers_to)\u001b[0m\n\u001b[1;32m    504\u001b[0m     self._concrete_stateful_fn = (\n\u001b[1;32m    505\u001b[0m         self._stateful_fn._get_concrete_function_internal_garbage_collected(  # pylint: disable=protected-access\n\u001b[0;32m--> 506\u001b[0;31m             *args, **kwds))\n\u001b[0m\u001b[1;32m    507\u001b[0m \u001b[0;34m\u001b[0m\u001b[0m\n\u001b[1;32m    508\u001b[0m     \u001b[0;32mdef\u001b[0m \u001b[0minvalid_creator_scope\u001b[0m\u001b[0;34m(\u001b[0m\u001b[0;34m*\u001b[0m\u001b[0munused_args\u001b[0m\u001b[0;34m,\u001b[0m \u001b[0;34m**\u001b[0m\u001b[0munused_kwds\u001b[0m\u001b[0;34m)\u001b[0m\u001b[0;34m:\u001b[0m\u001b[0;34m\u001b[0m\u001b[0;34m\u001b[0m\u001b[0m\n",
            "\u001b[0;32m/usr/local/lib/python3.6/dist-packages/tensorflow/python/eager/function.py\u001b[0m in \u001b[0;36m_get_concrete_function_internal_garbage_collected\u001b[0;34m(self, *args, **kwargs)\u001b[0m\n\u001b[1;32m   2444\u001b[0m       \u001b[0margs\u001b[0m\u001b[0;34m,\u001b[0m \u001b[0mkwargs\u001b[0m \u001b[0;34m=\u001b[0m \u001b[0;32mNone\u001b[0m\u001b[0;34m,\u001b[0m \u001b[0;32mNone\u001b[0m\u001b[0;34m\u001b[0m\u001b[0;34m\u001b[0m\u001b[0m\n\u001b[1;32m   2445\u001b[0m     \u001b[0;32mwith\u001b[0m \u001b[0mself\u001b[0m\u001b[0;34m.\u001b[0m\u001b[0m_lock\u001b[0m\u001b[0;34m:\u001b[0m\u001b[0;34m\u001b[0m\u001b[0;34m\u001b[0m\u001b[0m\n\u001b[0;32m-> 2446\u001b[0;31m       \u001b[0mgraph_function\u001b[0m\u001b[0;34m,\u001b[0m \u001b[0m_\u001b[0m\u001b[0;34m,\u001b[0m \u001b[0m_\u001b[0m \u001b[0;34m=\u001b[0m \u001b[0mself\u001b[0m\u001b[0;34m.\u001b[0m\u001b[0m_maybe_define_function\u001b[0m\u001b[0;34m(\u001b[0m\u001b[0margs\u001b[0m\u001b[0;34m,\u001b[0m \u001b[0mkwargs\u001b[0m\u001b[0;34m)\u001b[0m\u001b[0;34m\u001b[0m\u001b[0;34m\u001b[0m\u001b[0m\n\u001b[0m\u001b[1;32m   2447\u001b[0m     \u001b[0;32mreturn\u001b[0m \u001b[0mgraph_function\u001b[0m\u001b[0;34m\u001b[0m\u001b[0;34m\u001b[0m\u001b[0m\n\u001b[1;32m   2448\u001b[0m \u001b[0;34m\u001b[0m\u001b[0m\n",
            "\u001b[0;32m/usr/local/lib/python3.6/dist-packages/tensorflow/python/eager/function.py\u001b[0m in \u001b[0;36m_maybe_define_function\u001b[0;34m(self, args, kwargs)\u001b[0m\n\u001b[1;32m   2775\u001b[0m \u001b[0;34m\u001b[0m\u001b[0m\n\u001b[1;32m   2776\u001b[0m       \u001b[0mself\u001b[0m\u001b[0;34m.\u001b[0m\u001b[0m_function_cache\u001b[0m\u001b[0;34m.\u001b[0m\u001b[0mmissed\u001b[0m\u001b[0;34m.\u001b[0m\u001b[0madd\u001b[0m\u001b[0;34m(\u001b[0m\u001b[0mcall_context_key\u001b[0m\u001b[0;34m)\u001b[0m\u001b[0;34m\u001b[0m\u001b[0;34m\u001b[0m\u001b[0m\n\u001b[0;32m-> 2777\u001b[0;31m       \u001b[0mgraph_function\u001b[0m \u001b[0;34m=\u001b[0m \u001b[0mself\u001b[0m\u001b[0;34m.\u001b[0m\u001b[0m_create_graph_function\u001b[0m\u001b[0;34m(\u001b[0m\u001b[0margs\u001b[0m\u001b[0;34m,\u001b[0m \u001b[0mkwargs\u001b[0m\u001b[0;34m)\u001b[0m\u001b[0;34m\u001b[0m\u001b[0;34m\u001b[0m\u001b[0m\n\u001b[0m\u001b[1;32m   2778\u001b[0m       \u001b[0mself\u001b[0m\u001b[0;34m.\u001b[0m\u001b[0m_function_cache\u001b[0m\u001b[0;34m.\u001b[0m\u001b[0mprimary\u001b[0m\u001b[0;34m[\u001b[0m\u001b[0mcache_key\u001b[0m\u001b[0;34m]\u001b[0m \u001b[0;34m=\u001b[0m \u001b[0mgraph_function\u001b[0m\u001b[0;34m\u001b[0m\u001b[0;34m\u001b[0m\u001b[0m\n\u001b[1;32m   2779\u001b[0m       \u001b[0;32mreturn\u001b[0m \u001b[0mgraph_function\u001b[0m\u001b[0;34m,\u001b[0m \u001b[0margs\u001b[0m\u001b[0;34m,\u001b[0m \u001b[0mkwargs\u001b[0m\u001b[0;34m\u001b[0m\u001b[0;34m\u001b[0m\u001b[0m\n",
            "\u001b[0;32m/usr/local/lib/python3.6/dist-packages/tensorflow/python/eager/function.py\u001b[0m in \u001b[0;36m_create_graph_function\u001b[0;34m(self, args, kwargs, override_flat_arg_shapes)\u001b[0m\n\u001b[1;32m   2665\u001b[0m             \u001b[0marg_names\u001b[0m\u001b[0;34m=\u001b[0m\u001b[0marg_names\u001b[0m\u001b[0;34m,\u001b[0m\u001b[0;34m\u001b[0m\u001b[0;34m\u001b[0m\u001b[0m\n\u001b[1;32m   2666\u001b[0m             \u001b[0moverride_flat_arg_shapes\u001b[0m\u001b[0;34m=\u001b[0m\u001b[0moverride_flat_arg_shapes\u001b[0m\u001b[0;34m,\u001b[0m\u001b[0;34m\u001b[0m\u001b[0;34m\u001b[0m\u001b[0m\n\u001b[0;32m-> 2667\u001b[0;31m             capture_by_value=self._capture_by_value),\n\u001b[0m\u001b[1;32m   2668\u001b[0m         \u001b[0mself\u001b[0m\u001b[0;34m.\u001b[0m\u001b[0m_function_attributes\u001b[0m\u001b[0;34m,\u001b[0m\u001b[0;34m\u001b[0m\u001b[0;34m\u001b[0m\u001b[0m\n\u001b[1;32m   2669\u001b[0m         \u001b[0;31m# Tell the ConcreteFunction to clean up its graph once it goes out of\u001b[0m\u001b[0;34m\u001b[0m\u001b[0;34m\u001b[0m\u001b[0;34m\u001b[0m\u001b[0m\n",
            "\u001b[0;32m/usr/local/lib/python3.6/dist-packages/tensorflow/python/framework/func_graph.py\u001b[0m in \u001b[0;36mfunc_graph_from_py_func\u001b[0;34m(name, python_func, args, kwargs, signature, func_graph, autograph, autograph_options, add_control_dependencies, arg_names, op_return_value, collections, capture_by_value, override_flat_arg_shapes)\u001b[0m\n\u001b[1;32m    979\u001b[0m         \u001b[0m_\u001b[0m\u001b[0;34m,\u001b[0m \u001b[0moriginal_func\u001b[0m \u001b[0;34m=\u001b[0m \u001b[0mtf_decorator\u001b[0m\u001b[0;34m.\u001b[0m\u001b[0munwrap\u001b[0m\u001b[0;34m(\u001b[0m\u001b[0mpython_func\u001b[0m\u001b[0;34m)\u001b[0m\u001b[0;34m\u001b[0m\u001b[0;34m\u001b[0m\u001b[0m\n\u001b[1;32m    980\u001b[0m \u001b[0;34m\u001b[0m\u001b[0m\n\u001b[0;32m--> 981\u001b[0;31m       \u001b[0mfunc_outputs\u001b[0m \u001b[0;34m=\u001b[0m \u001b[0mpython_func\u001b[0m\u001b[0;34m(\u001b[0m\u001b[0;34m*\u001b[0m\u001b[0mfunc_args\u001b[0m\u001b[0;34m,\u001b[0m \u001b[0;34m**\u001b[0m\u001b[0mfunc_kwargs\u001b[0m\u001b[0;34m)\u001b[0m\u001b[0;34m\u001b[0m\u001b[0;34m\u001b[0m\u001b[0m\n\u001b[0m\u001b[1;32m    982\u001b[0m \u001b[0;34m\u001b[0m\u001b[0m\n\u001b[1;32m    983\u001b[0m       \u001b[0;31m# invariant: `func_outputs` contains only Tensors, CompositeTensors,\u001b[0m\u001b[0;34m\u001b[0m\u001b[0;34m\u001b[0m\u001b[0;34m\u001b[0m\u001b[0m\n",
            "\u001b[0;32m/usr/local/lib/python3.6/dist-packages/tensorflow/python/eager/def_function.py\u001b[0m in \u001b[0;36mwrapped_fn\u001b[0;34m(*args, **kwds)\u001b[0m\n\u001b[1;32m    439\u001b[0m         \u001b[0;31m# __wrapped__ allows AutoGraph to swap in a converted function. We give\u001b[0m\u001b[0;34m\u001b[0m\u001b[0;34m\u001b[0m\u001b[0;34m\u001b[0m\u001b[0m\n\u001b[1;32m    440\u001b[0m         \u001b[0;31m# the function a weak reference to itself to avoid a reference cycle.\u001b[0m\u001b[0;34m\u001b[0m\u001b[0;34m\u001b[0m\u001b[0;34m\u001b[0m\u001b[0m\n\u001b[0;32m--> 441\u001b[0;31m         \u001b[0;32mreturn\u001b[0m \u001b[0mweak_wrapped_fn\u001b[0m\u001b[0;34m(\u001b[0m\u001b[0;34m)\u001b[0m\u001b[0;34m.\u001b[0m\u001b[0m__wrapped__\u001b[0m\u001b[0;34m(\u001b[0m\u001b[0;34m*\u001b[0m\u001b[0margs\u001b[0m\u001b[0;34m,\u001b[0m \u001b[0;34m**\u001b[0m\u001b[0mkwds\u001b[0m\u001b[0;34m)\u001b[0m\u001b[0;34m\u001b[0m\u001b[0;34m\u001b[0m\u001b[0m\n\u001b[0m\u001b[1;32m    442\u001b[0m     \u001b[0mweak_wrapped_fn\u001b[0m \u001b[0;34m=\u001b[0m \u001b[0mweakref\u001b[0m\u001b[0;34m.\u001b[0m\u001b[0mref\u001b[0m\u001b[0;34m(\u001b[0m\u001b[0mwrapped_fn\u001b[0m\u001b[0;34m)\u001b[0m\u001b[0;34m\u001b[0m\u001b[0;34m\u001b[0m\u001b[0m\n\u001b[1;32m    443\u001b[0m \u001b[0;34m\u001b[0m\u001b[0m\n",
            "\u001b[0;32m/usr/local/lib/python3.6/dist-packages/tensorflow/python/framework/func_graph.py\u001b[0m in \u001b[0;36mwrapper\u001b[0;34m(*args, **kwargs)\u001b[0m\n\u001b[1;32m    966\u001b[0m           \u001b[0;32mexcept\u001b[0m \u001b[0mException\u001b[0m \u001b[0;32mas\u001b[0m \u001b[0me\u001b[0m\u001b[0;34m:\u001b[0m  \u001b[0;31m# pylint:disable=broad-except\u001b[0m\u001b[0;34m\u001b[0m\u001b[0;34m\u001b[0m\u001b[0m\n\u001b[1;32m    967\u001b[0m             \u001b[0;32mif\u001b[0m \u001b[0mhasattr\u001b[0m\u001b[0;34m(\u001b[0m\u001b[0me\u001b[0m\u001b[0;34m,\u001b[0m \u001b[0;34m\"ag_error_metadata\"\u001b[0m\u001b[0;34m)\u001b[0m\u001b[0;34m:\u001b[0m\u001b[0;34m\u001b[0m\u001b[0;34m\u001b[0m\u001b[0m\n\u001b[0;32m--> 968\u001b[0;31m               \u001b[0;32mraise\u001b[0m \u001b[0me\u001b[0m\u001b[0;34m.\u001b[0m\u001b[0mag_error_metadata\u001b[0m\u001b[0;34m.\u001b[0m\u001b[0mto_exception\u001b[0m\u001b[0;34m(\u001b[0m\u001b[0me\u001b[0m\u001b[0;34m)\u001b[0m\u001b[0;34m\u001b[0m\u001b[0;34m\u001b[0m\u001b[0m\n\u001b[0m\u001b[1;32m    969\u001b[0m             \u001b[0;32melse\u001b[0m\u001b[0;34m:\u001b[0m\u001b[0;34m\u001b[0m\u001b[0;34m\u001b[0m\u001b[0m\n\u001b[1;32m    970\u001b[0m               \u001b[0;32mraise\u001b[0m\u001b[0;34m\u001b[0m\u001b[0;34m\u001b[0m\u001b[0m\n",
            "\u001b[0;31mTypeError\u001b[0m: in user code:\n\n    /usr/local/lib/python3.6/dist-packages/tensorflow/python/keras/engine/training.py:503 train_function  *\n        outputs = self.distribute_strategy.run(\n    /usr/local/lib/python3.6/dist-packages/tensorflow/python/distribute/distribute_lib.py:951 run  **\n        return self._extended.call_for_each_replica(fn, args=args, kwargs=kwargs)\n    /usr/local/lib/python3.6/dist-packages/tensorflow/python/distribute/distribute_lib.py:2290 call_for_each_replica\n        return self._call_for_each_replica(fn, args, kwargs)\n    /usr/local/lib/python3.6/dist-packages/tensorflow/python/distribute/distribute_lib.py:2649 _call_for_each_replica\n        return fn(*args, **kwargs)\n    /usr/local/lib/python3.6/dist-packages/tensorflow/python/keras/engine/training.py:464 train_step  **\n        y_pred = self(x, training=True)\n    /usr/local/lib/python3.6/dist-packages/tensorflow/python/keras/engine/base_layer.py:926 __call__\n        outputs = call_fn(cast_inputs, *args, **kwargs)\n    /usr/local/lib/python3.6/dist-packages/tensorflow/python/keras/engine/sequential.py:291 call\n        outputs = layer(inputs, **kwargs)\n    /usr/local/lib/python3.6/dist-packages/tensorflow/python/keras/engine/base_layer.py:926 __call__\n        outputs = call_fn(cast_inputs, *args, **kwargs)\n    /usr/local/lib/python3.6/dist-packages/tensorflow/python/feature_column/dense_features.py:145 call  **\n        self._state_manager)\n    /usr/local/lib/python3.6/dist-packages/tensorflow/python/feature_column/feature_column_v2.py:2916 get_dense_tensor\n        return transformation_cache.get(self, state_manager)\n    /usr/local/lib/python3.6/dist-packages/tensorflow/python/feature_column/feature_column_v2.py:2679 get\n        transformed = column.transform_feature(self, state_manager)\n    /usr/local/lib/python3.6/dist-packages/tensorflow/python/feature_column/feature_column_v2.py:2889 transform_feature\n        return self._transform_input_tensor(input_tensor)\n    /usr/local/lib/python3.6/dist-packages/tensorflow/python/feature_column/feature_column_v2.py:2863 _transform_input_tensor\n        input_tensor = self.normalizer_fn(input_tensor)\n    <ipython-input-73-39fa38a2600f>:6 zscaler\n        return (col - mean)/std\n    /usr/local/lib/python3.6/dist-packages/tensorflow/python/ops/math_ops.py:997 binary_op_wrapper\n        return func(x, y, name=name)\n    /usr/local/lib/python3.6/dist-packages/tensorflow/python/ops/gen_math_ops.py:10103 sub\n        \"Sub\", x=x, y=y, name=name)\n    /usr/local/lib/python3.6/dist-packages/tensorflow/python/framework/op_def_library.py:506 _apply_op_helper\n        inferred_from[input_arg.type_attr]))\n\n    TypeError: Input 'y' of 'Sub' Op has type float32 that does not match type int64 of argument 'x'.\n"
          ]
        }
      ]
    },
    {
      "cell_type": "code",
      "metadata": {
        "id": "so778U80l0za",
        "colab_type": "code",
        "colab": {}
      },
      "source": [
        "list_of_metrics_to_plot = ['accuracy'] \n",
        "\n",
        "plot_curve(epochs, hist, list_of_metrics_to_plot)"
      ],
      "execution_count": 0,
      "outputs": []
    },
    {
      "cell_type": "markdown",
      "metadata": {
        "id": "9hzwLDV4xzm3",
        "colab_type": "text"
      },
      "source": [
        "**Perform a Train Test Split on the Data**"
      ]
    },
    {
      "cell_type": "code",
      "metadata": {
        "id": "FdG7bSYvvXm4",
        "colab_type": "code",
        "colab": {}
      },
      "source": [
        "x_data = bank.drop('deposit',axis=1)\n",
        "y_labels = bank['deposit']\n",
        "X_train, X_test, y_train, y_test = train_test_split(\n",
        "      x_data,y_labels,test_size=0.3,random_state=101)"
      ],
      "execution_count": 0,
      "outputs": []
    },
    {
      "cell_type": "markdown",
      "metadata": {
        "id": "Kogdl_cNyJn8",
        "colab_type": "text"
      },
      "source": [
        "**Put all these variables into a single list with the variable name feat_cols**"
      ]
    },
    {
      "cell_type": "code",
      "metadata": {
        "id": "7TtUuYUwvnlU",
        "colab_type": "code",
        "colab": {}
      },
      "source": [
        "feat_cols = [job_hot,marital_hot,education_hot,default_hot,housing_hot,\n",
        "             loan_hot,contact_hot,month_hot,poutcome_hot,balance_1_hot,age,day,pdays_1,campaign_1,previous_1,duration_bin1,duration_bin2,duration_bin3]"
      ],
      "execution_count": 0,
      "outputs": []
    },
    {
      "cell_type": "markdown",
      "metadata": {
        "id": "vtZ3mm74yQ6M",
        "colab_type": "text"
      },
      "source": [
        "**Create Input Function**"
      ]
    },
    {
      "cell_type": "code",
      "metadata": {
        "id": "Tkd2yj5zvnrN",
        "colab_type": "code",
        "outputId": "5e31e71f-fc89-460f-875c-91f513e982be",
        "colab": {
          "base_uri": "https://localhost:8080/",
          "height": 70
        }
      },
      "source": [
        "input_func = tf.compat.v1.estimator.inputs.pandas_input_fn(x=X_train,\n",
        "                                                 y=y_train,\n",
        "                                                 batch_size=10,\n",
        "                                                 num_epochs=None,\n",
        "                                                 shuffle=True)"
      ],
      "execution_count": 0,
      "outputs": [
        {
          "output_type": "stream",
          "text": [
            "WARNING:tensorflow:From /usr/local/lib/python3.6/dist-packages/tensorflow/python/util/lazy_loader.py:63: The name tf.estimator.inputs is deprecated. Please use tf.compat.v1.estimator.inputs instead.\n",
            "\n"
          ],
          "name": "stdout"
        }
      ]
    },
    {
      "cell_type": "markdown",
      "metadata": {
        "id": "eaGh4mZSyWpy",
        "colab_type": "text"
      },
      "source": [
        "**Create your model with tf.estimator**"
      ]
    },
    {
      "cell_type": "code",
      "metadata": {
        "id": "lLxSIUYavnvp",
        "colab_type": "code",
        "outputId": "85ab5eeb-21cd-47ca-a342-3954bd0e62df",
        "colab": {
          "base_uri": "https://localhost:8080/",
          "height": 188
        }
      },
      "source": [
        "model = tf.estimator.LinearClassifier(feature_columns=feat_cols)"
      ],
      "execution_count": 0,
      "outputs": [
        {
          "output_type": "stream",
          "text": [
            "INFO:tensorflow:Using default config.\n",
            "WARNING:tensorflow:Using temporary folder as model directory: /tmp/tmpuyyxeqsc\n",
            "INFO:tensorflow:Using config: {'_model_dir': '/tmp/tmpuyyxeqsc', '_tf_random_seed': None, '_save_summary_steps': 100, '_save_checkpoints_steps': None, '_save_checkpoints_secs': 600, '_session_config': allow_soft_placement: true\n",
            "graph_options {\n",
            "  rewrite_options {\n",
            "    meta_optimizer_iterations: ONE\n",
            "  }\n",
            "}\n",
            ", '_keep_checkpoint_max': 5, '_keep_checkpoint_every_n_hours': 10000, '_log_step_count_steps': 100, '_train_distribute': None, '_device_fn': None, '_protocol': None, '_eval_distribute': None, '_experimental_distribute': None, '_experimental_max_worker_delay_secs': None, '_session_creation_timeout_secs': 7200, '_service': None, '_cluster_spec': ClusterSpec({}), '_task_type': 'worker', '_task_id': 0, '_global_id_in_cluster': 0, '_master': '', '_evaluation_master': '', '_is_chief': True, '_num_ps_replicas': 0, '_num_worker_replicas': 1}\n"
          ],
          "name": "stdout"
        }
      ]
    },
    {
      "cell_type": "code",
      "metadata": {
        "id": "0W81GHozjors",
        "colab_type": "code",
        "outputId": "404193c5-2276-4535-9df3-510aac889f30",
        "colab": {
          "base_uri": "https://localhost:8080/",
          "height": 34
        }
      },
      "source": [
        "model"
      ],
      "execution_count": 0,
      "outputs": [
        {
          "output_type": "execute_result",
          "data": {
            "text/plain": [
              "<tensorflow_estimator.python.estimator.canned.linear.LinearClassifierV2 at 0x7f38a0c72cf8>"
            ]
          },
          "metadata": {
            "tags": []
          },
          "execution_count": 52
        }
      ]
    },
    {
      "cell_type": "markdown",
      "metadata": {
        "id": "audzqSvMyivX",
        "colab_type": "text"
      },
      "source": [
        "**Train your model on the data, for at least 5000 steps**"
      ]
    },
    {
      "cell_type": "code",
      "metadata": {
        "id": "yLN-WY_dvnoR",
        "colab_type": "code",
        "outputId": "0bf290e9-ef23-4085-e67c-10ca89482e15",
        "colab": {
          "base_uri": "https://localhost:8080/",
          "height": 1000
        }
      },
      "source": [
        "model.train(input_fn=input_func,steps=5000)"
      ],
      "execution_count": 0,
      "outputs": [
        {
          "output_type": "stream",
          "text": [
            "WARNING:tensorflow:From /usr/local/lib/python3.6/dist-packages/tensorflow/python/ops/resource_variable_ops.py:1666: calling BaseResourceVariable.__init__ (from tensorflow.python.ops.resource_variable_ops) with constraint is deprecated and will be removed in a future version.\n",
            "Instructions for updating:\n",
            "If using Keras pass *_constraint arguments to layers.\n",
            "WARNING:tensorflow:From /usr/local/lib/python3.6/dist-packages/tensorflow/python/training/training_util.py:236: Variable.initialized_value (from tensorflow.python.ops.variables) is deprecated and will be removed in a future version.\n",
            "Instructions for updating:\n",
            "Use Variable.read_value. Variables in 2.X are initialized automatically both in eager and graph (inside tf.defun) contexts.\n",
            "WARNING:tensorflow:From /usr/local/lib/python3.6/dist-packages/tensorflow_estimator/python/estimator/inputs/queues/feeding_queue_runner.py:65: QueueRunner.__init__ (from tensorflow.python.training.queue_runner_impl) is deprecated and will be removed in a future version.\n",
            "Instructions for updating:\n",
            "To construct input pipelines, use the `tf.data` module.\n",
            "WARNING:tensorflow:From /usr/local/lib/python3.6/dist-packages/tensorflow_estimator/python/estimator/inputs/queues/feeding_functions.py:491: add_queue_runner (from tensorflow.python.training.queue_runner_impl) is deprecated and will be removed in a future version.\n",
            "Instructions for updating:\n",
            "To construct input pipelines, use the `tf.data` module.\n",
            "INFO:tensorflow:Calling model_fn.\n",
            "WARNING:tensorflow:Layer linear/linear_model is casting an input tensor from dtype float64 to the layer's dtype of float32, which is new behavior in TensorFlow 2.  The layer has dtype float32 because it's dtype defaults to floatx.\n",
            "\n",
            "If you intended to run this layer in float32, you can safely ignore this warning. If in doubt, this warning is likely only an issue if you are porting a TensorFlow 1.X model to TensorFlow 2.\n",
            "\n",
            "To change all layers to have dtype float64 by default, call `tf.keras.backend.set_floatx('float64')`. To change just this layer, pass dtype='float64' to the layer constructor. If you are the author of this layer, you can disable autocasting by passing autocast=False to the base Layer constructor.\n",
            "\n",
            "WARNING:tensorflow:From /usr/local/lib/python3.6/dist-packages/tensorflow/python/feature_column/feature_column_v2.py:540: Layer.add_variable (from tensorflow.python.keras.engine.base_layer_v1) is deprecated and will be removed in a future version.\n",
            "Instructions for updating:\n",
            "Please use `layer.add_weight` method instead.\n",
            "WARNING:tensorflow:From /usr/local/lib/python3.6/dist-packages/tensorflow/python/keras/optimizer_v2/ftrl.py:144: calling Constant.__init__ (from tensorflow.python.ops.init_ops) with dtype is deprecated and will be removed in a future version.\n",
            "Instructions for updating:\n",
            "Call initializer instance with the dtype argument instead of passing it to the constructor\n",
            "INFO:tensorflow:Done calling model_fn.\n",
            "INFO:tensorflow:Create CheckpointSaverHook.\n",
            "INFO:tensorflow:Graph was finalized.\n",
            "INFO:tensorflow:Running local_init_op.\n",
            "INFO:tensorflow:Done running local_init_op.\n",
            "WARNING:tensorflow:From /usr/local/lib/python3.6/dist-packages/tensorflow/python/training/monitored_session.py:906: start_queue_runners (from tensorflow.python.training.queue_runner_impl) is deprecated and will be removed in a future version.\n",
            "Instructions for updating:\n",
            "To construct input pipelines, use the `tf.data` module.\n",
            "INFO:tensorflow:Calling checkpoint listeners before saving checkpoint 0...\n",
            "INFO:tensorflow:Saving checkpoints for 0 into /tmp/tmpuyyxeqsc/model.ckpt.\n",
            "INFO:tensorflow:Calling checkpoint listeners after saving checkpoint 0...\n",
            "INFO:tensorflow:loss = 0.6931472, step = 0\n",
            "INFO:tensorflow:global_step/sec: 243.244\n",
            "INFO:tensorflow:loss = 0.37493688, step = 100 (0.422 sec)\n",
            "INFO:tensorflow:global_step/sec: 305.868\n",
            "INFO:tensorflow:loss = 0.53320277, step = 200 (0.326 sec)\n",
            "INFO:tensorflow:global_step/sec: 278.676\n",
            "INFO:tensorflow:loss = 1.0546681, step = 300 (0.350 sec)\n",
            "WARNING:tensorflow:It seems that global step (tf.train.get_global_step) has not been increased. Current value (could be stable): 392 vs previous value: 392. You could increase the global step by passing tf.train.get_global_step() to Optimizer.apply_gradients or Optimizer.minimize.\n",
            "INFO:tensorflow:global_step/sec: 275.789\n",
            "INFO:tensorflow:loss = 0.52598983, step = 400 (0.362 sec)\n",
            "INFO:tensorflow:global_step/sec: 274.486\n",
            "INFO:tensorflow:loss = 0.362999, step = 500 (0.364 sec)\n",
            "INFO:tensorflow:global_step/sec: 293.902\n",
            "INFO:tensorflow:loss = 0.5827671, step = 600 (0.350 sec)\n",
            "INFO:tensorflow:global_step/sec: 266.778\n",
            "INFO:tensorflow:loss = 0.39992154, step = 700 (0.373 sec)\n",
            "INFO:tensorflow:global_step/sec: 264.842\n",
            "INFO:tensorflow:loss = 0.6657351, step = 800 (0.374 sec)\n",
            "INFO:tensorflow:global_step/sec: 267.88\n",
            "INFO:tensorflow:loss = 0.45794636, step = 900 (0.369 sec)\n",
            "INFO:tensorflow:global_step/sec: 252.412\n",
            "INFO:tensorflow:loss = 0.8508229, step = 1000 (0.410 sec)\n",
            "INFO:tensorflow:global_step/sec: 264.23\n",
            "INFO:tensorflow:loss = 0.6519908, step = 1100 (0.370 sec)\n",
            "INFO:tensorflow:global_step/sec: 279.205\n",
            "INFO:tensorflow:loss = 0.5286534, step = 1200 (0.352 sec)\n",
            "INFO:tensorflow:global_step/sec: 283.854\n",
            "INFO:tensorflow:loss = 0.6443188, step = 1300 (0.356 sec)\n",
            "INFO:tensorflow:global_step/sec: 269.656\n",
            "INFO:tensorflow:loss = 0.53450376, step = 1400 (0.367 sec)\n",
            "INFO:tensorflow:global_step/sec: 258.954\n",
            "INFO:tensorflow:loss = 0.51188433, step = 1500 (0.389 sec)\n",
            "INFO:tensorflow:global_step/sec: 281.906\n",
            "INFO:tensorflow:loss = 0.3493007, step = 1600 (0.354 sec)\n",
            "INFO:tensorflow:global_step/sec: 282.457\n",
            "INFO:tensorflow:loss = 0.49106622, step = 1700 (0.352 sec)\n",
            "INFO:tensorflow:global_step/sec: 299.959\n",
            "INFO:tensorflow:loss = 0.490551, step = 1800 (0.338 sec)\n",
            "INFO:tensorflow:global_step/sec: 286.362\n",
            "INFO:tensorflow:loss = 0.5689764, step = 1900 (0.352 sec)\n",
            "INFO:tensorflow:global_step/sec: 292.784\n",
            "INFO:tensorflow:loss = 0.3927628, step = 2000 (0.340 sec)\n",
            "INFO:tensorflow:global_step/sec: 277.35\n",
            "INFO:tensorflow:loss = 0.36592716, step = 2100 (0.363 sec)\n",
            "INFO:tensorflow:global_step/sec: 264.664\n",
            "INFO:tensorflow:loss = 0.4509769, step = 2200 (0.371 sec)\n",
            "INFO:tensorflow:global_step/sec: 272.565\n",
            "INFO:tensorflow:loss = 0.6758811, step = 2300 (0.364 sec)\n",
            "INFO:tensorflow:global_step/sec: 292.347\n",
            "INFO:tensorflow:loss = 0.77248746, step = 2400 (0.342 sec)\n",
            "INFO:tensorflow:global_step/sec: 278.525\n",
            "INFO:tensorflow:loss = 0.5185749, step = 2500 (0.360 sec)\n",
            "INFO:tensorflow:global_step/sec: 270.639\n",
            "INFO:tensorflow:loss = 0.51925355, step = 2600 (0.374 sec)\n",
            "INFO:tensorflow:global_step/sec: 297.241\n",
            "INFO:tensorflow:loss = 0.40553388, step = 2700 (0.336 sec)\n",
            "INFO:tensorflow:global_step/sec: 275.684\n",
            "INFO:tensorflow:loss = 0.3371927, step = 2800 (0.364 sec)\n",
            "INFO:tensorflow:global_step/sec: 281.659\n",
            "INFO:tensorflow:loss = 0.61376345, step = 2900 (0.351 sec)\n",
            "INFO:tensorflow:global_step/sec: 299.601\n",
            "INFO:tensorflow:loss = 0.96746856, step = 3000 (0.332 sec)\n",
            "INFO:tensorflow:global_step/sec: 293.083\n",
            "INFO:tensorflow:loss = 0.4310823, step = 3100 (0.343 sec)\n",
            "INFO:tensorflow:global_step/sec: 287.503\n",
            "INFO:tensorflow:loss = 0.7171941, step = 3200 (0.351 sec)\n",
            "INFO:tensorflow:global_step/sec: 269.858\n",
            "INFO:tensorflow:loss = 0.5055992, step = 3300 (0.367 sec)\n",
            "INFO:tensorflow:global_step/sec: 273.441\n",
            "INFO:tensorflow:loss = 0.79072577, step = 3400 (0.363 sec)\n",
            "INFO:tensorflow:global_step/sec: 287.636\n",
            "INFO:tensorflow:loss = 0.5112134, step = 3500 (0.352 sec)\n",
            "INFO:tensorflow:global_step/sec: 283.834\n",
            "INFO:tensorflow:loss = 0.32775837, step = 3600 (0.351 sec)\n",
            "INFO:tensorflow:global_step/sec: 276.387\n",
            "INFO:tensorflow:loss = 0.8415699, step = 3700 (0.367 sec)\n",
            "INFO:tensorflow:global_step/sec: 282.764\n",
            "INFO:tensorflow:loss = 0.36138982, step = 3800 (0.352 sec)\n",
            "INFO:tensorflow:global_step/sec: 271.692\n",
            "INFO:tensorflow:loss = 0.3669408, step = 3900 (0.366 sec)\n",
            "INFO:tensorflow:global_step/sec: 288.705\n",
            "INFO:tensorflow:loss = 0.54879004, step = 4000 (0.345 sec)\n",
            "INFO:tensorflow:global_step/sec: 289.728\n",
            "INFO:tensorflow:loss = 0.5427739, step = 4100 (0.342 sec)\n",
            "INFO:tensorflow:global_step/sec: 248.112\n",
            "INFO:tensorflow:loss = 0.53891325, step = 4200 (0.403 sec)\n",
            "INFO:tensorflow:global_step/sec: 273.07\n",
            "INFO:tensorflow:loss = 0.70921504, step = 4300 (0.366 sec)\n",
            "INFO:tensorflow:global_step/sec: 289.392\n",
            "INFO:tensorflow:loss = 0.51283824, step = 4400 (0.352 sec)\n",
            "INFO:tensorflow:global_step/sec: 285.256\n",
            "INFO:tensorflow:loss = 0.7504436, step = 4500 (0.347 sec)\n",
            "INFO:tensorflow:global_step/sec: 280.289\n",
            "INFO:tensorflow:loss = 0.45960182, step = 4600 (0.358 sec)\n",
            "INFO:tensorflow:global_step/sec: 287.657\n",
            "INFO:tensorflow:loss = 0.4590516, step = 4700 (0.349 sec)\n",
            "INFO:tensorflow:global_step/sec: 288.371\n",
            "INFO:tensorflow:loss = 0.603065, step = 4800 (0.349 sec)\n",
            "INFO:tensorflow:global_step/sec: 287.717\n",
            "INFO:tensorflow:loss = 0.46069413, step = 4900 (0.340 sec)\n",
            "INFO:tensorflow:Calling checkpoint listeners before saving checkpoint 5000...\n",
            "INFO:tensorflow:Saving checkpoints for 5000 into /tmp/tmpuyyxeqsc/model.ckpt.\n",
            "INFO:tensorflow:Calling checkpoint listeners after saving checkpoint 5000...\n",
            "INFO:tensorflow:Loss for final step: 0.5395126.\n"
          ],
          "name": "stdout"
        },
        {
          "output_type": "execute_result",
          "data": {
            "text/plain": [
              "<tensorflow_estimator.python.estimator.canned.linear.LinearClassifierV2 at 0x7f38a0c72cf8>"
            ]
          },
          "metadata": {
            "tags": []
          },
          "execution_count": 42
        }
      ]
    },
    {
      "cell_type": "markdown",
      "metadata": {
        "id": "IoJgBDe8y3wq",
        "colab_type": "text"
      },
      "source": [
        "**Create a prediction input function**"
      ]
    },
    {
      "cell_type": "code",
      "metadata": {
        "id": "7N_h21_jvtzW",
        "colab_type": "code",
        "colab": {}
      },
      "source": [
        "pred_fn = tf.compat.v1.estimator.inputs.pandas_input_fn(\n",
        "    x=X_test,batch_size=len(X_test),shuffle=False)"
      ],
      "execution_count": 0,
      "outputs": []
    },
    {
      "cell_type": "markdown",
      "metadata": {
        "id": "6xcw6o8Oy-zc",
        "colab_type": "text"
      },
      "source": [
        "**Use model.predict() and pass in your input function**"
      ]
    },
    {
      "cell_type": "code",
      "metadata": {
        "id": "0RGskKqNvt25",
        "colab_type": "code",
        "outputId": "3e36a286-4d02-4110-9898-d4a49b08ab4f",
        "colab": {
          "base_uri": "https://localhost:8080/",
          "height": 238
        }
      },
      "source": [
        "predictions = list(model.predict(input_fn=pred_fn))"
      ],
      "execution_count": 0,
      "outputs": [
        {
          "output_type": "stream",
          "text": [
            "INFO:tensorflow:Calling model_fn.\n",
            "WARNING:tensorflow:Layer linear/linear_model is casting an input tensor from dtype float64 to the layer's dtype of float32, which is new behavior in TensorFlow 2.  The layer has dtype float32 because it's dtype defaults to floatx.\n",
            "\n",
            "If you intended to run this layer in float32, you can safely ignore this warning. If in doubt, this warning is likely only an issue if you are porting a TensorFlow 1.X model to TensorFlow 2.\n",
            "\n",
            "To change all layers to have dtype float64 by default, call `tf.keras.backend.set_floatx('float64')`. To change just this layer, pass dtype='float64' to the layer constructor. If you are the author of this layer, you can disable autocasting by passing autocast=False to the base Layer constructor.\n",
            "\n",
            "INFO:tensorflow:Done calling model_fn.\n",
            "INFO:tensorflow:Graph was finalized.\n",
            "INFO:tensorflow:Restoring parameters from /tmp/tmpuyyxeqsc/model.ckpt-5000\n",
            "INFO:tensorflow:Running local_init_op.\n",
            "INFO:tensorflow:Done running local_init_op.\n"
          ],
          "name": "stdout"
        }
      ]
    },
    {
      "cell_type": "markdown",
      "metadata": {
        "id": "V6wOQNd7zKAB",
        "colab_type": "text"
      },
      "source": [
        "**Each item in your list will look like this:**"
      ]
    },
    {
      "cell_type": "code",
      "metadata": {
        "id": "7DEWhiX_vtxv",
        "colab_type": "code",
        "outputId": "c01b2fdd-1f9d-44c2-f602-83c95d5f1856",
        "colab": {
          "base_uri": "https://localhost:8080/",
          "height": 134
        }
      },
      "source": [
        "predictions[0]"
      ],
      "execution_count": 0,
      "outputs": [
        {
          "output_type": "execute_result",
          "data": {
            "text/plain": [
              "{'all_class_ids': array([0, 1], dtype=int32),\n",
              " 'all_classes': array([b'0', b'1'], dtype=object),\n",
              " 'class_ids': array([0]),\n",
              " 'classes': array([b'0'], dtype=object),\n",
              " 'logistic': array([0.19804242], dtype=float32),\n",
              " 'logits': array([-1.3985746], dtype=float32),\n",
              " 'probabilities': array([0.8019576 , 0.19804241], dtype=float32)}"
            ]
          },
          "metadata": {
            "tags": []
          },
          "execution_count": 45
        }
      ]
    },
    {
      "cell_type": "markdown",
      "metadata": {
        "id": "NwRoJyuzzQNh",
        "colab_type": "text"
      },
      "source": [
        "**Create a list of only the class_ids key values from the prediction list of dictionaries, these are the predictions you will use to compare against the real y_test values**"
      ]
    },
    {
      "cell_type": "code",
      "metadata": {
        "id": "RMQ3Bw3Qvtvp",
        "colab_type": "code",
        "colab": {}
      },
      "source": [
        "final_preds = []\n",
        "for pred in predictions:\n",
        "    final_preds.append(pred['class_ids'][0])"
      ],
      "execution_count": 0,
      "outputs": []
    },
    {
      "cell_type": "code",
      "metadata": {
        "id": "iGjsSwMDvtrk",
        "colab_type": "code",
        "outputId": "a702e94e-cd04-4e91-f3df-c995f9715f86",
        "colab": {
          "base_uri": "https://localhost:8080/",
          "height": 34
        }
      },
      "source": [
        "final_preds[:20]"
      ],
      "execution_count": 0,
      "outputs": [
        {
          "output_type": "execute_result",
          "data": {
            "text/plain": [
              "[0, 1, 0, 1, 0, 1, 0, 1, 1, 0, 1, 0, 1, 1, 1, 1, 0, 1, 0, 1]"
            ]
          },
          "metadata": {
            "tags": []
          },
          "execution_count": 47
        }
      ]
    },
    {
      "cell_type": "code",
      "metadata": {
        "id": "6rozkitpwUfV",
        "colab_type": "code",
        "colab": {}
      },
      "source": [
        "eval_input_func = tf.compat.v1.estimator.inputs.pandas_input_fn(\n",
        "    x=X_test,y=y_test,batch_size=len(X_test),shuffle=False)"
      ],
      "execution_count": 0,
      "outputs": []
    },
    {
      "cell_type": "code",
      "metadata": {
        "id": "hYcgH2K9v_if",
        "colab_type": "code",
        "outputId": "a10a05e6-57b0-4adf-bbae-d39d8af10595",
        "colab": {
          "base_uri": "https://localhost:8080/",
          "height": 168
        }
      },
      "source": [
        "print(classification_report(y_test,final_preds))"
      ],
      "execution_count": 0,
      "outputs": [
        {
          "output_type": "stream",
          "text": [
            "              precision    recall  f1-score   support\n",
            "\n",
            "           0       0.74      0.67      0.70      1734\n",
            "           1       0.67      0.74      0.70      1575\n",
            "\n",
            "    accuracy                           0.70      3309\n",
            "   macro avg       0.71      0.71      0.70      3309\n",
            "weighted avg       0.71      0.70      0.70      3309\n",
            "\n"
          ],
          "name": "stdout"
        }
      ]
    },
    {
      "cell_type": "code",
      "metadata": {
        "id": "tDq0SYdCwVNe",
        "colab_type": "code",
        "outputId": "2568e3a9-7b38-4af4-eca0-d96825be36c3",
        "colab": {
          "base_uri": "https://localhost:8080/",
          "height": 507
        }
      },
      "source": [
        "results = model.evaluate(eval_input_func)\n",
        "results"
      ],
      "execution_count": 0,
      "outputs": [
        {
          "output_type": "stream",
          "text": [
            "INFO:tensorflow:Calling model_fn.\n",
            "WARNING:tensorflow:Layer linear/linear_model is casting an input tensor from dtype float64 to the layer's dtype of float32, which is new behavior in TensorFlow 2.  The layer has dtype float32 because it's dtype defaults to floatx.\n",
            "\n",
            "If you intended to run this layer in float32, you can safely ignore this warning. If in doubt, this warning is likely only an issue if you are porting a TensorFlow 1.X model to TensorFlow 2.\n",
            "\n",
            "To change all layers to have dtype float64 by default, call `tf.keras.backend.set_floatx('float64')`. To change just this layer, pass dtype='float64' to the layer constructor. If you are the author of this layer, you can disable autocasting by passing autocast=False to the base Layer constructor.\n",
            "\n",
            "INFO:tensorflow:Done calling model_fn.\n",
            "INFO:tensorflow:Starting evaluation at 2020-03-28T05:09:19Z\n",
            "INFO:tensorflow:Graph was finalized.\n",
            "INFO:tensorflow:Restoring parameters from /tmp/tmpuyyxeqsc/model.ckpt-5000\n",
            "INFO:tensorflow:Running local_init_op.\n",
            "INFO:tensorflow:Done running local_init_op.\n",
            "INFO:tensorflow:Inference Time : 1.06148s\n",
            "INFO:tensorflow:Finished evaluation at 2020-03-28-05:09:20\n",
            "INFO:tensorflow:Saving dict for global step 5000: accuracy = 0.703838, accuracy_baseline = 0.5240254, auc = 0.79451126, auc_precision_recall = 0.7937835, average_loss = 0.55296165, global_step = 5000, label/mean = 0.47597462, loss = 0.55296165, precision = 0.672664, prediction/mean = 0.5475833, recall = 0.73587304\n",
            "INFO:tensorflow:Saving 'checkpoint_path' summary for global step 5000: /tmp/tmpuyyxeqsc/model.ckpt-5000\n"
          ],
          "name": "stdout"
        },
        {
          "output_type": "execute_result",
          "data": {
            "text/plain": [
              "{'accuracy': 0.703838,\n",
              " 'accuracy_baseline': 0.5240254,\n",
              " 'auc': 0.79451126,\n",
              " 'auc_precision_recall': 0.7937835,\n",
              " 'average_loss': 0.55296165,\n",
              " 'global_step': 5000,\n",
              " 'label/mean': 0.47597462,\n",
              " 'loss': 0.55296165,\n",
              " 'precision': 0.672664,\n",
              " 'prediction/mean': 0.5475833,\n",
              " 'recall': 0.73587304}"
            ]
          },
          "metadata": {
            "tags": []
          },
          "execution_count": 50
        }
      ]
    },
    {
      "cell_type": "markdown",
      "metadata": {
        "id": "AntNpw2jtrlp",
        "colab_type": "text"
      },
      "source": [
        "# Linear Classification"
      ]
    },
    {
      "cell_type": "code",
      "metadata": {
        "id": "7jomXPsEvh1H",
        "colab_type": "code",
        "colab": {}
      },
      "source": [
        "%tensorflow_version 2.x"
      ],
      "execution_count": 0,
      "outputs": []
    },
    {
      "cell_type": "code",
      "metadata": {
        "id": "bWWB9cnGvjY9",
        "colab_type": "code",
        "colab": {}
      },
      "source": [
        "import pandas as pd\n",
        "import numpy as np\n",
        "from scipy import stats\n",
        "import sys\n",
        "import seaborn as sns\n",
        "import matplotlib.pyplot as plt\n",
        "import tensorflow as tf\n",
        "from tensorflow import feature_column\n",
        "from tensorflow.keras import layers\n",
        "from sklearn.model_selection import train_test_split\n",
        "from sklearn.metrics import classification_report"
      ],
      "execution_count": 0,
      "outputs": []
    },
    {
      "cell_type": "code",
      "metadata": {
        "id": "mOlJqvfIvk7t",
        "colab_type": "code",
        "outputId": "53a79f8d-dc0c-41eb-dcba-a8f0a83b25a5",
        "colab": {
          "base_uri": "https://localhost:8080/",
          "height": 438
        }
      },
      "source": [
        "url = 'https://raw.githubusercontent.com/juliussin/Machine-Learning-Project---MLCC/master/bank.csv'\n",
        "bank = pd.read_csv(url)\n",
        "bank"
      ],
      "execution_count": 0,
      "outputs": [
        {
          "output_type": "execute_result",
          "data": {
            "text/html": [
              "<div>\n",
              "<style scoped>\n",
              "    .dataframe tbody tr th:only-of-type {\n",
              "        vertical-align: middle;\n",
              "    }\n",
              "\n",
              "    .dataframe tbody tr th {\n",
              "        vertical-align: top;\n",
              "    }\n",
              "\n",
              "    .dataframe thead th {\n",
              "        text-align: right;\n",
              "    }\n",
              "</style>\n",
              "<table border=\"1\" class=\"dataframe\">\n",
              "  <thead>\n",
              "    <tr style=\"text-align: right;\">\n",
              "      <th></th>\n",
              "      <th>age</th>\n",
              "      <th>job</th>\n",
              "      <th>marital</th>\n",
              "      <th>education</th>\n",
              "      <th>default</th>\n",
              "      <th>balance</th>\n",
              "      <th>housing</th>\n",
              "      <th>loan</th>\n",
              "      <th>contact</th>\n",
              "      <th>day</th>\n",
              "      <th>month</th>\n",
              "      <th>duration</th>\n",
              "      <th>campaign</th>\n",
              "      <th>pdays</th>\n",
              "      <th>previous</th>\n",
              "      <th>poutcome</th>\n",
              "      <th>deposit</th>\n",
              "    </tr>\n",
              "  </thead>\n",
              "  <tbody>\n",
              "    <tr>\n",
              "      <th>0</th>\n",
              "      <td>59</td>\n",
              "      <td>admin.</td>\n",
              "      <td>married</td>\n",
              "      <td>secondary</td>\n",
              "      <td>no</td>\n",
              "      <td>2343</td>\n",
              "      <td>yes</td>\n",
              "      <td>no</td>\n",
              "      <td>unknown</td>\n",
              "      <td>5</td>\n",
              "      <td>may</td>\n",
              "      <td>1042</td>\n",
              "      <td>1</td>\n",
              "      <td>-1</td>\n",
              "      <td>0</td>\n",
              "      <td>unknown</td>\n",
              "      <td>yes</td>\n",
              "    </tr>\n",
              "    <tr>\n",
              "      <th>1</th>\n",
              "      <td>56</td>\n",
              "      <td>admin.</td>\n",
              "      <td>married</td>\n",
              "      <td>secondary</td>\n",
              "      <td>no</td>\n",
              "      <td>45</td>\n",
              "      <td>no</td>\n",
              "      <td>no</td>\n",
              "      <td>unknown</td>\n",
              "      <td>5</td>\n",
              "      <td>may</td>\n",
              "      <td>1467</td>\n",
              "      <td>1</td>\n",
              "      <td>-1</td>\n",
              "      <td>0</td>\n",
              "      <td>unknown</td>\n",
              "      <td>yes</td>\n",
              "    </tr>\n",
              "    <tr>\n",
              "      <th>2</th>\n",
              "      <td>41</td>\n",
              "      <td>technician</td>\n",
              "      <td>married</td>\n",
              "      <td>secondary</td>\n",
              "      <td>no</td>\n",
              "      <td>1270</td>\n",
              "      <td>yes</td>\n",
              "      <td>no</td>\n",
              "      <td>unknown</td>\n",
              "      <td>5</td>\n",
              "      <td>may</td>\n",
              "      <td>1389</td>\n",
              "      <td>1</td>\n",
              "      <td>-1</td>\n",
              "      <td>0</td>\n",
              "      <td>unknown</td>\n",
              "      <td>yes</td>\n",
              "    </tr>\n",
              "    <tr>\n",
              "      <th>3</th>\n",
              "      <td>55</td>\n",
              "      <td>services</td>\n",
              "      <td>married</td>\n",
              "      <td>secondary</td>\n",
              "      <td>no</td>\n",
              "      <td>2476</td>\n",
              "      <td>yes</td>\n",
              "      <td>no</td>\n",
              "      <td>unknown</td>\n",
              "      <td>5</td>\n",
              "      <td>may</td>\n",
              "      <td>579</td>\n",
              "      <td>1</td>\n",
              "      <td>-1</td>\n",
              "      <td>0</td>\n",
              "      <td>unknown</td>\n",
              "      <td>yes</td>\n",
              "    </tr>\n",
              "    <tr>\n",
              "      <th>4</th>\n",
              "      <td>54</td>\n",
              "      <td>admin.</td>\n",
              "      <td>married</td>\n",
              "      <td>tertiary</td>\n",
              "      <td>no</td>\n",
              "      <td>184</td>\n",
              "      <td>no</td>\n",
              "      <td>no</td>\n",
              "      <td>unknown</td>\n",
              "      <td>5</td>\n",
              "      <td>may</td>\n",
              "      <td>673</td>\n",
              "      <td>2</td>\n",
              "      <td>-1</td>\n",
              "      <td>0</td>\n",
              "      <td>unknown</td>\n",
              "      <td>yes</td>\n",
              "    </tr>\n",
              "    <tr>\n",
              "      <th>...</th>\n",
              "      <td>...</td>\n",
              "      <td>...</td>\n",
              "      <td>...</td>\n",
              "      <td>...</td>\n",
              "      <td>...</td>\n",
              "      <td>...</td>\n",
              "      <td>...</td>\n",
              "      <td>...</td>\n",
              "      <td>...</td>\n",
              "      <td>...</td>\n",
              "      <td>...</td>\n",
              "      <td>...</td>\n",
              "      <td>...</td>\n",
              "      <td>...</td>\n",
              "      <td>...</td>\n",
              "      <td>...</td>\n",
              "      <td>...</td>\n",
              "    </tr>\n",
              "    <tr>\n",
              "      <th>11157</th>\n",
              "      <td>33</td>\n",
              "      <td>blue-collar</td>\n",
              "      <td>single</td>\n",
              "      <td>primary</td>\n",
              "      <td>no</td>\n",
              "      <td>1</td>\n",
              "      <td>yes</td>\n",
              "      <td>no</td>\n",
              "      <td>cellular</td>\n",
              "      <td>20</td>\n",
              "      <td>apr</td>\n",
              "      <td>257</td>\n",
              "      <td>1</td>\n",
              "      <td>-1</td>\n",
              "      <td>0</td>\n",
              "      <td>unknown</td>\n",
              "      <td>no</td>\n",
              "    </tr>\n",
              "    <tr>\n",
              "      <th>11158</th>\n",
              "      <td>39</td>\n",
              "      <td>services</td>\n",
              "      <td>married</td>\n",
              "      <td>secondary</td>\n",
              "      <td>no</td>\n",
              "      <td>733</td>\n",
              "      <td>no</td>\n",
              "      <td>no</td>\n",
              "      <td>unknown</td>\n",
              "      <td>16</td>\n",
              "      <td>jun</td>\n",
              "      <td>83</td>\n",
              "      <td>4</td>\n",
              "      <td>-1</td>\n",
              "      <td>0</td>\n",
              "      <td>unknown</td>\n",
              "      <td>no</td>\n",
              "    </tr>\n",
              "    <tr>\n",
              "      <th>11159</th>\n",
              "      <td>32</td>\n",
              "      <td>technician</td>\n",
              "      <td>single</td>\n",
              "      <td>secondary</td>\n",
              "      <td>no</td>\n",
              "      <td>29</td>\n",
              "      <td>no</td>\n",
              "      <td>no</td>\n",
              "      <td>cellular</td>\n",
              "      <td>19</td>\n",
              "      <td>aug</td>\n",
              "      <td>156</td>\n",
              "      <td>2</td>\n",
              "      <td>-1</td>\n",
              "      <td>0</td>\n",
              "      <td>unknown</td>\n",
              "      <td>no</td>\n",
              "    </tr>\n",
              "    <tr>\n",
              "      <th>11160</th>\n",
              "      <td>43</td>\n",
              "      <td>technician</td>\n",
              "      <td>married</td>\n",
              "      <td>secondary</td>\n",
              "      <td>no</td>\n",
              "      <td>0</td>\n",
              "      <td>no</td>\n",
              "      <td>yes</td>\n",
              "      <td>cellular</td>\n",
              "      <td>8</td>\n",
              "      <td>may</td>\n",
              "      <td>9</td>\n",
              "      <td>2</td>\n",
              "      <td>172</td>\n",
              "      <td>5</td>\n",
              "      <td>failure</td>\n",
              "      <td>no</td>\n",
              "    </tr>\n",
              "    <tr>\n",
              "      <th>11161</th>\n",
              "      <td>34</td>\n",
              "      <td>technician</td>\n",
              "      <td>married</td>\n",
              "      <td>secondary</td>\n",
              "      <td>no</td>\n",
              "      <td>0</td>\n",
              "      <td>no</td>\n",
              "      <td>no</td>\n",
              "      <td>cellular</td>\n",
              "      <td>9</td>\n",
              "      <td>jul</td>\n",
              "      <td>628</td>\n",
              "      <td>1</td>\n",
              "      <td>-1</td>\n",
              "      <td>0</td>\n",
              "      <td>unknown</td>\n",
              "      <td>no</td>\n",
              "    </tr>\n",
              "  </tbody>\n",
              "</table>\n",
              "<p>11162 rows × 17 columns</p>\n",
              "</div>"
            ],
            "text/plain": [
              "       age          job  marital  education  ... pdays  previous poutcome deposit\n",
              "0       59       admin.  married  secondary  ...    -1         0  unknown     yes\n",
              "1       56       admin.  married  secondary  ...    -1         0  unknown     yes\n",
              "2       41   technician  married  secondary  ...    -1         0  unknown     yes\n",
              "3       55     services  married  secondary  ...    -1         0  unknown     yes\n",
              "4       54       admin.  married   tertiary  ...    -1         0  unknown     yes\n",
              "...    ...          ...      ...        ...  ...   ...       ...      ...     ...\n",
              "11157   33  blue-collar   single    primary  ...    -1         0  unknown      no\n",
              "11158   39     services  married  secondary  ...    -1         0  unknown      no\n",
              "11159   32   technician   single  secondary  ...    -1         0  unknown      no\n",
              "11160   43   technician  married  secondary  ...   172         5  failure      no\n",
              "11161   34   technician  married  secondary  ...    -1         0  unknown      no\n",
              "\n",
              "[11162 rows x 17 columns]"
            ]
          },
          "metadata": {
            "tags": []
          },
          "execution_count": 3
        }
      ]
    },
    {
      "cell_type": "code",
      "metadata": {
        "id": "SlWM8b_Lvo27",
        "colab_type": "code",
        "colab": {}
      },
      "source": [
        "data = bank.copy()\n",
        "data = data.drop('day', axis=1)\n",
        "data = data.drop('month', axis=1)\n",
        "#Normalize Age & Day\n",
        "data['age'] = data['age']/100\n",
        "data['balance'] = (data['balance']+10000)/100000\n",
        "# data['day'] = data['day']/32\n",
        "# data['previous'] = data['previous']/64\n",
        "# data['duration'] = data['duration']/1000\n",
        "dict_of_feature_column = {}\n",
        "\n",
        "for i in data.columns:\n",
        "\n",
        "  # for Categorical Features\n",
        "  if data[i].unique().dtype == np.object:\n",
        "\n",
        "    # Change feature which only contain 'yes' & no -> 1 & 0\n",
        "    if ('yes' and 'no' in data[i].unique()) and (len(data[i].unique()) == 2):\n",
        "      data[i] = data[i].replace('yes', 1)\n",
        "      data[i] = data[i].replace('no', 0)\n",
        "      dict_of_feature_column[i] = feature_column.numeric_column(i)\n",
        "    # Others\n",
        "    else:\n",
        "      temp = feature_column.categorical_column_with_vocabulary_list(i, data[i].unique())\n",
        "      dict_of_feature_column[i] = feature_column.indicator_column(temp)\n",
        "  \n",
        "  # Special Features (Bucketized Features)\n",
        "  elif i == 'pdays':\n",
        "    dict_of_feature_column[i] = feature_column.bucketized_column(feature_column.numeric_column(i), boundaries=[0])\n",
        "  # elif i == 'duration':\n",
        "  #   dict_of_feature_column[i] = feature_column.bucketized_column(feature_column.numeric_column(i), boundaries=[1000,2000,3000])\n",
        "\n",
        "  # for Numeric Features\n",
        "  else:\n",
        "    dict_of_feature_column[i] = feature_column.numeric_column(i)\n",
        "\n",
        "# print(bank)\n",
        "# print(data)"
      ],
      "execution_count": 0,
      "outputs": []
    },
    {
      "cell_type": "code",
      "metadata": {
        "id": "7FdGbrkFvpWV",
        "colab_type": "code",
        "outputId": "a180b790-a96e-420d-c23b-dc7daabbb1f6",
        "colab": {
          "base_uri": "https://localhost:8080/",
          "height": 289
        }
      },
      "source": [
        "dict_of_feature_column"
      ],
      "execution_count": 0,
      "outputs": [
        {
          "output_type": "execute_result",
          "data": {
            "text/plain": [
              "{'age': NumericColumn(key='age', shape=(1,), default_value=None, dtype=tf.float32, normalizer_fn=None),\n",
              " 'balance': NumericColumn(key='balance', shape=(1,), default_value=None, dtype=tf.float32, normalizer_fn=None),\n",
              " 'campaign': NumericColumn(key='campaign', shape=(1,), default_value=None, dtype=tf.float32, normalizer_fn=None),\n",
              " 'contact': IndicatorColumn(categorical_column=VocabularyListCategoricalColumn(key='contact', vocabulary_list=('unknown', 'cellular', 'telephone'), dtype=tf.string, default_value=-1, num_oov_buckets=0)),\n",
              " 'default': NumericColumn(key='default', shape=(1,), default_value=None, dtype=tf.float32, normalizer_fn=None),\n",
              " 'deposit': NumericColumn(key='deposit', shape=(1,), default_value=None, dtype=tf.float32, normalizer_fn=None),\n",
              " 'duration': NumericColumn(key='duration', shape=(1,), default_value=None, dtype=tf.float32, normalizer_fn=None),\n",
              " 'education': IndicatorColumn(categorical_column=VocabularyListCategoricalColumn(key='education', vocabulary_list=('secondary', 'tertiary', 'primary', 'unknown'), dtype=tf.string, default_value=-1, num_oov_buckets=0)),\n",
              " 'housing': NumericColumn(key='housing', shape=(1,), default_value=None, dtype=tf.float32, normalizer_fn=None),\n",
              " 'job': IndicatorColumn(categorical_column=VocabularyListCategoricalColumn(key='job', vocabulary_list=('admin.', 'technician', 'services', 'management', 'retired', 'blue-collar', 'unemployed', 'entrepreneur', 'housemaid', 'unknown', 'self-employed', 'student'), dtype=tf.string, default_value=-1, num_oov_buckets=0)),\n",
              " 'loan': NumericColumn(key='loan', shape=(1,), default_value=None, dtype=tf.float32, normalizer_fn=None),\n",
              " 'marital': IndicatorColumn(categorical_column=VocabularyListCategoricalColumn(key='marital', vocabulary_list=('married', 'single', 'divorced'), dtype=tf.string, default_value=-1, num_oov_buckets=0)),\n",
              " 'pdays': BucketizedColumn(source_column=NumericColumn(key='pdays', shape=(1,), default_value=None, dtype=tf.float32, normalizer_fn=None), boundaries=(0,)),\n",
              " 'poutcome': IndicatorColumn(categorical_column=VocabularyListCategoricalColumn(key='poutcome', vocabulary_list=('unknown', 'other', 'failure', 'success'), dtype=tf.string, default_value=-1, num_oov_buckets=0)),\n",
              " 'previous': NumericColumn(key='previous', shape=(1,), default_value=None, dtype=tf.float32, normalizer_fn=None)}"
            ]
          },
          "metadata": {
            "tags": []
          },
          "execution_count": 5
        }
      ]
    },
    {
      "cell_type": "markdown",
      "metadata": {
        "id": "s5PZH_-pt8vI",
        "colab_type": "text"
      },
      "source": [
        "Split the Data into Train, Test, and Validation"
      ]
    },
    {
      "cell_type": "code",
      "metadata": {
        "id": "RSpDVrNBt8DL",
        "colab_type": "code",
        "outputId": "375f5456-bfc2-4276-f451-4b6d2a323ad2",
        "colab": {
          "base_uri": "https://localhost:8080/",
          "height": 67
        }
      },
      "source": [
        "batch_size = 64\n",
        "data = data.reindex(sorted(data.columns), axis=1)\n",
        "x = data.copy()\n",
        "y = x.pop('deposit')\n",
        "x_train, x_test, y_train, y_test = train_test_split(\n",
        "    x,y,test_size=0.25)\n",
        "x_test, x_val, y_test, y_val = train_test_split(\n",
        "    x_test,y_test,test_size=0.25)\n",
        "# train, test = train_test_split(bank, test_size=0.25)\n",
        "# test, val = train_test_split(test, test_size=0.25)\n",
        "print(\"Train: \", len(x_train))\n",
        "print(\"Test : \", len(x_test))\n",
        "print(\"Val  : \", len(x_val))\n",
        "train_ds = tf.data.Dataset.from_tensor_slices((dict(x_train), y_train))\n",
        "train_ds = train_ds.batch(batch_size)\n",
        "test_ds = tf.data.Dataset.from_tensor_slices((dict(x_test), y_test))\n",
        "test_ds = test_ds.batch(batch_size)\n",
        "val_ds = tf.data.Dataset.from_tensor_slices((dict(x_val), y_val))\n",
        "val_ds = val_ds.batch(batch_size)\n",
        "# x_train"
      ],
      "execution_count": 0,
      "outputs": [
        {
          "output_type": "stream",
          "text": [
            "Train:  8371\n",
            "Test :  2093\n",
            "Val  :  698\n"
          ],
          "name": "stdout"
        }
      ]
    },
    {
      "cell_type": "markdown",
      "metadata": {
        "id": "zFjwD6JbuBxd",
        "colab_type": "text"
      },
      "source": [
        "Create Input Function"
      ]
    },
    {
      "cell_type": "code",
      "metadata": {
        "id": "5IRXUzIOtxQ9",
        "colab_type": "code",
        "outputId": "e403d225-58d3-4bb3-fb1a-5b11f17dd1d4",
        "colab": {
          "base_uri": "https://localhost:8080/",
          "height": 70
        }
      },
      "source": [
        "input_func = tf.compat.v1.estimator.inputs.pandas_input_fn(\n",
        "    x=x_train,\n",
        "    y=y_train,\n",
        "    batch_size=10,\n",
        "    num_epochs=None,\n",
        "    shuffle=True)"
      ],
      "execution_count": 0,
      "outputs": [
        {
          "output_type": "stream",
          "text": [
            "WARNING:tensorflow:From /usr/local/lib/python3.6/dist-packages/tensorflow/python/util/lazy_loader.py:63: The name tf.estimator.inputs is deprecated. Please use tf.compat.v1.estimator.inputs instead.\n",
            "\n"
          ],
          "name": "stdout"
        }
      ]
    },
    {
      "cell_type": "code",
      "metadata": {
        "id": "MlFMXaa_uHFr",
        "colab_type": "code",
        "outputId": "81961912-66bf-437b-b382-ce89b7d9a2a1",
        "colab": {
          "base_uri": "https://localhost:8080/",
          "height": 272
        }
      },
      "source": [
        "feat_cols=[dict_of_feature_column['age'],dict_of_feature_column['balance'],dict_of_feature_column['campaign'],dict_of_feature_column['contact'],dict_of_feature_column['default'],dict_of_feature_column['duration'],dict_of_feature_column['education'],dict_of_feature_column['housing'],dict_of_feature_column['job'],dict_of_feature_column['loan'],dict_of_feature_column['marital'],dict_of_feature_column['pdays'],dict_of_feature_column['poutcome'],dict_of_feature_column['previous']]\n",
        "feat_cols"
      ],
      "execution_count": 0,
      "outputs": [
        {
          "output_type": "execute_result",
          "data": {
            "text/plain": [
              "[NumericColumn(key='age', shape=(1,), default_value=None, dtype=tf.float32, normalizer_fn=None),\n",
              " NumericColumn(key='balance', shape=(1,), default_value=None, dtype=tf.float32, normalizer_fn=None),\n",
              " NumericColumn(key='campaign', shape=(1,), default_value=None, dtype=tf.float32, normalizer_fn=None),\n",
              " IndicatorColumn(categorical_column=VocabularyListCategoricalColumn(key='contact', vocabulary_list=('unknown', 'cellular', 'telephone'), dtype=tf.string, default_value=-1, num_oov_buckets=0)),\n",
              " NumericColumn(key='default', shape=(1,), default_value=None, dtype=tf.float32, normalizer_fn=None),\n",
              " NumericColumn(key='duration', shape=(1,), default_value=None, dtype=tf.float32, normalizer_fn=None),\n",
              " IndicatorColumn(categorical_column=VocabularyListCategoricalColumn(key='education', vocabulary_list=('secondary', 'tertiary', 'primary', 'unknown'), dtype=tf.string, default_value=-1, num_oov_buckets=0)),\n",
              " NumericColumn(key='housing', shape=(1,), default_value=None, dtype=tf.float32, normalizer_fn=None),\n",
              " IndicatorColumn(categorical_column=VocabularyListCategoricalColumn(key='job', vocabulary_list=('admin.', 'technician', 'services', 'management', 'retired', 'blue-collar', 'unemployed', 'entrepreneur', 'housemaid', 'unknown', 'self-employed', 'student'), dtype=tf.string, default_value=-1, num_oov_buckets=0)),\n",
              " NumericColumn(key='loan', shape=(1,), default_value=None, dtype=tf.float32, normalizer_fn=None),\n",
              " IndicatorColumn(categorical_column=VocabularyListCategoricalColumn(key='marital', vocabulary_list=('married', 'single', 'divorced'), dtype=tf.string, default_value=-1, num_oov_buckets=0)),\n",
              " BucketizedColumn(source_column=NumericColumn(key='pdays', shape=(1,), default_value=None, dtype=tf.float32, normalizer_fn=None), boundaries=(0,)),\n",
              " IndicatorColumn(categorical_column=VocabularyListCategoricalColumn(key='poutcome', vocabulary_list=('unknown', 'other', 'failure', 'success'), dtype=tf.string, default_value=-1, num_oov_buckets=0)),\n",
              " NumericColumn(key='previous', shape=(1,), default_value=None, dtype=tf.float32, normalizer_fn=None)]"
            ]
          },
          "metadata": {
            "tags": []
          },
          "execution_count": 8
        }
      ]
    },
    {
      "cell_type": "markdown",
      "metadata": {
        "id": "JJMl3CofuH-N",
        "colab_type": "text"
      },
      "source": [
        "The first model is Linear Classifier model by TensorFlow"
      ]
    },
    {
      "cell_type": "code",
      "metadata": {
        "id": "sPDoE_k8uM0s",
        "colab_type": "code",
        "outputId": "0e791782-6785-4fd7-fcd6-62118aab1b55",
        "colab": {
          "base_uri": "https://localhost:8080/",
          "height": 205
        }
      },
      "source": [
        "model = tf.compat.v1.estimator.LinearClassifier(feature_columns=feat_cols)\n",
        "print(type(model))"
      ],
      "execution_count": 0,
      "outputs": [
        {
          "output_type": "stream",
          "text": [
            "INFO:tensorflow:Using default config.\n",
            "WARNING:tensorflow:Using temporary folder as model directory: /tmp/tmpy_y2nvew\n",
            "INFO:tensorflow:Using config: {'_model_dir': '/tmp/tmpy_y2nvew', '_tf_random_seed': None, '_save_summary_steps': 100, '_save_checkpoints_steps': None, '_save_checkpoints_secs': 600, '_session_config': allow_soft_placement: true\n",
            "graph_options {\n",
            "  rewrite_options {\n",
            "    meta_optimizer_iterations: ONE\n",
            "  }\n",
            "}\n",
            ", '_keep_checkpoint_max': 5, '_keep_checkpoint_every_n_hours': 10000, '_log_step_count_steps': 100, '_train_distribute': None, '_device_fn': None, '_protocol': None, '_eval_distribute': None, '_experimental_distribute': None, '_experimental_max_worker_delay_secs': None, '_session_creation_timeout_secs': 7200, '_service': None, '_cluster_spec': ClusterSpec({}), '_task_type': 'worker', '_task_id': 0, '_global_id_in_cluster': 0, '_master': '', '_evaluation_master': '', '_is_chief': True, '_num_ps_replicas': 0, '_num_worker_replicas': 1}\n",
            "<class 'tensorflow_estimator.python.estimator.canned.linear.LinearClassifier'>\n"
          ],
          "name": "stdout"
        }
      ]
    },
    {
      "cell_type": "markdown",
      "metadata": {
        "id": "KRkhITiDuTsP",
        "colab_type": "text"
      },
      "source": [
        "Train Model"
      ]
    },
    {
      "cell_type": "code",
      "metadata": {
        "id": "49uD2K0CuSsE",
        "colab_type": "code",
        "outputId": "29fa3358-1338-4371-f68c-3ee28948d751",
        "colab": {
          "base_uri": "https://localhost:8080/",
          "height": 1000
        }
      },
      "source": [
        "model.train(input_fn=input_func,steps=5000)"
      ],
      "execution_count": 0,
      "outputs": [
        {
          "output_type": "stream",
          "text": [
            "WARNING:tensorflow:From /usr/local/lib/python3.6/dist-packages/tensorflow/python/ops/resource_variable_ops.py:1666: calling BaseResourceVariable.__init__ (from tensorflow.python.ops.resource_variable_ops) with constraint is deprecated and will be removed in a future version.\n",
            "Instructions for updating:\n",
            "If using Keras pass *_constraint arguments to layers.\n",
            "WARNING:tensorflow:From /usr/local/lib/python3.6/dist-packages/tensorflow/python/training/training_util.py:236: Variable.initialized_value (from tensorflow.python.ops.variables) is deprecated and will be removed in a future version.\n",
            "Instructions for updating:\n",
            "Use Variable.read_value. Variables in 2.X are initialized automatically both in eager and graph (inside tf.defun) contexts.\n",
            "WARNING:tensorflow:From /usr/local/lib/python3.6/dist-packages/tensorflow_estimator/python/estimator/inputs/queues/feeding_queue_runner.py:65: QueueRunner.__init__ (from tensorflow.python.training.queue_runner_impl) is deprecated and will be removed in a future version.\n",
            "Instructions for updating:\n",
            "To construct input pipelines, use the `tf.data` module.\n",
            "WARNING:tensorflow:From /usr/local/lib/python3.6/dist-packages/tensorflow_estimator/python/estimator/inputs/queues/feeding_functions.py:491: add_queue_runner (from tensorflow.python.training.queue_runner_impl) is deprecated and will be removed in a future version.\n",
            "Instructions for updating:\n",
            "To construct input pipelines, use the `tf.data` module.\n",
            "INFO:tensorflow:Calling model_fn.\n",
            "WARNING:tensorflow:Layer linear_model is casting an input tensor from dtype float64 to the layer's dtype of float32, which is new behavior in TensorFlow 2.  The layer has dtype float32 because it's dtype defaults to floatx.\n",
            "\n",
            "If you intended to run this layer in float32, you can safely ignore this warning. If in doubt, this warning is likely only an issue if you are porting a TensorFlow 1.X model to TensorFlow 2.\n",
            "\n",
            "To change all layers to have dtype float64 by default, call `tf.keras.backend.set_floatx('float64')`. To change just this layer, pass dtype='float64' to the layer constructor. If you are the author of this layer, you can disable autocasting by passing autocast=False to the base Layer constructor.\n",
            "\n",
            "WARNING:tensorflow:From /usr/local/lib/python3.6/dist-packages/tensorflow/python/feature_column/feature_column_v2.py:540: Layer.add_variable (from tensorflow.python.keras.engine.base_layer_v1) is deprecated and will be removed in a future version.\n",
            "Instructions for updating:\n",
            "Please use `layer.add_weight` method instead.\n",
            "INFO:tensorflow:Done calling model_fn.\n",
            "INFO:tensorflow:Create CheckpointSaverHook.\n",
            "INFO:tensorflow:Graph was finalized.\n",
            "INFO:tensorflow:Running local_init_op.\n",
            "INFO:tensorflow:Done running local_init_op.\n",
            "WARNING:tensorflow:From /usr/local/lib/python3.6/dist-packages/tensorflow/python/training/monitored_session.py:906: start_queue_runners (from tensorflow.python.training.queue_runner_impl) is deprecated and will be removed in a future version.\n",
            "Instructions for updating:\n",
            "To construct input pipelines, use the `tf.data` module.\n",
            "INFO:tensorflow:Calling checkpoint listeners before saving checkpoint 0...\n",
            "INFO:tensorflow:Saving checkpoints for 0 into /tmp/tmpy_y2nvew/model.ckpt.\n",
            "INFO:tensorflow:Calling checkpoint listeners after saving checkpoint 0...\n",
            "INFO:tensorflow:loss = 6.931472, step = 0\n",
            "INFO:tensorflow:global_step/sec: 259.37\n",
            "INFO:tensorflow:loss = 4.343606, step = 100 (0.394 sec)\n",
            "WARNING:tensorflow:It seems that global step (tf.train.get_global_step) has not been increased. Current value (could be stable): 198 vs previous value: 198. You could increase the global step by passing tf.train.get_global_step() to Optimizer.apply_gradients or Optimizer.minimize.\n",
            "INFO:tensorflow:global_step/sec: 288.122\n",
            "INFO:tensorflow:loss = 5.5912876, step = 200 (0.347 sec)\n",
            "INFO:tensorflow:global_step/sec: 328.707\n",
            "INFO:tensorflow:loss = 4.78671, step = 300 (0.302 sec)\n",
            "INFO:tensorflow:global_step/sec: 302.918\n",
            "INFO:tensorflow:loss = 5.5716686, step = 400 (0.327 sec)\n",
            "WARNING:tensorflow:It seems that global step (tf.train.get_global_step) has not been increased. Current value (could be stable): 420 vs previous value: 420. You could increase the global step by passing tf.train.get_global_step() to Optimizer.apply_gradients or Optimizer.minimize.\n",
            "INFO:tensorflow:global_step/sec: 316.575\n",
            "INFO:tensorflow:loss = 12.768847, step = 500 (0.314 sec)\n",
            "INFO:tensorflow:global_step/sec: 318.78\n",
            "INFO:tensorflow:loss = 7.2979884, step = 600 (0.324 sec)\n",
            "INFO:tensorflow:global_step/sec: 318.017\n",
            "INFO:tensorflow:loss = 6.9884377, step = 700 (0.307 sec)\n",
            "WARNING:tensorflow:It seems that global step (tf.train.get_global_step) has not been increased. Current value (could be stable): 760 vs previous value: 760. You could increase the global step by passing tf.train.get_global_step() to Optimizer.apply_gradients or Optimizer.minimize.\n",
            "INFO:tensorflow:global_step/sec: 314.477\n",
            "INFO:tensorflow:loss = 7.941039, step = 800 (0.322 sec)\n",
            "INFO:tensorflow:global_step/sec: 325.368\n",
            "INFO:tensorflow:loss = 4.6455956, step = 900 (0.309 sec)\n",
            "WARNING:tensorflow:It seems that global step (tf.train.get_global_step) has not been increased. Current value (could be stable): 922 vs previous value: 922. You could increase the global step by passing tf.train.get_global_step() to Optimizer.apply_gradients or Optimizer.minimize.\n",
            "INFO:tensorflow:global_step/sec: 284.656\n",
            "INFO:tensorflow:loss = 2.498228, step = 1000 (0.345 sec)\n",
            "INFO:tensorflow:global_step/sec: 331.445\n",
            "INFO:tensorflow:loss = 5.0429096, step = 1100 (0.303 sec)\n",
            "WARNING:tensorflow:It seems that global step (tf.train.get_global_step) has not been increased. Current value (could be stable): 1134 vs previous value: 1134. You could increase the global step by passing tf.train.get_global_step() to Optimizer.apply_gradients or Optimizer.minimize.\n",
            "INFO:tensorflow:global_step/sec: 315.315\n",
            "INFO:tensorflow:loss = 3.8876765, step = 1200 (0.327 sec)\n",
            "INFO:tensorflow:global_step/sec: 322.79\n",
            "INFO:tensorflow:loss = 7.9860487, step = 1300 (0.307 sec)\n",
            "INFO:tensorflow:global_step/sec: 288.44\n",
            "INFO:tensorflow:loss = 4.9506702, step = 1400 (0.339 sec)\n",
            "INFO:tensorflow:global_step/sec: 307.381\n",
            "INFO:tensorflow:loss = 3.8125963, step = 1500 (0.324 sec)\n",
            "INFO:tensorflow:global_step/sec: 318.863\n",
            "INFO:tensorflow:loss = 7.021651, step = 1600 (0.314 sec)\n",
            "INFO:tensorflow:global_step/sec: 308.548\n",
            "INFO:tensorflow:loss = 4.00276, step = 1700 (0.326 sec)\n",
            "INFO:tensorflow:global_step/sec: 314.139\n",
            "INFO:tensorflow:loss = 3.0497918, step = 1800 (0.321 sec)\n",
            "INFO:tensorflow:global_step/sec: 313.087\n",
            "INFO:tensorflow:loss = 4.5438204, step = 1900 (0.313 sec)\n",
            "INFO:tensorflow:global_step/sec: 303.651\n",
            "INFO:tensorflow:loss = 3.2127485, step = 2000 (0.333 sec)\n",
            "INFO:tensorflow:global_step/sec: 315.861\n",
            "INFO:tensorflow:loss = 3.0118954, step = 2100 (0.317 sec)\n",
            "INFO:tensorflow:global_step/sec: 316.487\n",
            "INFO:tensorflow:loss = 2.6724992, step = 2200 (0.310 sec)\n",
            "INFO:tensorflow:global_step/sec: 312.208\n",
            "INFO:tensorflow:loss = 2.8711605, step = 2300 (0.327 sec)\n",
            "INFO:tensorflow:global_step/sec: 318.741\n",
            "INFO:tensorflow:loss = 3.7479866, step = 2400 (0.314 sec)\n",
            "INFO:tensorflow:global_step/sec: 310.158\n",
            "INFO:tensorflow:loss = 3.909203, step = 2500 (0.319 sec)\n",
            "INFO:tensorflow:global_step/sec: 286.934\n",
            "INFO:tensorflow:loss = 8.777609, step = 2600 (0.354 sec)\n",
            "INFO:tensorflow:global_step/sec: 302.707\n",
            "INFO:tensorflow:loss = 5.591481, step = 2700 (0.334 sec)\n",
            "INFO:tensorflow:global_step/sec: 295.38\n",
            "INFO:tensorflow:loss = 4.1930943, step = 2800 (0.329 sec)\n",
            "INFO:tensorflow:global_step/sec: 308.449\n",
            "INFO:tensorflow:loss = 2.4948726, step = 2900 (0.324 sec)\n",
            "INFO:tensorflow:global_step/sec: 311.131\n",
            "INFO:tensorflow:loss = 3.019104, step = 3000 (0.326 sec)\n",
            "INFO:tensorflow:global_step/sec: 307.387\n",
            "INFO:tensorflow:loss = 5.7233424, step = 3100 (0.332 sec)\n",
            "INFO:tensorflow:global_step/sec: 306.421\n",
            "INFO:tensorflow:loss = 6.437401, step = 3200 (0.322 sec)\n",
            "INFO:tensorflow:global_step/sec: 298.942\n",
            "INFO:tensorflow:loss = 7.3475933, step = 3300 (0.335 sec)\n",
            "INFO:tensorflow:global_step/sec: 295.331\n",
            "INFO:tensorflow:loss = 12.363923, step = 3400 (0.344 sec)\n",
            "INFO:tensorflow:global_step/sec: 301.958\n",
            "INFO:tensorflow:loss = 4.1439323, step = 3500 (0.330 sec)\n",
            "INFO:tensorflow:global_step/sec: 333.741\n",
            "INFO:tensorflow:loss = 3.4600232, step = 3600 (0.288 sec)\n",
            "INFO:tensorflow:global_step/sec: 330.345\n",
            "INFO:tensorflow:loss = 4.307414, step = 3700 (0.305 sec)\n",
            "INFO:tensorflow:global_step/sec: 317.021\n",
            "INFO:tensorflow:loss = 3.1307237, step = 3800 (0.320 sec)\n",
            "INFO:tensorflow:global_step/sec: 320.085\n",
            "INFO:tensorflow:loss = 7.942929, step = 3900 (0.313 sec)\n",
            "INFO:tensorflow:global_step/sec: 334.028\n",
            "INFO:tensorflow:loss = 2.8908744, step = 4000 (0.302 sec)\n",
            "INFO:tensorflow:global_step/sec: 299.648\n",
            "INFO:tensorflow:loss = 1.6650813, step = 4100 (0.335 sec)\n",
            "INFO:tensorflow:global_step/sec: 312.396\n",
            "INFO:tensorflow:loss = 7.2479544, step = 4200 (0.321 sec)\n",
            "INFO:tensorflow:global_step/sec: 324.307\n",
            "INFO:tensorflow:loss = 4.9096007, step = 4300 (0.310 sec)\n",
            "INFO:tensorflow:global_step/sec: 315.882\n",
            "INFO:tensorflow:loss = 4.3701262, step = 4400 (0.312 sec)\n",
            "INFO:tensorflow:global_step/sec: 319.176\n",
            "INFO:tensorflow:loss = 5.8498774, step = 4500 (0.310 sec)\n",
            "INFO:tensorflow:global_step/sec: 346.609\n",
            "INFO:tensorflow:loss = 3.411504, step = 4600 (0.283 sec)\n",
            "INFO:tensorflow:global_step/sec: 335.633\n",
            "INFO:tensorflow:loss = 4.0361547, step = 4700 (0.306 sec)\n",
            "INFO:tensorflow:global_step/sec: 302.77\n",
            "INFO:tensorflow:loss = 1.5653796, step = 4800 (0.328 sec)\n",
            "INFO:tensorflow:global_step/sec: 320.294\n",
            "INFO:tensorflow:loss = 7.5616484, step = 4900 (0.305 sec)\n",
            "INFO:tensorflow:Calling checkpoint listeners before saving checkpoint 5000...\n",
            "INFO:tensorflow:Saving checkpoints for 5000 into /tmp/tmpy_y2nvew/model.ckpt.\n",
            "INFO:tensorflow:Calling checkpoint listeners after saving checkpoint 5000...\n",
            "INFO:tensorflow:Loss for final step: 3.5253959.\n"
          ],
          "name": "stdout"
        },
        {
          "output_type": "execute_result",
          "data": {
            "text/plain": [
              "<tensorflow_estimator.python.estimator.canned.linear.LinearClassifier at 0x7fbd42e5b9b0>"
            ]
          },
          "metadata": {
            "tags": []
          },
          "execution_count": 10
        }
      ]
    },
    {
      "cell_type": "markdown",
      "metadata": {
        "id": "mGXDG5tKuXbT",
        "colab_type": "text"
      },
      "source": [
        "Create a prediction input function"
      ]
    },
    {
      "cell_type": "code",
      "metadata": {
        "id": "j8Bc4rUQuX-0",
        "colab_type": "code",
        "colab": {}
      },
      "source": [
        "pred_fn = tf.compat.v1.estimator.inputs.pandas_input_fn(\n",
        "    x=x_test,batch_size=len(x_test),shuffle=False)"
      ],
      "execution_count": 0,
      "outputs": []
    },
    {
      "cell_type": "markdown",
      "metadata": {
        "id": "E8SeyvPJujfY",
        "colab_type": "text"
      },
      "source": [
        "Use model.predict() and pass in your input function"
      ]
    },
    {
      "cell_type": "code",
      "metadata": {
        "id": "Wlsi-v8bunA_",
        "colab_type": "code",
        "outputId": "b2ad00c9-cf46-45e9-a608-f6c31e4eac2d",
        "colab": {
          "base_uri": "https://localhost:8080/",
          "height": 356
        }
      },
      "source": [
        "predictions = list(model.predict(input_fn=pred_fn))\n",
        "predictions[0]"
      ],
      "execution_count": 0,
      "outputs": [
        {
          "output_type": "stream",
          "text": [
            "INFO:tensorflow:Calling model_fn.\n",
            "WARNING:tensorflow:Layer linear_model is casting an input tensor from dtype float64 to the layer's dtype of float32, which is new behavior in TensorFlow 2.  The layer has dtype float32 because it's dtype defaults to floatx.\n",
            "\n",
            "If you intended to run this layer in float32, you can safely ignore this warning. If in doubt, this warning is likely only an issue if you are porting a TensorFlow 1.X model to TensorFlow 2.\n",
            "\n",
            "To change all layers to have dtype float64 by default, call `tf.keras.backend.set_floatx('float64')`. To change just this layer, pass dtype='float64' to the layer constructor. If you are the author of this layer, you can disable autocasting by passing autocast=False to the base Layer constructor.\n",
            "\n",
            "INFO:tensorflow:Done calling model_fn.\n",
            "INFO:tensorflow:Graph was finalized.\n",
            "INFO:tensorflow:Restoring parameters from /tmp/tmpy_y2nvew/model.ckpt-5000\n",
            "INFO:tensorflow:Running local_init_op.\n",
            "INFO:tensorflow:Done running local_init_op.\n"
          ],
          "name": "stdout"
        },
        {
          "output_type": "execute_result",
          "data": {
            "text/plain": [
              "{'all_class_ids': array([0, 1], dtype=int32),\n",
              " 'all_classes': array([b'0', b'1'], dtype=object),\n",
              " 'class_ids': array([1]),\n",
              " 'classes': array([b'1'], dtype=object),\n",
              " 'logistic': array([0.99800634], dtype=float32),\n",
              " 'logits': array([6.215778], dtype=float32),\n",
              " 'probabilities': array([0.00199368, 0.9980063 ], dtype=float32)}"
            ]
          },
          "metadata": {
            "tags": []
          },
          "execution_count": 12
        }
      ]
    },
    {
      "cell_type": "markdown",
      "metadata": {
        "id": "4myS50afuwmV",
        "colab_type": "text"
      },
      "source": [
        "Create a list of only the class_ids key values from the prediction list of dictionaries, these are the predictions you will use to compare against the real y_test values"
      ]
    },
    {
      "cell_type": "code",
      "metadata": {
        "id": "JrR5PzHeuxJA",
        "colab_type": "code",
        "outputId": "259700f1-93ea-4c9c-d3ea-c3b5e9c519f8",
        "colab": {
          "base_uri": "https://localhost:8080/",
          "height": 34
        }
      },
      "source": [
        "final_preds = []\n",
        "for pred in predictions:\n",
        "    final_preds.append(pred['class_ids'][0])\n",
        "\n",
        "final_preds[:20]"
      ],
      "execution_count": 0,
      "outputs": [
        {
          "output_type": "execute_result",
          "data": {
            "text/plain": [
              "[1, 1, 0, 0, 0, 0, 0, 0, 0, 1, 0, 0, 0, 1, 1, 0, 1, 1, 1, 0]"
            ]
          },
          "metadata": {
            "tags": []
          },
          "execution_count": 13
        }
      ]
    },
    {
      "cell_type": "code",
      "metadata": {
        "id": "GsE7I-gwuzIX",
        "colab_type": "code",
        "colab": {}
      },
      "source": [
        "eval_input_func = tf.compat.v1.estimator.inputs.pandas_input_fn(\n",
        "    x=x_test,y=y_test,batch_size=len(x_test),shuffle=False)"
      ],
      "execution_count": 0,
      "outputs": []
    },
    {
      "cell_type": "code",
      "metadata": {
        "id": "TpVFQMk7u5IK",
        "colab_type": "code",
        "outputId": "ad844a84-b2a1-4202-ffdf-2425ce64d869",
        "colab": {
          "base_uri": "https://localhost:8080/",
          "height": 168
        }
      },
      "source": [
        "print(classification_report(y_test,final_preds))"
      ],
      "execution_count": 0,
      "outputs": [
        {
          "output_type": "stream",
          "text": [
            "              precision    recall  f1-score   support\n",
            "\n",
            "           0       0.77      0.87      0.82      1121\n",
            "           1       0.82      0.71      0.76       972\n",
            "\n",
            "    accuracy                           0.79      2093\n",
            "   macro avg       0.80      0.79      0.79      2093\n",
            "weighted avg       0.80      0.79      0.79      2093\n",
            "\n"
          ],
          "name": "stdout"
        }
      ]
    },
    {
      "cell_type": "code",
      "metadata": {
        "id": "TTTMyZF_u71J",
        "colab_type": "code",
        "outputId": "d0f1df6e-6c16-451c-d36c-906cb7487466",
        "colab": {
          "base_uri": "https://localhost:8080/",
          "height": 591
        }
      },
      "source": [
        "results = model.evaluate(eval_input_func)\n",
        "results"
      ],
      "execution_count": 0,
      "outputs": [
        {
          "output_type": "stream",
          "text": [
            "INFO:tensorflow:Calling model_fn.\n",
            "WARNING:tensorflow:Layer linear_model is casting an input tensor from dtype float64 to the layer's dtype of float32, which is new behavior in TensorFlow 2.  The layer has dtype float32 because it's dtype defaults to floatx.\n",
            "\n",
            "If you intended to run this layer in float32, you can safely ignore this warning. If in doubt, this warning is likely only an issue if you are porting a TensorFlow 1.X model to TensorFlow 2.\n",
            "\n",
            "To change all layers to have dtype float64 by default, call `tf.keras.backend.set_floatx('float64')`. To change just this layer, pass dtype='float64' to the layer constructor. If you are the author of this layer, you can disable autocasting by passing autocast=False to the base Layer constructor.\n",
            "\n",
            "WARNING:tensorflow:From /usr/local/lib/python3.6/dist-packages/tensorflow_estimator/python/estimator/canned/head.py:642: auc (from tensorflow.python.ops.metrics_impl) is deprecated and will be removed in a future version.\n",
            "Instructions for updating:\n",
            "The value of AUC returned by this may race with the update so this is deprecated. Please use tf.keras.metrics.AUC instead.\n",
            "WARNING:tensorflow:Trapezoidal rule is known to produce incorrect PR-AUCs; please switch to \"careful_interpolation\" instead.\n",
            "WARNING:tensorflow:Trapezoidal rule is known to produce incorrect PR-AUCs; please switch to \"careful_interpolation\" instead.\n",
            "INFO:tensorflow:Done calling model_fn.\n",
            "INFO:tensorflow:Starting evaluation at 2020-03-28T06:11:33Z\n",
            "INFO:tensorflow:Graph was finalized.\n",
            "INFO:tensorflow:Restoring parameters from /tmp/tmpy_y2nvew/model.ckpt-5000\n",
            "INFO:tensorflow:Running local_init_op.\n",
            "INFO:tensorflow:Done running local_init_op.\n",
            "INFO:tensorflow:Inference Time : 0.84984s\n",
            "INFO:tensorflow:Finished evaluation at 2020-03-28-06:11:34\n",
            "INFO:tensorflow:Saving dict for global step 5000: accuracy = 0.7935977, accuracy_baseline = 0.5355948, auc = 0.87767804, auc_precision_recall = 0.8414324, average_loss = 0.4563462, global_step = 5000, label/mean = 0.46440515, loss = 955.1326, precision = 0.8214286, prediction/mean = 0.43476364, recall = 0.70987654\n",
            "INFO:tensorflow:Saving 'checkpoint_path' summary for global step 5000: /tmp/tmpy_y2nvew/model.ckpt-5000\n"
          ],
          "name": "stdout"
        },
        {
          "output_type": "execute_result",
          "data": {
            "text/plain": [
              "{'accuracy': 0.7935977,\n",
              " 'accuracy_baseline': 0.5355948,\n",
              " 'auc': 0.87767804,\n",
              " 'auc_precision_recall': 0.8414324,\n",
              " 'average_loss': 0.4563462,\n",
              " 'global_step': 5000,\n",
              " 'label/mean': 0.46440515,\n",
              " 'loss': 955.1326,\n",
              " 'precision': 0.8214286,\n",
              " 'prediction/mean': 0.43476364,\n",
              " 'recall': 0.70987654}"
            ]
          },
          "metadata": {
            "tags": []
          },
          "execution_count": 16
        }
      ]
    }
  ]
}